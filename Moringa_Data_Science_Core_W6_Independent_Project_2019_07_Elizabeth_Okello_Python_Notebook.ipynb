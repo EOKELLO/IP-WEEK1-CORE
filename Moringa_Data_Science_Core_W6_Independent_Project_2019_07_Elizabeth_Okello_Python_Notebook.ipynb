{
  "nbformat": 4,
  "nbformat_minor": 0,
  "metadata": {
    "colab": {
      "name": "Moringa_Data_Science_Core_W6_Independent_Project_2019_07_Elizabeth_Okello_Python Notebook",
      "version": "0.3.2",
      "provenance": [],
      "toc_visible": true,
      "include_colab_link": true
    },
    "kernelspec": {
      "name": "python3",
      "display_name": "Python 3"
    }
  },
  "cells": [
    {
      "cell_type": "markdown",
      "metadata": {
        "id": "view-in-github",
        "colab_type": "text"
      },
      "source": [
        "<a href=\"https://colab.research.google.com/github/EOKELLO/IP-WEEK1-CORE/blob/master/Moringa_Data_Science_Core_W6_Independent_Project_2019_07_Elizabeth_Okello_Python_Notebook.ipynb\" target=\"_parent\"><img src=\"https://colab.research.google.com/assets/colab-badge.svg\" alt=\"Open In Colab\"/></a>"
      ]
    },
    {
      "cell_type": "code",
      "metadata": {
        "id": "EjlQHuiwgiM4",
        "colab_type": "code",
        "colab": {}
      },
      "source": [
        ""
      ],
      "execution_count": 0,
      "outputs": []
    },
    {
      "cell_type": "markdown",
      "metadata": {
        "id": "DKkaLU8Lgsnp",
        "colab_type": "text"
      },
      "source": [
        ""
      ]
    },
    {
      "cell_type": "markdown",
      "metadata": {
        "id": "3xTM7p_tgsqt",
        "colab_type": "text"
      },
      "source": [
        "# **Research** **Objective**"
      ]
    },
    {
      "cell_type": "markdown",
      "metadata": {
        "id": "ErK_9HobgpPo",
        "colab_type": "text"
      },
      "source": [
        "A Prediction result of a game between team 1 and team 2, based on who's home and who's away, and on whether or not the game is friendly"
      ]
    },
    {
      "cell_type": "markdown",
      "metadata": {
        "id": "bf7D_SUfgxMX",
        "colab_type": "text"
      },
      "source": [
        "# **Metric for success**"
      ]
    },
    {
      "cell_type": "markdown",
      "metadata": {
        "id": "kPvlruyvm6Fs",
        "colab_type": "text"
      },
      "source": [
        "The initial system was very simple, with no weighting for the quality of opponent or importance of a match"
      ]
    },
    {
      "cell_type": "markdown",
      "metadata": {
        "id": "-GTlZqskg4LK",
        "colab_type": "text"
      },
      "source": [
        "# **The context**"
      ]
    },
    {
      "cell_type": "markdown",
      "metadata": {
        "id": "FI9Ovb0OgPuv",
        "colab_type": "text"
      },
      "source": [
        " The teams of the men's member nations of FIFA, football's world governing body, are ranked based on their game results with the most successful teams being ranked highest. The rankings were introduced in December 1992, and eight teams (Argentina, Belgium, Brazil, France, Germany, Italy, the Netherlands and Spain) have held the top position, of which Brazil have spent the longest ranked first.\n",
        " \n",
        " A points system is used, with points being awarded based on the results of all FIFA-recognised full international matches.\n",
        " \n",
        " Significant changes were implemented in January 1999 and again in July 2006, as a reaction to criticisms of the system.\n",
        " \n",
        " [3] Historical records of the rankings, such as listed at FIFA.com, reflect the method of calculation in use at the time, as the current method has not been applied retrospectively to rankings prior to July 2006. Membership of FIFA has expanded from 167 to 211 since the rankings began; all 211 members are currently included in the rankings.\n",
        " \n",
        " The major changes were as follows:\n",
        "\n",
        "a.the point ranking was scaled up by a factor of ten\n",
        "b.the method of calculation was changed to take into account factors including:\n",
        "c.the number of goals scored or conceded\n",
        "d.whether the match was played at home or away\n",
        "e.the importance of a match or competition\n",
        "f.regional strength\n",
        "a fixed number of points were no longer necessarily awarded for a victory or a draw\n",
        "match losers were able to earn points\n",
        "Two new awards were introduced as part of the system:\n",
        "\n",
        "Team of the Year\n",
        "Best Mover of the Year\n",
        "The changes made the ranking system more complex, but helped improve its accuracy by making it more comprehensive.\n",
        "\n",
        "Goals scored and home or away advantage were no longer taken into account, and other aspects of the calculations, including the importance attributed to different types of match, were revised. The first set of revised rankings and the calculation methodology were announced on 12 July 2006.\n",
        "\n",
        "FIFA announced on 10 June 2018 that the ranking system would be updated following the 2018 World Cup. The calculation method to be adopted will be closely modeled after the Elo rating system and rankings of its member associations will be updated on a game-by-game basis. The weighting designated for each confederation for ranking purposes will be abolished\n",
        "\n",
        "However, the new methodology does not account for home or away games and margin of the victory, as Elo rankings\n",
        "\n",
        " FIFA had originally planned to use existing world ranking points from June 2018 as the start value, but when the August rankings appeared, the starting points had been changed to an equal distribution of points between 1600 (Germany, as the previously top ranked team) and 868 (Anguilla, Bahamas, Eritrea, Somalia, Tonga and Turks and Caicos Islands, which had 0 points in June), according to the formula:\n",
        " \n",
        " "
      ]
    },
    {
      "cell_type": "markdown",
      "metadata": {
        "id": "S-TBwmq0g-9d",
        "colab_type": "text"
      },
      "source": [
        "# **Experimental design**"
      ]
    },
    {
      "cell_type": "markdown",
      "metadata": {
        "id": "aZ2h8i99fbSM",
        "colab_type": "text"
      },
      "source": [
        "create parameters using Input: Home team, Away team, Tournament type (World cup, Friendly, Other)\n",
        "as i work rank should be part of my training set\n"
      ]
    },
    {
      "cell_type": "markdown",
      "metadata": {
        "id": "ALCSQ3aZna0V",
        "colab_type": "text"
      },
      "source": [
        "Further adaptations in 2006 were made to reduce the number of years' results considered from 8 to 4,[20][21] with greater reliance on matches from within the previous 12 months."
      ]
    },
    {
      "cell_type": "markdown",
      "metadata": {
        "id": "R1mt5Cf_hGVV",
        "colab_type": "text"
      },
      "source": [
        "# **Appropriateness of the data**"
      ]
    },
    {
      "cell_type": "markdown",
      "metadata": {
        "id": "hLnqP-fGhO8H",
        "colab_type": "text"
      },
      "source": [
        "# **Importing Libraries**"
      ]
    },
    {
      "cell_type": "code",
      "metadata": {
        "id": "d-6kvNudhWVO",
        "colab_type": "code",
        "colab": {}
      },
      "source": [
        "import numpy as np\n",
        "import pandas as pd\n",
        "import seaborn as sns\n",
        "import matplotlib.pyplot as plt\n",
        "import sklearn\n",
        "from sklearn.linear_model import LinearRegression\n",
        "from sklearn.model_selection import train_test_split\n",
        "from sklearn import metrics\n"
      ],
      "execution_count": 0,
      "outputs": []
    },
    {
      "cell_type": "code",
      "metadata": {
        "id": "4e7Gnfg_jVHR",
        "colab_type": "code",
        "colab": {
          "base_uri": "https://localhost:8080/",
          "height": 309
        },
        "outputId": "4d76aa0f-85f0-498e-d099-bfcced0f88e8"
      },
      "source": [
        "#loading our datasets\n",
        "ranking = pd.read_csv('fifa_ranking.csv')\n",
        "ranking.head()\n",
        " "
      ],
      "execution_count": 6,
      "outputs": [
        {
          "output_type": "execute_result",
          "data": {
            "text/html": [
              "<div>\n",
              "<style scoped>\n",
              "    .dataframe tbody tr th:only-of-type {\n",
              "        vertical-align: middle;\n",
              "    }\n",
              "\n",
              "    .dataframe tbody tr th {\n",
              "        vertical-align: top;\n",
              "    }\n",
              "\n",
              "    .dataframe thead th {\n",
              "        text-align: right;\n",
              "    }\n",
              "</style>\n",
              "<table border=\"1\" class=\"dataframe\">\n",
              "  <thead>\n",
              "    <tr style=\"text-align: right;\">\n",
              "      <th></th>\n",
              "      <th>rank</th>\n",
              "      <th>country_full</th>\n",
              "      <th>country_abrv</th>\n",
              "      <th>total_points</th>\n",
              "      <th>previous_points</th>\n",
              "      <th>rank_change</th>\n",
              "      <th>cur_year_avg</th>\n",
              "      <th>cur_year_avg_weighted</th>\n",
              "      <th>last_year_avg</th>\n",
              "      <th>last_year_avg_weighted</th>\n",
              "      <th>two_year_ago_avg</th>\n",
              "      <th>two_year_ago_weighted</th>\n",
              "      <th>three_year_ago_avg</th>\n",
              "      <th>three_year_ago_weighted</th>\n",
              "      <th>confederation</th>\n",
              "      <th>rank_date</th>\n",
              "    </tr>\n",
              "  </thead>\n",
              "  <tbody>\n",
              "    <tr>\n",
              "      <th>0</th>\n",
              "      <td>1</td>\n",
              "      <td>Germany</td>\n",
              "      <td>GER</td>\n",
              "      <td>0.0</td>\n",
              "      <td>57</td>\n",
              "      <td>0</td>\n",
              "      <td>0.0</td>\n",
              "      <td>0.0</td>\n",
              "      <td>0.0</td>\n",
              "      <td>0.0</td>\n",
              "      <td>0.0</td>\n",
              "      <td>0.0</td>\n",
              "      <td>0.0</td>\n",
              "      <td>0.0</td>\n",
              "      <td>UEFA</td>\n",
              "      <td>1993-08-08</td>\n",
              "    </tr>\n",
              "    <tr>\n",
              "      <th>1</th>\n",
              "      <td>2</td>\n",
              "      <td>Italy</td>\n",
              "      <td>ITA</td>\n",
              "      <td>0.0</td>\n",
              "      <td>57</td>\n",
              "      <td>0</td>\n",
              "      <td>0.0</td>\n",
              "      <td>0.0</td>\n",
              "      <td>0.0</td>\n",
              "      <td>0.0</td>\n",
              "      <td>0.0</td>\n",
              "      <td>0.0</td>\n",
              "      <td>0.0</td>\n",
              "      <td>0.0</td>\n",
              "      <td>UEFA</td>\n",
              "      <td>1993-08-08</td>\n",
              "    </tr>\n",
              "    <tr>\n",
              "      <th>2</th>\n",
              "      <td>3</td>\n",
              "      <td>Switzerland</td>\n",
              "      <td>SUI</td>\n",
              "      <td>0.0</td>\n",
              "      <td>50</td>\n",
              "      <td>9</td>\n",
              "      <td>0.0</td>\n",
              "      <td>0.0</td>\n",
              "      <td>0.0</td>\n",
              "      <td>0.0</td>\n",
              "      <td>0.0</td>\n",
              "      <td>0.0</td>\n",
              "      <td>0.0</td>\n",
              "      <td>0.0</td>\n",
              "      <td>UEFA</td>\n",
              "      <td>1993-08-08</td>\n",
              "    </tr>\n",
              "    <tr>\n",
              "      <th>3</th>\n",
              "      <td>4</td>\n",
              "      <td>Sweden</td>\n",
              "      <td>SWE</td>\n",
              "      <td>0.0</td>\n",
              "      <td>55</td>\n",
              "      <td>0</td>\n",
              "      <td>0.0</td>\n",
              "      <td>0.0</td>\n",
              "      <td>0.0</td>\n",
              "      <td>0.0</td>\n",
              "      <td>0.0</td>\n",
              "      <td>0.0</td>\n",
              "      <td>0.0</td>\n",
              "      <td>0.0</td>\n",
              "      <td>UEFA</td>\n",
              "      <td>1993-08-08</td>\n",
              "    </tr>\n",
              "    <tr>\n",
              "      <th>4</th>\n",
              "      <td>5</td>\n",
              "      <td>Argentina</td>\n",
              "      <td>ARG</td>\n",
              "      <td>0.0</td>\n",
              "      <td>51</td>\n",
              "      <td>5</td>\n",
              "      <td>0.0</td>\n",
              "      <td>0.0</td>\n",
              "      <td>0.0</td>\n",
              "      <td>0.0</td>\n",
              "      <td>0.0</td>\n",
              "      <td>0.0</td>\n",
              "      <td>0.0</td>\n",
              "      <td>0.0</td>\n",
              "      <td>CONMEBOL</td>\n",
              "      <td>1993-08-08</td>\n",
              "    </tr>\n",
              "  </tbody>\n",
              "</table>\n",
              "</div>"
            ],
            "text/plain": [
              "   rank country_full  ... confederation   rank_date\n",
              "0     1      Germany  ...          UEFA  1993-08-08\n",
              "1     2        Italy  ...          UEFA  1993-08-08\n",
              "2     3  Switzerland  ...          UEFA  1993-08-08\n",
              "3     4       Sweden  ...          UEFA  1993-08-08\n",
              "4     5    Argentina  ...      CONMEBOL  1993-08-08\n",
              "\n",
              "[5 rows x 16 columns]"
            ]
          },
          "metadata": {
            "tags": []
          },
          "execution_count": 6
        }
      ]
    },
    {
      "cell_type": "code",
      "metadata": {
        "id": "HNop8AQysyV8",
        "colab_type": "code",
        "colab": {
          "base_uri": "https://localhost:8080/",
          "height": 34
        },
        "outputId": "cfbee70f-a2a1-4e27-f8eb-fddc8edc86b9"
      },
      "source": [
        "ranking['last_year_avg'].unique()"
      ],
      "execution_count": 19,
      "outputs": [
        {
          "output_type": "execute_result",
          "data": {
            "text/plain": [
              "array([   0.  ,  976.46, 1074.04, ...,   65.66,   65.52,   11.74])"
            ]
          },
          "metadata": {
            "tags": []
          },
          "execution_count": 19
        }
      ]
    },
    {
      "cell_type": "code",
      "metadata": {
        "id": "sOrkpzdvoZiW",
        "colab_type": "code",
        "colab": {
          "base_uri": "https://localhost:8080/",
          "height": 34
        },
        "outputId": "1322a218-4576-44f2-eced-d4b93a2292c5"
      },
      "source": [
        "ranking.shape"
      ],
      "execution_count": 11,
      "outputs": [
        {
          "output_type": "execute_result",
          "data": {
            "text/plain": [
              "(57793, 16)"
            ]
          },
          "metadata": {
            "tags": []
          },
          "execution_count": 11
        }
      ]
    },
    {
      "cell_type": "code",
      "metadata": {
        "id": "sa6rrVGLofU1",
        "colab_type": "code",
        "colab": {
          "base_uri": "https://localhost:8080/",
          "height": 306
        },
        "outputId": "b1f85f83-7fcf-47ce-8c87-2018af9bbd3d"
      },
      "source": [
        "ranking.isnull().sum()"
      ],
      "execution_count": 12,
      "outputs": [
        {
          "output_type": "execute_result",
          "data": {
            "text/plain": [
              "rank                       0\n",
              "country_full               0\n",
              "country_abrv               0\n",
              "total_points               0\n",
              "previous_points            0\n",
              "rank_change                0\n",
              "cur_year_avg               0\n",
              "cur_year_avg_weighted      0\n",
              "last_year_avg              0\n",
              "last_year_avg_weighted     0\n",
              "two_year_ago_avg           0\n",
              "two_year_ago_weighted      0\n",
              "three_year_ago_avg         0\n",
              "three_year_ago_weighted    0\n",
              "confederation              0\n",
              "rank_date                  0\n",
              "dtype: int64"
            ]
          },
          "metadata": {
            "tags": []
          },
          "execution_count": 12
        }
      ]
    },
    {
      "cell_type": "code",
      "metadata": {
        "id": "xOy7I_2Hlv5y",
        "colab_type": "code",
        "colab": {
          "base_uri": "https://localhost:8080/",
          "height": 204
        },
        "outputId": "0c703d76-5eb8-49be-9703-9d0e2f4f0865"
      },
      "source": [
        "results = pd.read_csv('results.csv')\n",
        "results.head()"
      ],
      "execution_count": 8,
      "outputs": [
        {
          "output_type": "execute_result",
          "data": {
            "text/html": [
              "<div>\n",
              "<style scoped>\n",
              "    .dataframe tbody tr th:only-of-type {\n",
              "        vertical-align: middle;\n",
              "    }\n",
              "\n",
              "    .dataframe tbody tr th {\n",
              "        vertical-align: top;\n",
              "    }\n",
              "\n",
              "    .dataframe thead th {\n",
              "        text-align: right;\n",
              "    }\n",
              "</style>\n",
              "<table border=\"1\" class=\"dataframe\">\n",
              "  <thead>\n",
              "    <tr style=\"text-align: right;\">\n",
              "      <th></th>\n",
              "      <th>date</th>\n",
              "      <th>home_team</th>\n",
              "      <th>away_team</th>\n",
              "      <th>home_score</th>\n",
              "      <th>away_score</th>\n",
              "      <th>tournament</th>\n",
              "      <th>city</th>\n",
              "      <th>country</th>\n",
              "      <th>neutral</th>\n",
              "    </tr>\n",
              "  </thead>\n",
              "  <tbody>\n",
              "    <tr>\n",
              "      <th>0</th>\n",
              "      <td>1872-11-30</td>\n",
              "      <td>Scotland</td>\n",
              "      <td>England</td>\n",
              "      <td>0</td>\n",
              "      <td>0</td>\n",
              "      <td>Friendly</td>\n",
              "      <td>Glasgow</td>\n",
              "      <td>Scotland</td>\n",
              "      <td>False</td>\n",
              "    </tr>\n",
              "    <tr>\n",
              "      <th>1</th>\n",
              "      <td>1873-03-08</td>\n",
              "      <td>England</td>\n",
              "      <td>Scotland</td>\n",
              "      <td>4</td>\n",
              "      <td>2</td>\n",
              "      <td>Friendly</td>\n",
              "      <td>London</td>\n",
              "      <td>England</td>\n",
              "      <td>False</td>\n",
              "    </tr>\n",
              "    <tr>\n",
              "      <th>2</th>\n",
              "      <td>1874-03-07</td>\n",
              "      <td>Scotland</td>\n",
              "      <td>England</td>\n",
              "      <td>2</td>\n",
              "      <td>1</td>\n",
              "      <td>Friendly</td>\n",
              "      <td>Glasgow</td>\n",
              "      <td>Scotland</td>\n",
              "      <td>False</td>\n",
              "    </tr>\n",
              "    <tr>\n",
              "      <th>3</th>\n",
              "      <td>1875-03-06</td>\n",
              "      <td>England</td>\n",
              "      <td>Scotland</td>\n",
              "      <td>2</td>\n",
              "      <td>2</td>\n",
              "      <td>Friendly</td>\n",
              "      <td>London</td>\n",
              "      <td>England</td>\n",
              "      <td>False</td>\n",
              "    </tr>\n",
              "    <tr>\n",
              "      <th>4</th>\n",
              "      <td>1876-03-04</td>\n",
              "      <td>Scotland</td>\n",
              "      <td>England</td>\n",
              "      <td>3</td>\n",
              "      <td>0</td>\n",
              "      <td>Friendly</td>\n",
              "      <td>Glasgow</td>\n",
              "      <td>Scotland</td>\n",
              "      <td>False</td>\n",
              "    </tr>\n",
              "  </tbody>\n",
              "</table>\n",
              "</div>"
            ],
            "text/plain": [
              "         date home_team away_team  ...     city   country neutral\n",
              "0  1872-11-30  Scotland   England  ...  Glasgow  Scotland   False\n",
              "1  1873-03-08   England  Scotland  ...   London   England   False\n",
              "2  1874-03-07  Scotland   England  ...  Glasgow  Scotland   False\n",
              "3  1875-03-06   England  Scotland  ...   London   England   False\n",
              "4  1876-03-04  Scotland   England  ...  Glasgow  Scotland   False\n",
              "\n",
              "[5 rows x 9 columns]"
            ]
          },
          "metadata": {
            "tags": []
          },
          "execution_count": 8
        }
      ]
    },
    {
      "cell_type": "code",
      "metadata": {
        "id": "2iM7wvKSqcTh",
        "colab_type": "code",
        "colab": {
          "base_uri": "https://localhost:8080/",
          "height": 1000
        },
        "outputId": "255f2053-f6b6-4720-9760-18dbf75e2e6f"
      },
      "source": [
        "results['home_team'].unique()"
      ],
      "execution_count": 22,
      "outputs": [
        {
          "output_type": "execute_result",
          "data": {
            "text/plain": [
              "array(['Scotland', 'England', 'Wales', 'Northern Ireland',\n",
              "       'United States', 'Uruguay', 'Austria', 'Hungary', 'Argentina',\n",
              "       'Belgium', 'France', 'Netherlands', 'Czechoslovakia',\n",
              "       'Switzerland', 'Sweden', 'Germany', 'Italy', 'Chile', 'Norway',\n",
              "       'Finland', 'Luxembourg', 'Russia', 'Denmark', 'Catalonia',\n",
              "       'Basque Country', 'Brazil', 'Japan', 'Paraguay', 'Canada',\n",
              "       'Estonia', 'Costa Rica', 'Guatemala', 'Spain', 'Brittany',\n",
              "       'Poland', 'Yugoslavia', 'New Zealand', 'Romania', 'Latvia',\n",
              "       'Galicia', 'Portugal', 'Andalusia', 'China PR', 'Australia',\n",
              "       'Lithuania', 'Turkey', 'Central Spain', 'Mexico', 'Aruba', 'Egypt',\n",
              "       'Haiti', 'Philippines', 'Bulgaria', 'Jamaica', 'Kenya', 'Bolivia',\n",
              "       'Peru', 'Honduras', 'Guyana', 'Uganda', 'Belarus', 'El Salvador',\n",
              "       'Barbados', 'Republic of Ireland', 'Trinidad and Tobago', 'Greece',\n",
              "       'Curaçao', 'Dominica', 'Silesia', 'Guadeloupe', 'Israel',\n",
              "       'Suriname', 'French Guiana', 'Cuba', 'Colombia', 'Ecuador',\n",
              "       'Saint Kitts and Nevis', 'Panama', 'Slovakia', 'Manchukuo',\n",
              "       'Croatia', 'Nicaragua', 'Afghanistan', 'India', 'Martinique',\n",
              "       'Zimbabwe', 'Iceland', 'Albania', 'Madagascar', 'Zambia',\n",
              "       'Mauritius', 'Tanzania', 'Iran', 'Djibouti', 'DR Congo', 'Vietnam',\n",
              "       'Macau', 'Ethiopia', 'Puerto Rico', 'Réunion', 'Sierra Leone',\n",
              "       'Zanzibar', 'South Korea', 'Ghana', 'South Africa',\n",
              "       'New Caledonia', 'Fiji', 'Nigeria', 'Venezuela', 'Burma',\n",
              "       'Sri Lanka', 'Tahiti', 'Gambia', 'Hong Kong', 'Singapore',\n",
              "       'Malaysia', 'Indonesia', 'Guinea-Bissau', 'German DR', 'Vanuatu',\n",
              "       'Kernow', 'Saarland', 'Cambodia', 'Lebanon', 'Pakistan',\n",
              "       'Vietnam Republic', 'North Korea', 'Togo', 'Sudan', 'Malta',\n",
              "       'Syria', 'Tunisia', 'Malawi', 'Morocco', 'Benin', 'Cameroon',\n",
              "       'Central African Republic', 'Gabon', 'Ivory Coast', 'Congo',\n",
              "       'Mali', 'North Vietnam', 'Mongolia', 'Chinese Taipei', 'Cyprus',\n",
              "       'Iraq', 'Saint Lucia', 'Grenada', 'Thailand', 'Senegal', 'Libya',\n",
              "       'Guinea', 'Algeria', 'Kuwait', 'Jordan', 'Solomon Islands',\n",
              "       'Liberia', 'Laos', 'Saint Vincent and the Grenadines', 'Bermuda',\n",
              "       'Niger', 'Bahrain', 'Montenegro', 'Palestine', 'Papua New Guinea',\n",
              "       'Burkina Faso', 'Mauritania', 'Saudi Arabia', 'Eswatini',\n",
              "       'Somalia', 'Lesotho', 'Cook Islands', 'Qatar',\n",
              "       'Antigua and Barbuda', 'Faroe Islands', 'Bangladesh', 'Oman',\n",
              "       'Yemen DPR', 'Burundi', 'Yemen', 'Mozambique', 'Guam', 'Chad',\n",
              "       'Angola', 'Dominican Republic', 'Seychelles', 'Rwanda',\n",
              "       'São Tomé and Príncipe', 'Botswana', 'Northern Cyprus',\n",
              "       'Cape Verde', 'Kyrgyzstan', 'Georgia', 'Azerbaijan', 'Kiribati',\n",
              "       'Tonga', 'Wallis Islands and Futuna', 'United Arab Emirates',\n",
              "       'Brunei', 'Equatorial Guinea', 'Liechtenstein', 'Nepal',\n",
              "       'Greenland', 'Niue', 'Samoa', 'American Samoa', 'Belize',\n",
              "       'Anguilla', 'Cayman Islands', 'Palau', 'Sint Maarten', 'Namibia',\n",
              "       'Åland Islands', 'Ynys Môn', 'Saint Martin', 'San Marino',\n",
              "       'Slovenia', 'Jersey', 'Shetland', 'Isle of Wight', 'Moldova',\n",
              "       'Ukraine', 'Kazakhstan', 'Tajikistan', 'Uzbekistan',\n",
              "       'Turkmenistan', 'Armenia', 'Czech Republic', 'Guernsey',\n",
              "       'Gibraltar', 'Isle of Man', 'North Macedonia', 'Montserrat',\n",
              "       'Serbia', 'Canary Islands', 'Bosnia and Herzegovina', 'Maldives',\n",
              "       'Andorra', 'British Virgin Islands', 'Frøya', 'Hitra',\n",
              "       'U.S. Virgin Islands', 'Corsica', 'Eritrea', 'Bahamas', 'Gotland',\n",
              "       'Saare County', 'Rhodes', 'Micronesia', 'Bhutan', 'Orkney',\n",
              "       'Monaco', 'Tuvalu', 'Sark', 'Alderney', 'Mayotte',\n",
              "       'Turks and Caicos Islands', 'East Timor', 'Western Isles',\n",
              "       'Falkland Islands', 'Kosovo', 'Republic of St. Pauli', 'Găgăuzia',\n",
              "       'Tibet', 'Crimea', 'Occitania', 'Sápmi',\n",
              "       'Northern Mariana Islands', 'Menorca', 'Comoros', 'Provence',\n",
              "       'Arameans Suryoye', 'Padania', 'Iraqi Kurdistan', 'Gozo',\n",
              "       'Bonaire', 'Western Sahara', 'Raetia', 'Darfur', 'Tamil Eelam',\n",
              "       'South Sudan', 'Abkhazia', 'St. Pierre & Miquelon', 'Artsakh',\n",
              "       'Madrid', 'Vatican City', 'Ellan Vannin', 'South Ossetia',\n",
              "       'County of Nice', 'Székely Land', 'Romani people', 'Felvidék',\n",
              "       'Chagos Islands', 'United Koreans in Japan', 'Somaliland',\n",
              "       'Western Armenia', 'Barawa', 'Kárpátalja', 'Yorkshire', 'Panjab',\n",
              "       'Matabeleland', 'Cascadia', 'Kabylia', 'Timor-Leste', 'Myanmar',\n",
              "       'Parishes of Jersey', 'Chameria', 'Saint Helena', 'Curacao'],\n",
              "      dtype=object)"
            ]
          },
          "metadata": {
            "tags": []
          },
          "execution_count": 22
        }
      ]
    },
    {
      "cell_type": "code",
      "metadata": {
        "id": "V3tgVt22jVEl",
        "colab_type": "code",
        "colab": {
          "base_uri": "https://localhost:8080/",
          "height": 34
        },
        "outputId": "8673ba03-3357-4262-9c04-b50bc25d3ddf"
      },
      "source": [
        "results.shape"
      ],
      "execution_count": 9,
      "outputs": [
        {
          "output_type": "execute_result",
          "data": {
            "text/plain": [
              "(40839, 9)"
            ]
          },
          "metadata": {
            "tags": []
          },
          "execution_count": 9
        }
      ]
    },
    {
      "cell_type": "code",
      "metadata": {
        "id": "xPGzE8tAoPEq",
        "colab_type": "code",
        "colab": {
          "base_uri": "https://localhost:8080/",
          "height": 187
        },
        "outputId": "88ff0531-171c-4ddd-b381-721ab663de02"
      },
      "source": [
        "results.isnull().sum()"
      ],
      "execution_count": 10,
      "outputs": [
        {
          "output_type": "execute_result",
          "data": {
            "text/plain": [
              "date          0\n",
              "home_team     0\n",
              "away_team     0\n",
              "home_score    0\n",
              "away_score    0\n",
              "tournament    0\n",
              "city          0\n",
              "country       0\n",
              "neutral       0\n",
              "dtype: int64"
            ]
          },
          "metadata": {
            "tags": []
          },
          "execution_count": 10
        }
      ]
    },
    {
      "cell_type": "code",
      "metadata": {
        "id": "5okCCXa6jVDo",
        "colab_type": "code",
        "colab": {}
      },
      "source": [
        ""
      ],
      "execution_count": 0,
      "outputs": []
    },
    {
      "cell_type": "code",
      "metadata": {
        "id": "bS_TPDFGjU7R",
        "colab_type": "code",
        "colab": {}
      },
      "source": [
        ""
      ],
      "execution_count": 0,
      "outputs": []
    }
  ]
}