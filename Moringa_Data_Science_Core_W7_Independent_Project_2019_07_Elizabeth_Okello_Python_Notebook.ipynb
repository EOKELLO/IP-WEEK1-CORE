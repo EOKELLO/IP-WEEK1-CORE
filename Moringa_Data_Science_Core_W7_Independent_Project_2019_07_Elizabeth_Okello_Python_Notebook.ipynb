{
  "nbformat": 4,
  "nbformat_minor": 0,
  "metadata": {
    "colab": {
      "name": "Moringa_Data_Science_Core_W7_Independent_Project_2019_07_Elizabeth_Okello_Python Notebook",
      "provenance": [],
      "collapsed_sections": [],
      "toc_visible": true,
      "machine_shape": "hm",
      "include_colab_link": true
    },
    "kernelspec": {
      "name": "python3",
      "display_name": "Python 3"
    },
    "accelerator": "GPU"
  },
  "cells": [
    {
      "cell_type": "markdown",
      "metadata": {
        "id": "view-in-github",
        "colab_type": "text"
      },
      "source": [
        "<a href=\"https://colab.research.google.com/github/EOKELLO/IP-WEEK1-CORE/blob/master/Moringa_Data_Science_Core_W7_Independent_Project_2019_07_Elizabeth_Okello_Python_Notebook.ipynb\" target=\"_parent\"><img src=\"https://colab.research.google.com/assets/colab-badge.svg\" alt=\"Open In Colab\"/></a>"
      ]
    },
    {
      "cell_type": "markdown",
      "metadata": {
        "id": "3xTM7p_tgsqt",
        "colab_type": "text"
      },
      "source": [
        "# **Research** **Objective**"
      ]
    },
    {
      "cell_type": "markdown",
      "metadata": {
        "id": "ErK_9HobgpPo",
        "colab_type": "text"
      },
      "source": [
        "1.Predict result of a game between team 1 and team 2, based on who's home and who's away, and on whether or not the game is friendly\n",
        "\n",
        "2.Figure out from the home team’s perspective if the game is a Win, Lose or Draw (W, L, D)\n",
        "\n",
        "3.To predict the rank of the teams "
      ]
    },
    {
      "cell_type": "markdown",
      "metadata": {
        "id": "bf7D_SUfgxMX",
        "colab_type": "text"
      },
      "source": [
        "# **Metric for success**"
      ]
    },
    {
      "cell_type": "markdown",
      "metadata": {
        "id": "kPvlruyvm6Fs",
        "colab_type": "text"
      },
      "source": [
        "Identify the variables that counted most whether engineering them or dropping the others and creating a model with an accuracy of  above 80% having taken care of all groups"
      ]
    },
    {
      "cell_type": "markdown",
      "metadata": {
        "id": "-GTlZqskg4LK",
        "colab_type": "text"
      },
      "source": [
        "# **The context**"
      ]
    },
    {
      "cell_type": "markdown",
      "metadata": {
        "id": "PIW0D4j6JsDX",
        "colab_type": "text"
      },
      "source": [
        "This was done in the context of available fifa data concerning the ELO ranking system and the ammendments that were to be done to ensure fare ranking of participating teams."
      ]
    },
    {
      "cell_type": "markdown",
      "metadata": {
        "id": "FI9Ovb0OgPuv",
        "colab_type": "text"
      },
      "source": [
        " \n",
        "\n"
      ]
    },
    {
      "cell_type": "markdown",
      "metadata": {
        "id": "S-TBwmq0g-9d",
        "colab_type": "text"
      },
      "source": [
        "# **Experimental design**"
      ]
    },
    {
      "cell_type": "markdown",
      "metadata": {
        "id": "ALCSQ3aZna0V",
        "colab_type": "text"
      },
      "source": [
        "\n",
        "\n",
        "Define the question, the metric for success, the context, experimental design taken and the appropriateness of the available data to answer the given question\n",
        "Expected flow for the assessment:\n",
        "- Perform your EDA\n",
        "- Perform any necessary feature engineering\n",
        "- Check of multicollinearity\n",
        "- Start building the model\n",
        "- Cross-validate the model\n",
        "- Compute RMSE\n",
        "- Create residual plots for your models, and assess their heteroscedasticity using Bartlett’s test\n",
        "Perform appropriate regressions on the data including your justification\n",
        "Challenge your solution by providing insights on how you can make improvements."
      ]
    },
    {
      "cell_type": "markdown",
      "metadata": {
        "id": "R1mt5Cf_hGVV",
        "colab_type": "text"
      },
      "source": [
        "# **Appropriateness of the data**"
      ]
    },
    {
      "cell_type": "markdown",
      "metadata": {
        "id": "As3U1V6UJcy2",
        "colab_type": "text"
      },
      "source": [
        "The dataset was appropriate in terms of relevance but for proper predictions more data was needed "
      ]
    },
    {
      "cell_type": "markdown",
      "metadata": {
        "id": "hLnqP-fGhO8H",
        "colab_type": "text"
      },
      "source": [
        "# **Importing Libraries**"
      ]
    },
    {
      "cell_type": "code",
      "metadata": {
        "id": "d-6kvNudhWVO",
        "colab_type": "code",
        "colab": {}
      },
      "source": [
        "import numpy as np\n",
        "import pandas as pd\n",
        "import seaborn as sns\n",
        "import matplotlib.pyplot as plt\n",
        "import sklearn\n",
        "from sklearn.linear_model import LinearRegression\n",
        "from sklearn.model_selection import train_test_split\n",
        "from sklearn import metrics\n",
        "from sklearn.preprocessing import PolynomialFeatures\n",
        "import warnings\n",
        "warnings.filterwarnings(\"ignore\")\n",
        "from patsy import dmatrices\n",
        "import statsmodels.api as sm\n",
        "from statsmodels.stats.outliers_influence import variance_inflation_factor\n"
      ],
      "execution_count": 0,
      "outputs": []
    },
    {
      "cell_type": "code",
      "metadata": {
        "id": "4e7Gnfg_jVHR",
        "colab_type": "code",
        "outputId": "ebad30b9-03e9-41f3-ab4f-7935177d2129",
        "colab": {
          "base_uri": "https://localhost:8080/",
          "height": 301
        }
      },
      "source": [
        "#loading our datasets\n",
        "ranking = pd.read_csv('fifa_ranking.csv')\n",
        "ranking.head()\n",
        " "
      ],
      "execution_count": 2,
      "outputs": [
        {
          "output_type": "execute_result",
          "data": {
            "text/html": [
              "<div>\n",
              "<style scoped>\n",
              "    .dataframe tbody tr th:only-of-type {\n",
              "        vertical-align: middle;\n",
              "    }\n",
              "\n",
              "    .dataframe tbody tr th {\n",
              "        vertical-align: top;\n",
              "    }\n",
              "\n",
              "    .dataframe thead th {\n",
              "        text-align: right;\n",
              "    }\n",
              "</style>\n",
              "<table border=\"1\" class=\"dataframe\">\n",
              "  <thead>\n",
              "    <tr style=\"text-align: right;\">\n",
              "      <th></th>\n",
              "      <th>rank</th>\n",
              "      <th>country_full</th>\n",
              "      <th>country_abrv</th>\n",
              "      <th>total_points</th>\n",
              "      <th>previous_points</th>\n",
              "      <th>rank_change</th>\n",
              "      <th>cur_year_avg</th>\n",
              "      <th>cur_year_avg_weighted</th>\n",
              "      <th>last_year_avg</th>\n",
              "      <th>last_year_avg_weighted</th>\n",
              "      <th>two_year_ago_avg</th>\n",
              "      <th>two_year_ago_weighted</th>\n",
              "      <th>three_year_ago_avg</th>\n",
              "      <th>three_year_ago_weighted</th>\n",
              "      <th>confederation</th>\n",
              "      <th>rank_date</th>\n",
              "    </tr>\n",
              "  </thead>\n",
              "  <tbody>\n",
              "    <tr>\n",
              "      <th>0</th>\n",
              "      <td>1</td>\n",
              "      <td>Germany</td>\n",
              "      <td>GER</td>\n",
              "      <td>0.0</td>\n",
              "      <td>57</td>\n",
              "      <td>0</td>\n",
              "      <td>0.0</td>\n",
              "      <td>0.0</td>\n",
              "      <td>0.0</td>\n",
              "      <td>0.0</td>\n",
              "      <td>0.0</td>\n",
              "      <td>0.0</td>\n",
              "      <td>0.0</td>\n",
              "      <td>0.0</td>\n",
              "      <td>UEFA</td>\n",
              "      <td>1993-08-08</td>\n",
              "    </tr>\n",
              "    <tr>\n",
              "      <th>1</th>\n",
              "      <td>2</td>\n",
              "      <td>Italy</td>\n",
              "      <td>ITA</td>\n",
              "      <td>0.0</td>\n",
              "      <td>57</td>\n",
              "      <td>0</td>\n",
              "      <td>0.0</td>\n",
              "      <td>0.0</td>\n",
              "      <td>0.0</td>\n",
              "      <td>0.0</td>\n",
              "      <td>0.0</td>\n",
              "      <td>0.0</td>\n",
              "      <td>0.0</td>\n",
              "      <td>0.0</td>\n",
              "      <td>UEFA</td>\n",
              "      <td>1993-08-08</td>\n",
              "    </tr>\n",
              "    <tr>\n",
              "      <th>2</th>\n",
              "      <td>3</td>\n",
              "      <td>Switzerland</td>\n",
              "      <td>SUI</td>\n",
              "      <td>0.0</td>\n",
              "      <td>50</td>\n",
              "      <td>9</td>\n",
              "      <td>0.0</td>\n",
              "      <td>0.0</td>\n",
              "      <td>0.0</td>\n",
              "      <td>0.0</td>\n",
              "      <td>0.0</td>\n",
              "      <td>0.0</td>\n",
              "      <td>0.0</td>\n",
              "      <td>0.0</td>\n",
              "      <td>UEFA</td>\n",
              "      <td>1993-08-08</td>\n",
              "    </tr>\n",
              "    <tr>\n",
              "      <th>3</th>\n",
              "      <td>4</td>\n",
              "      <td>Sweden</td>\n",
              "      <td>SWE</td>\n",
              "      <td>0.0</td>\n",
              "      <td>55</td>\n",
              "      <td>0</td>\n",
              "      <td>0.0</td>\n",
              "      <td>0.0</td>\n",
              "      <td>0.0</td>\n",
              "      <td>0.0</td>\n",
              "      <td>0.0</td>\n",
              "      <td>0.0</td>\n",
              "      <td>0.0</td>\n",
              "      <td>0.0</td>\n",
              "      <td>UEFA</td>\n",
              "      <td>1993-08-08</td>\n",
              "    </tr>\n",
              "    <tr>\n",
              "      <th>4</th>\n",
              "      <td>5</td>\n",
              "      <td>Argentina</td>\n",
              "      <td>ARG</td>\n",
              "      <td>0.0</td>\n",
              "      <td>51</td>\n",
              "      <td>5</td>\n",
              "      <td>0.0</td>\n",
              "      <td>0.0</td>\n",
              "      <td>0.0</td>\n",
              "      <td>0.0</td>\n",
              "      <td>0.0</td>\n",
              "      <td>0.0</td>\n",
              "      <td>0.0</td>\n",
              "      <td>0.0</td>\n",
              "      <td>CONMEBOL</td>\n",
              "      <td>1993-08-08</td>\n",
              "    </tr>\n",
              "  </tbody>\n",
              "</table>\n",
              "</div>"
            ],
            "text/plain": [
              "   rank country_full  ... confederation   rank_date\n",
              "0     1      Germany  ...          UEFA  1993-08-08\n",
              "1     2        Italy  ...          UEFA  1993-08-08\n",
              "2     3  Switzerland  ...          UEFA  1993-08-08\n",
              "3     4       Sweden  ...          UEFA  1993-08-08\n",
              "4     5    Argentina  ...      CONMEBOL  1993-08-08\n",
              "\n",
              "[5 rows x 16 columns]"
            ]
          },
          "metadata": {
            "tags": []
          },
          "execution_count": 2
        }
      ]
    },
    {
      "cell_type": "code",
      "metadata": {
        "id": "EGmkBZKXTnEH",
        "colab_type": "code",
        "outputId": "120751a8-37e3-46ab-a014-0c41a041499b",
        "colab": {
          "base_uri": "https://localhost:8080/",
          "height": 197
        }
      },
      "source": [
        "#from the adjustements made by fifa we only need the ranking and previous points , rank_date and may be the country_full(team)\n",
        "#this is because the other variables have been rendered obsolete by being abolished or dimmed not important in the elo ranking system\n",
        "cols = ['rank','previous_points','country_full','rank_date']\n",
        "ranking_data = ranking[cols]\n",
        "ranking_data.head()"
      ],
      "execution_count": 3,
      "outputs": [
        {
          "output_type": "execute_result",
          "data": {
            "text/html": [
              "<div>\n",
              "<style scoped>\n",
              "    .dataframe tbody tr th:only-of-type {\n",
              "        vertical-align: middle;\n",
              "    }\n",
              "\n",
              "    .dataframe tbody tr th {\n",
              "        vertical-align: top;\n",
              "    }\n",
              "\n",
              "    .dataframe thead th {\n",
              "        text-align: right;\n",
              "    }\n",
              "</style>\n",
              "<table border=\"1\" class=\"dataframe\">\n",
              "  <thead>\n",
              "    <tr style=\"text-align: right;\">\n",
              "      <th></th>\n",
              "      <th>rank</th>\n",
              "      <th>previous_points</th>\n",
              "      <th>country_full</th>\n",
              "      <th>rank_date</th>\n",
              "    </tr>\n",
              "  </thead>\n",
              "  <tbody>\n",
              "    <tr>\n",
              "      <th>0</th>\n",
              "      <td>1</td>\n",
              "      <td>57</td>\n",
              "      <td>Germany</td>\n",
              "      <td>1993-08-08</td>\n",
              "    </tr>\n",
              "    <tr>\n",
              "      <th>1</th>\n",
              "      <td>2</td>\n",
              "      <td>57</td>\n",
              "      <td>Italy</td>\n",
              "      <td>1993-08-08</td>\n",
              "    </tr>\n",
              "    <tr>\n",
              "      <th>2</th>\n",
              "      <td>3</td>\n",
              "      <td>50</td>\n",
              "      <td>Switzerland</td>\n",
              "      <td>1993-08-08</td>\n",
              "    </tr>\n",
              "    <tr>\n",
              "      <th>3</th>\n",
              "      <td>4</td>\n",
              "      <td>55</td>\n",
              "      <td>Sweden</td>\n",
              "      <td>1993-08-08</td>\n",
              "    </tr>\n",
              "    <tr>\n",
              "      <th>4</th>\n",
              "      <td>5</td>\n",
              "      <td>51</td>\n",
              "      <td>Argentina</td>\n",
              "      <td>1993-08-08</td>\n",
              "    </tr>\n",
              "  </tbody>\n",
              "</table>\n",
              "</div>"
            ],
            "text/plain": [
              "   rank  previous_points country_full   rank_date\n",
              "0     1               57      Germany  1993-08-08\n",
              "1     2               57        Italy  1993-08-08\n",
              "2     3               50  Switzerland  1993-08-08\n",
              "3     4               55       Sweden  1993-08-08\n",
              "4     5               51    Argentina  1993-08-08"
            ]
          },
          "metadata": {
            "tags": []
          },
          "execution_count": 3
        }
      ]
    },
    {
      "cell_type": "code",
      "metadata": {
        "id": "ndxTbG6iZp7a",
        "colab_type": "code",
        "outputId": "bd816f9f-f441-49d8-89a3-91e2e4a9d415",
        "colab": {
          "base_uri": "https://localhost:8080/",
          "height": 197
        }
      },
      "source": [
        "#from the data description we assume that country full and home team refer to the same thing and for this reson we \n",
        "#rename the country_full column to home team to enable merging the two tables\n",
        "ranking_data.rename(columns={'country_full':'home_team'}, inplace=True)\n",
        "ranking_data.head()"
      ],
      "execution_count": 4,
      "outputs": [
        {
          "output_type": "execute_result",
          "data": {
            "text/html": [
              "<div>\n",
              "<style scoped>\n",
              "    .dataframe tbody tr th:only-of-type {\n",
              "        vertical-align: middle;\n",
              "    }\n",
              "\n",
              "    .dataframe tbody tr th {\n",
              "        vertical-align: top;\n",
              "    }\n",
              "\n",
              "    .dataframe thead th {\n",
              "        text-align: right;\n",
              "    }\n",
              "</style>\n",
              "<table border=\"1\" class=\"dataframe\">\n",
              "  <thead>\n",
              "    <tr style=\"text-align: right;\">\n",
              "      <th></th>\n",
              "      <th>rank</th>\n",
              "      <th>previous_points</th>\n",
              "      <th>home_team</th>\n",
              "      <th>rank_date</th>\n",
              "    </tr>\n",
              "  </thead>\n",
              "  <tbody>\n",
              "    <tr>\n",
              "      <th>0</th>\n",
              "      <td>1</td>\n",
              "      <td>57</td>\n",
              "      <td>Germany</td>\n",
              "      <td>1993-08-08</td>\n",
              "    </tr>\n",
              "    <tr>\n",
              "      <th>1</th>\n",
              "      <td>2</td>\n",
              "      <td>57</td>\n",
              "      <td>Italy</td>\n",
              "      <td>1993-08-08</td>\n",
              "    </tr>\n",
              "    <tr>\n",
              "      <th>2</th>\n",
              "      <td>3</td>\n",
              "      <td>50</td>\n",
              "      <td>Switzerland</td>\n",
              "      <td>1993-08-08</td>\n",
              "    </tr>\n",
              "    <tr>\n",
              "      <th>3</th>\n",
              "      <td>4</td>\n",
              "      <td>55</td>\n",
              "      <td>Sweden</td>\n",
              "      <td>1993-08-08</td>\n",
              "    </tr>\n",
              "    <tr>\n",
              "      <th>4</th>\n",
              "      <td>5</td>\n",
              "      <td>51</td>\n",
              "      <td>Argentina</td>\n",
              "      <td>1993-08-08</td>\n",
              "    </tr>\n",
              "  </tbody>\n",
              "</table>\n",
              "</div>"
            ],
            "text/plain": [
              "   rank  previous_points    home_team   rank_date\n",
              "0     1               57      Germany  1993-08-08\n",
              "1     2               57        Italy  1993-08-08\n",
              "2     3               50  Switzerland  1993-08-08\n",
              "3     4               55       Sweden  1993-08-08\n",
              "4     5               51    Argentina  1993-08-08"
            ]
          },
          "metadata": {
            "tags": []
          },
          "execution_count": 4
        }
      ]
    },
    {
      "cell_type": "code",
      "metadata": {
        "id": "43Etyi_kaISf",
        "colab_type": "code",
        "outputId": "35c42827-3481-40b7-caeb-a8dd0f4784dc",
        "colab": {
          "base_uri": "https://localhost:8080/",
          "height": 287
        }
      },
      "source": [
        "ranking_data.describe()"
      ],
      "execution_count": 5,
      "outputs": [
        {
          "output_type": "execute_result",
          "data": {
            "text/html": [
              "<div>\n",
              "<style scoped>\n",
              "    .dataframe tbody tr th:only-of-type {\n",
              "        vertical-align: middle;\n",
              "    }\n",
              "\n",
              "    .dataframe tbody tr th {\n",
              "        vertical-align: top;\n",
              "    }\n",
              "\n",
              "    .dataframe thead th {\n",
              "        text-align: right;\n",
              "    }\n",
              "</style>\n",
              "<table border=\"1\" class=\"dataframe\">\n",
              "  <thead>\n",
              "    <tr style=\"text-align: right;\">\n",
              "      <th></th>\n",
              "      <th>rank</th>\n",
              "      <th>previous_points</th>\n",
              "    </tr>\n",
              "  </thead>\n",
              "  <tbody>\n",
              "    <tr>\n",
              "      <th>count</th>\n",
              "      <td>57793.000000</td>\n",
              "      <td>57793.000000</td>\n",
              "    </tr>\n",
              "    <tr>\n",
              "      <th>mean</th>\n",
              "      <td>101.628086</td>\n",
              "      <td>332.302926</td>\n",
              "    </tr>\n",
              "    <tr>\n",
              "      <th>std</th>\n",
              "      <td>58.618424</td>\n",
              "      <td>302.872948</td>\n",
              "    </tr>\n",
              "    <tr>\n",
              "      <th>min</th>\n",
              "      <td>1.000000</td>\n",
              "      <td>0.000000</td>\n",
              "    </tr>\n",
              "    <tr>\n",
              "      <th>25%</th>\n",
              "      <td>51.000000</td>\n",
              "      <td>56.000000</td>\n",
              "    </tr>\n",
              "    <tr>\n",
              "      <th>50%</th>\n",
              "      <td>101.000000</td>\n",
              "      <td>272.000000</td>\n",
              "    </tr>\n",
              "    <tr>\n",
              "      <th>75%</th>\n",
              "      <td>152.000000</td>\n",
              "      <td>525.000000</td>\n",
              "    </tr>\n",
              "    <tr>\n",
              "      <th>max</th>\n",
              "      <td>209.000000</td>\n",
              "      <td>1920.000000</td>\n",
              "    </tr>\n",
              "  </tbody>\n",
              "</table>\n",
              "</div>"
            ],
            "text/plain": [
              "               rank  previous_points\n",
              "count  57793.000000     57793.000000\n",
              "mean     101.628086       332.302926\n",
              "std       58.618424       302.872948\n",
              "min        1.000000         0.000000\n",
              "25%       51.000000        56.000000\n",
              "50%      101.000000       272.000000\n",
              "75%      152.000000       525.000000\n",
              "max      209.000000      1920.000000"
            ]
          },
          "metadata": {
            "tags": []
          },
          "execution_count": 5
        }
      ]
    },
    {
      "cell_type": "markdown",
      "metadata": {
        "id": "480Qip85an7Z",
        "colab_type": "text"
      },
      "source": [
        "from the above table we can see that the previous points has a mean of 332 where it deviates by 30% which means there is lots of variation in previous points between the various participating teams."
      ]
    },
    {
      "cell_type": "code",
      "metadata": {
        "id": "dPbnQo0aYoMo",
        "colab_type": "code",
        "outputId": "2dc27210-2a93-4bd9-962f-0a2ca15f1e50",
        "colab": {
          "base_uri": "https://localhost:8080/",
          "height": 286
        }
      },
      "source": [
        "ranking_data['rank'].hist()"
      ],
      "execution_count": 6,
      "outputs": [
        {
          "output_type": "execute_result",
          "data": {
            "text/plain": [
              "<matplotlib.axes._subplots.AxesSubplot at 0x7fa8a3215860>"
            ]
          },
          "metadata": {
            "tags": []
          },
          "execution_count": 6
        },
        {
          "output_type": "display_data",
          "data": {
            "image/png": "[encoded data removed]",
            "text/plain": [
              "<Figure size 432x288 with 1 Axes>"
            ]
          },
          "metadata": {
            "tags": []
          }
        }
      ]
    },
    {
      "cell_type": "markdown",
      "metadata": {
        "id": "1k4FANfzdpRS",
        "colab_type": "text"
      },
      "source": [
        "From the above image we see data is not normally distributed so we cannot perform many statistical operations on this data."
      ]
    },
    {
      "cell_type": "code",
      "metadata": {
        "id": "6pcVWGOeYfFH",
        "colab_type": "code",
        "outputId": "8b8abf71-208a-422a-a208-7f3d3805e5d0",
        "colab": {
          "base_uri": "https://localhost:8080/",
          "height": 286
        }
      },
      "source": [
        "ranking_data['previous_points'].hist()"
      ],
      "execution_count": 7,
      "outputs": [
        {
          "output_type": "execute_result",
          "data": {
            "text/plain": [
              "<matplotlib.axes._subplots.AxesSubplot at 0x7fa8a316c630>"
            ]
          },
          "metadata": {
            "tags": []
          },
          "execution_count": 7
        },
        {
          "output_type": "display_data",
          "data": {
            "image/png": "[encoded data removed]",
            "text/plain": [
              "<Figure size 432x288 with 1 Axes>"
            ]
          },
          "metadata": {
            "tags": []
          }
        }
      ]
    },
    {
      "cell_type": "markdown",
      "metadata": {
        "id": "7CWbcjRpeBJo",
        "colab_type": "text"
      },
      "source": [
        "the datapoints on the column for preivous points is skewed to the right"
      ]
    },
    {
      "cell_type": "code",
      "metadata": {
        "id": "sOrkpzdvoZiW",
        "colab_type": "code",
        "outputId": "a6ed0bd3-291a-4433-8891-9e5cc36bcc54",
        "colab": {
          "base_uri": "https://localhost:8080/",
          "height": 34
        }
      },
      "source": [
        "#check the dataset size\n",
        "ranking_data.shape"
      ],
      "execution_count": 8,
      "outputs": [
        {
          "output_type": "execute_result",
          "data": {
            "text/plain": [
              "(57793, 4)"
            ]
          },
          "metadata": {
            "tags": []
          },
          "execution_count": 8
        }
      ]
    },
    {
      "cell_type": "code",
      "metadata": {
        "id": "sa6rrVGLofU1",
        "colab_type": "code",
        "outputId": "7d6ce521-9927-43b9-da1d-28c60e36d168",
        "colab": {
          "base_uri": "https://localhost:8080/",
          "height": 105
        }
      },
      "source": [
        "#check for missing values\n",
        "ranking_data.isnull().sum()"
      ],
      "execution_count": 9,
      "outputs": [
        {
          "output_type": "execute_result",
          "data": {
            "text/plain": [
              "rank               0\n",
              "previous_points    0\n",
              "home_team          0\n",
              "rank_date          0\n",
              "dtype: int64"
            ]
          },
          "metadata": {
            "tags": []
          },
          "execution_count": 9
        }
      ]
    },
    {
      "cell_type": "code",
      "metadata": {
        "id": "xOy7I_2Hlv5y",
        "colab_type": "code",
        "outputId": "09fa568f-24c5-4533-ed27-e27d31ec99dd",
        "colab": {
          "base_uri": "https://localhost:8080/",
          "height": 197
        }
      },
      "source": [
        "#loading the results data\n",
        "results = pd.read_csv('results.csv')\n",
        "results.head()"
      ],
      "execution_count": 10,
      "outputs": [
        {
          "output_type": "execute_result",
          "data": {
            "text/html": [
              "<div>\n",
              "<style scoped>\n",
              "    .dataframe tbody tr th:only-of-type {\n",
              "        vertical-align: middle;\n",
              "    }\n",
              "\n",
              "    .dataframe tbody tr th {\n",
              "        vertical-align: top;\n",
              "    }\n",
              "\n",
              "    .dataframe thead th {\n",
              "        text-align: right;\n",
              "    }\n",
              "</style>\n",
              "<table border=\"1\" class=\"dataframe\">\n",
              "  <thead>\n",
              "    <tr style=\"text-align: right;\">\n",
              "      <th></th>\n",
              "      <th>date</th>\n",
              "      <th>home_team</th>\n",
              "      <th>away_team</th>\n",
              "      <th>home_score</th>\n",
              "      <th>away_score</th>\n",
              "      <th>tournament</th>\n",
              "      <th>city</th>\n",
              "      <th>country</th>\n",
              "      <th>neutral</th>\n",
              "    </tr>\n",
              "  </thead>\n",
              "  <tbody>\n",
              "    <tr>\n",
              "      <th>0</th>\n",
              "      <td>1872-11-30</td>\n",
              "      <td>Scotland</td>\n",
              "      <td>England</td>\n",
              "      <td>0</td>\n",
              "      <td>0</td>\n",
              "      <td>Friendly</td>\n",
              "      <td>Glasgow</td>\n",
              "      <td>Scotland</td>\n",
              "      <td>False</td>\n",
              "    </tr>\n",
              "    <tr>\n",
              "      <th>1</th>\n",
              "      <td>1873-03-08</td>\n",
              "      <td>England</td>\n",
              "      <td>Scotland</td>\n",
              "      <td>4</td>\n",
              "      <td>2</td>\n",
              "      <td>Friendly</td>\n",
              "      <td>London</td>\n",
              "      <td>England</td>\n",
              "      <td>False</td>\n",
              "    </tr>\n",
              "    <tr>\n",
              "      <th>2</th>\n",
              "      <td>1874-03-07</td>\n",
              "      <td>Scotland</td>\n",
              "      <td>England</td>\n",
              "      <td>2</td>\n",
              "      <td>1</td>\n",
              "      <td>Friendly</td>\n",
              "      <td>Glasgow</td>\n",
              "      <td>Scotland</td>\n",
              "      <td>False</td>\n",
              "    </tr>\n",
              "    <tr>\n",
              "      <th>3</th>\n",
              "      <td>1875-03-06</td>\n",
              "      <td>England</td>\n",
              "      <td>Scotland</td>\n",
              "      <td>2</td>\n",
              "      <td>2</td>\n",
              "      <td>Friendly</td>\n",
              "      <td>London</td>\n",
              "      <td>England</td>\n",
              "      <td>False</td>\n",
              "    </tr>\n",
              "    <tr>\n",
              "      <th>4</th>\n",
              "      <td>1876-03-04</td>\n",
              "      <td>Scotland</td>\n",
              "      <td>England</td>\n",
              "      <td>3</td>\n",
              "      <td>0</td>\n",
              "      <td>Friendly</td>\n",
              "      <td>Glasgow</td>\n",
              "      <td>Scotland</td>\n",
              "      <td>False</td>\n",
              "    </tr>\n",
              "  </tbody>\n",
              "</table>\n",
              "</div>"
            ],
            "text/plain": [
              "         date home_team away_team  ...     city   country neutral\n",
              "0  1872-11-30  Scotland   England  ...  Glasgow  Scotland   False\n",
              "1  1873-03-08   England  Scotland  ...   London   England   False\n",
              "2  1874-03-07  Scotland   England  ...  Glasgow  Scotland   False\n",
              "3  1875-03-06   England  Scotland  ...   London   England   False\n",
              "4  1876-03-04  Scotland   England  ...  Glasgow  Scotland   False\n",
              "\n",
              "[5 rows x 9 columns]"
            ]
          },
          "metadata": {
            "tags": []
          },
          "execution_count": 10
        }
      ]
    },
    {
      "cell_type": "code",
      "metadata": {
        "id": "V3tgVt22jVEl",
        "colab_type": "code",
        "outputId": "5751cd45-a388-4f50-d5a1-385be000a101",
        "colab": {
          "base_uri": "https://localhost:8080/",
          "height": 34
        }
      },
      "source": [
        "#check size of the dataset\n",
        "results.shape"
      ],
      "execution_count": 11,
      "outputs": [
        {
          "output_type": "execute_result",
          "data": {
            "text/plain": [
              "(40839, 9)"
            ]
          },
          "metadata": {
            "tags": []
          },
          "execution_count": 11
        }
      ]
    },
    {
      "cell_type": "code",
      "metadata": {
        "id": "xPGzE8tAoPEq",
        "colab_type": "code",
        "outputId": "410e10fe-97c4-4f1e-803f-f0dcf6be14c0",
        "colab": {
          "base_uri": "https://localhost:8080/",
          "height": 194
        }
      },
      "source": [
        "#check for missing values\n",
        "results.isnull().sum()"
      ],
      "execution_count": 12,
      "outputs": [
        {
          "output_type": "execute_result",
          "data": {
            "text/plain": [
              "date          0\n",
              "home_team     0\n",
              "away_team     0\n",
              "home_score    0\n",
              "away_score    0\n",
              "tournament    0\n",
              "city          0\n",
              "country       0\n",
              "neutral       0\n",
              "dtype: int64"
            ]
          },
          "metadata": {
            "tags": []
          },
          "execution_count": 12
        }
      ]
    },
    {
      "cell_type": "code",
      "metadata": {
        "id": "1NllnGwb6bhz",
        "colab_type": "code",
        "outputId": "4397032d-32b1-4193-f4ee-e16c76a9a0df",
        "colab": {
          "base_uri": "https://localhost:8080/",
          "height": 265
        }
      },
      "source": [
        "results.info()"
      ],
      "execution_count": 13,
      "outputs": [
        {
          "output_type": "stream",
          "text": [
            "<class 'pandas.core.frame.DataFrame'>\n",
            "RangeIndex: 40839 entries, 0 to 40838\n",
            "Data columns (total 9 columns):\n",
            "date          40839 non-null object\n",
            "home_team     40839 non-null object\n",
            "away_team     40839 non-null object\n",
            "home_score    40839 non-null int64\n",
            "away_score    40839 non-null int64\n",
            "tournament    40839 non-null object\n",
            "city          40839 non-null object\n",
            "country       40839 non-null object\n",
            "neutral       40839 non-null bool\n",
            "dtypes: bool(1), int64(2), object(6)\n",
            "memory usage: 2.5+ MB\n"
          ],
          "name": "stdout"
        }
      ]
    },
    {
      "cell_type": "code",
      "metadata": {
        "id": "Ml6DUqWT6kvv",
        "colab_type": "code",
        "outputId": "eec0cbb6-a2bb-4ced-d8a1-537e241c4512",
        "colab": {
          "base_uri": "https://localhost:8080/",
          "height": 197
        }
      },
      "source": [
        "#we drop the columns that we dont need eg city and country.\n",
        "results.drop(['city','country',], axis=1, inplace=True)\n",
        "results.head()"
      ],
      "execution_count": 14,
      "outputs": [
        {
          "output_type": "execute_result",
          "data": {
            "text/html": [
              "<div>\n",
              "<style scoped>\n",
              "    .dataframe tbody tr th:only-of-type {\n",
              "        vertical-align: middle;\n",
              "    }\n",
              "\n",
              "    .dataframe tbody tr th {\n",
              "        vertical-align: top;\n",
              "    }\n",
              "\n",
              "    .dataframe thead th {\n",
              "        text-align: right;\n",
              "    }\n",
              "</style>\n",
              "<table border=\"1\" class=\"dataframe\">\n",
              "  <thead>\n",
              "    <tr style=\"text-align: right;\">\n",
              "      <th></th>\n",
              "      <th>date</th>\n",
              "      <th>home_team</th>\n",
              "      <th>away_team</th>\n",
              "      <th>home_score</th>\n",
              "      <th>away_score</th>\n",
              "      <th>tournament</th>\n",
              "      <th>neutral</th>\n",
              "    </tr>\n",
              "  </thead>\n",
              "  <tbody>\n",
              "    <tr>\n",
              "      <th>0</th>\n",
              "      <td>1872-11-30</td>\n",
              "      <td>Scotland</td>\n",
              "      <td>England</td>\n",
              "      <td>0</td>\n",
              "      <td>0</td>\n",
              "      <td>Friendly</td>\n",
              "      <td>False</td>\n",
              "    </tr>\n",
              "    <tr>\n",
              "      <th>1</th>\n",
              "      <td>1873-03-08</td>\n",
              "      <td>England</td>\n",
              "      <td>Scotland</td>\n",
              "      <td>4</td>\n",
              "      <td>2</td>\n",
              "      <td>Friendly</td>\n",
              "      <td>False</td>\n",
              "    </tr>\n",
              "    <tr>\n",
              "      <th>2</th>\n",
              "      <td>1874-03-07</td>\n",
              "      <td>Scotland</td>\n",
              "      <td>England</td>\n",
              "      <td>2</td>\n",
              "      <td>1</td>\n",
              "      <td>Friendly</td>\n",
              "      <td>False</td>\n",
              "    </tr>\n",
              "    <tr>\n",
              "      <th>3</th>\n",
              "      <td>1875-03-06</td>\n",
              "      <td>England</td>\n",
              "      <td>Scotland</td>\n",
              "      <td>2</td>\n",
              "      <td>2</td>\n",
              "      <td>Friendly</td>\n",
              "      <td>False</td>\n",
              "    </tr>\n",
              "    <tr>\n",
              "      <th>4</th>\n",
              "      <td>1876-03-04</td>\n",
              "      <td>Scotland</td>\n",
              "      <td>England</td>\n",
              "      <td>3</td>\n",
              "      <td>0</td>\n",
              "      <td>Friendly</td>\n",
              "      <td>False</td>\n",
              "    </tr>\n",
              "  </tbody>\n",
              "</table>\n",
              "</div>"
            ],
            "text/plain": [
              "         date home_team away_team  home_score  away_score tournament  neutral\n",
              "0  1872-11-30  Scotland   England           0           0   Friendly    False\n",
              "1  1873-03-08   England  Scotland           4           2   Friendly    False\n",
              "2  1874-03-07  Scotland   England           2           1   Friendly    False\n",
              "3  1875-03-06   England  Scotland           2           2   Friendly    False\n",
              "4  1876-03-04  Scotland   England           3           0   Friendly    False"
            ]
          },
          "metadata": {
            "tags": []
          },
          "execution_count": 14
        }
      ]
    },
    {
      "cell_type": "code",
      "metadata": {
        "id": "QofO7D7JBckx",
        "colab_type": "code",
        "colab": {}
      },
      "source": [
        "#looking at the datatypes lets convert the dates into the correct date types\n",
        "ranking_data['rank_date'] = pd.to_datetime(ranking_data['rank_date'], errors='coerce')\n",
        "results['date'] = pd.to_datetime(results['date'], errors='coerce')"
      ],
      "execution_count": 0,
      "outputs": []
    },
    {
      "cell_type": "code",
      "metadata": {
        "id": "rVyPUOsYDtt6",
        "colab_type": "code",
        "outputId": "d5ab4926-3de3-4518-e4f8-31674c381d4f",
        "colab": {
          "base_uri": "https://localhost:8080/",
          "height": 105
        }
      },
      "source": [
        "#we confirm whether this has been done successfully\n",
        "ranking_data.dtypes\n"
      ],
      "execution_count": 16,
      "outputs": [
        {
          "output_type": "execute_result",
          "data": {
            "text/plain": [
              "rank                        int64\n",
              "previous_points             int64\n",
              "home_team                  object\n",
              "rank_date          datetime64[ns]\n",
              "dtype: object"
            ]
          },
          "metadata": {
            "tags": []
          },
          "execution_count": 16
        }
      ]
    },
    {
      "cell_type": "code",
      "metadata": {
        "id": "o6WJkwusEBsY",
        "colab_type": "code",
        "outputId": "c9638854-d287-4ff8-99a8-d1d985b1207b",
        "colab": {
          "base_uri": "https://localhost:8080/",
          "height": 158
        }
      },
      "source": [
        "results.dtypes"
      ],
      "execution_count": 17,
      "outputs": [
        {
          "output_type": "execute_result",
          "data": {
            "text/plain": [
              "date          datetime64[ns]\n",
              "home_team             object\n",
              "away_team             object\n",
              "home_score             int64\n",
              "away_score             int64\n",
              "tournament            object\n",
              "neutral                 bool\n",
              "dtype: object"
            ]
          },
          "metadata": {
            "tags": []
          },
          "execution_count": 17
        }
      ]
    },
    {
      "cell_type": "code",
      "metadata": {
        "id": "szO119FeEKz1",
        "colab_type": "code",
        "colab": {}
      },
      "source": [
        "#since we want to use only the relevant data we will spilt the dates into year month and later drop \n",
        "#the years before 1993 and after the period 2018 when the system stopped being in effect waiting the pending \n",
        "#updates\n",
        "#separating the year and month from the date columns in both datasets.\n",
        "results['year']=results['date'].dt.year\n",
        "results['month']=results['date'].dt.month\n",
        "ranking_data['year']=ranking_data['rank_date'].dt.year\n",
        "ranking_data['month']=ranking_data['rank_date'].dt.month"
      ],
      "execution_count": 0,
      "outputs": []
    },
    {
      "cell_type": "code",
      "metadata": {
        "id": "h3nQD8I7GLD5",
        "colab_type": "code",
        "outputId": "0a031a8d-f1b6-48b9-9bbc-9b52cd5d0e50",
        "colab": {
          "base_uri": "https://localhost:8080/",
          "height": 107
        }
      },
      "source": [
        "#check if this was done successfully\n",
        "results.head(2)"
      ],
      "execution_count": 19,
      "outputs": [
        {
          "output_type": "execute_result",
          "data": {
            "text/html": [
              "<div>\n",
              "<style scoped>\n",
              "    .dataframe tbody tr th:only-of-type {\n",
              "        vertical-align: middle;\n",
              "    }\n",
              "\n",
              "    .dataframe tbody tr th {\n",
              "        vertical-align: top;\n",
              "    }\n",
              "\n",
              "    .dataframe thead th {\n",
              "        text-align: right;\n",
              "    }\n",
              "</style>\n",
              "<table border=\"1\" class=\"dataframe\">\n",
              "  <thead>\n",
              "    <tr style=\"text-align: right;\">\n",
              "      <th></th>\n",
              "      <th>date</th>\n",
              "      <th>home_team</th>\n",
              "      <th>away_team</th>\n",
              "      <th>home_score</th>\n",
              "      <th>away_score</th>\n",
              "      <th>tournament</th>\n",
              "      <th>neutral</th>\n",
              "      <th>year</th>\n",
              "      <th>month</th>\n",
              "    </tr>\n",
              "  </thead>\n",
              "  <tbody>\n",
              "    <tr>\n",
              "      <th>0</th>\n",
              "      <td>1872-11-30</td>\n",
              "      <td>Scotland</td>\n",
              "      <td>England</td>\n",
              "      <td>0</td>\n",
              "      <td>0</td>\n",
              "      <td>Friendly</td>\n",
              "      <td>False</td>\n",
              "      <td>1872</td>\n",
              "      <td>11</td>\n",
              "    </tr>\n",
              "    <tr>\n",
              "      <th>1</th>\n",
              "      <td>1873-03-08</td>\n",
              "      <td>England</td>\n",
              "      <td>Scotland</td>\n",
              "      <td>4</td>\n",
              "      <td>2</td>\n",
              "      <td>Friendly</td>\n",
              "      <td>False</td>\n",
              "      <td>1873</td>\n",
              "      <td>3</td>\n",
              "    </tr>\n",
              "  </tbody>\n",
              "</table>\n",
              "</div>"
            ],
            "text/plain": [
              "        date home_team away_team  home_score  ...  tournament neutral  year  month\n",
              "0 1872-11-30  Scotland   England           0  ...    Friendly   False  1872     11\n",
              "1 1873-03-08   England  Scotland           4  ...    Friendly   False  1873      3\n",
              "\n",
              "[2 rows x 9 columns]"
            ]
          },
          "metadata": {
            "tags": []
          },
          "execution_count": 19
        }
      ]
    },
    {
      "cell_type": "code",
      "metadata": {
        "id": "OJhkQOkWGRaT",
        "colab_type": "code",
        "outputId": "af1f84e1-c6c5-4a9f-c38f-50348370ace6",
        "colab": {
          "base_uri": "https://localhost:8080/",
          "height": 107
        }
      },
      "source": [
        "#check if this was done successfully\n",
        "ranking_data.head(2)"
      ],
      "execution_count": 20,
      "outputs": [
        {
          "output_type": "execute_result",
          "data": {
            "text/html": [
              "<div>\n",
              "<style scoped>\n",
              "    .dataframe tbody tr th:only-of-type {\n",
              "        vertical-align: middle;\n",
              "    }\n",
              "\n",
              "    .dataframe tbody tr th {\n",
              "        vertical-align: top;\n",
              "    }\n",
              "\n",
              "    .dataframe thead th {\n",
              "        text-align: right;\n",
              "    }\n",
              "</style>\n",
              "<table border=\"1\" class=\"dataframe\">\n",
              "  <thead>\n",
              "    <tr style=\"text-align: right;\">\n",
              "      <th></th>\n",
              "      <th>rank</th>\n",
              "      <th>previous_points</th>\n",
              "      <th>home_team</th>\n",
              "      <th>rank_date</th>\n",
              "      <th>year</th>\n",
              "      <th>month</th>\n",
              "    </tr>\n",
              "  </thead>\n",
              "  <tbody>\n",
              "    <tr>\n",
              "      <th>0</th>\n",
              "      <td>1</td>\n",
              "      <td>57</td>\n",
              "      <td>Germany</td>\n",
              "      <td>1993-08-08</td>\n",
              "      <td>1993</td>\n",
              "      <td>8</td>\n",
              "    </tr>\n",
              "    <tr>\n",
              "      <th>1</th>\n",
              "      <td>2</td>\n",
              "      <td>57</td>\n",
              "      <td>Italy</td>\n",
              "      <td>1993-08-08</td>\n",
              "      <td>1993</td>\n",
              "      <td>8</td>\n",
              "    </tr>\n",
              "  </tbody>\n",
              "</table>\n",
              "</div>"
            ],
            "text/plain": [
              "   rank  previous_points home_team  rank_date  year  month\n",
              "0     1               57   Germany 1993-08-08  1993      8\n",
              "1     2               57     Italy 1993-08-08  1993      8"
            ]
          },
          "metadata": {
            "tags": []
          },
          "execution_count": 20
        }
      ]
    },
    {
      "cell_type": "code",
      "metadata": {
        "id": "gb8jeMJUGXbc",
        "colab_type": "code",
        "colab": {}
      },
      "source": [
        "#if we are to include the ranking in our training we drop the dates before the rankings began and after \n",
        "#the stop of implementing\n",
        "results=results[results['date']>='1993-08-08']\n",
        "results=results[results['date']<= '2018-06-07']"
      ],
      "execution_count": 0,
      "outputs": []
    },
    {
      "cell_type": "code",
      "metadata": {
        "id": "v4J-FlugL3pG",
        "colab_type": "code",
        "outputId": "131c0513-0f12-4c64-c524-319ae5f60c60",
        "colab": {
          "base_uri": "https://localhost:8080/",
          "height": 34
        }
      },
      "source": [
        "#this has been done successfully as when we look at the shape of the datset it has reduced\n",
        "results.shape"
      ],
      "execution_count": 22,
      "outputs": [
        {
          "output_type": "execute_result",
          "data": {
            "text/plain": [
              "(21919, 9)"
            ]
          },
          "metadata": {
            "tags": []
          },
          "execution_count": 22
        }
      ]
    },
    {
      "cell_type": "code",
      "metadata": {
        "id": "pYjU57FqRJDe",
        "colab_type": "code",
        "outputId": "67ad449b-0f1a-4100-bcbb-132725383eaf",
        "colab": {
          "base_uri": "https://localhost:8080/",
          "height": 197
        }
      },
      "source": [
        "ranking_data.head()"
      ],
      "execution_count": 23,
      "outputs": [
        {
          "output_type": "execute_result",
          "data": {
            "text/html": [
              "<div>\n",
              "<style scoped>\n",
              "    .dataframe tbody tr th:only-of-type {\n",
              "        vertical-align: middle;\n",
              "    }\n",
              "\n",
              "    .dataframe tbody tr th {\n",
              "        vertical-align: top;\n",
              "    }\n",
              "\n",
              "    .dataframe thead th {\n",
              "        text-align: right;\n",
              "    }\n",
              "</style>\n",
              "<table border=\"1\" class=\"dataframe\">\n",
              "  <thead>\n",
              "    <tr style=\"text-align: right;\">\n",
              "      <th></th>\n",
              "      <th>rank</th>\n",
              "      <th>previous_points</th>\n",
              "      <th>home_team</th>\n",
              "      <th>rank_date</th>\n",
              "      <th>year</th>\n",
              "      <th>month</th>\n",
              "    </tr>\n",
              "  </thead>\n",
              "  <tbody>\n",
              "    <tr>\n",
              "      <th>0</th>\n",
              "      <td>1</td>\n",
              "      <td>57</td>\n",
              "      <td>Germany</td>\n",
              "      <td>1993-08-08</td>\n",
              "      <td>1993</td>\n",
              "      <td>8</td>\n",
              "    </tr>\n",
              "    <tr>\n",
              "      <th>1</th>\n",
              "      <td>2</td>\n",
              "      <td>57</td>\n",
              "      <td>Italy</td>\n",
              "      <td>1993-08-08</td>\n",
              "      <td>1993</td>\n",
              "      <td>8</td>\n",
              "    </tr>\n",
              "    <tr>\n",
              "      <th>2</th>\n",
              "      <td>3</td>\n",
              "      <td>50</td>\n",
              "      <td>Switzerland</td>\n",
              "      <td>1993-08-08</td>\n",
              "      <td>1993</td>\n",
              "      <td>8</td>\n",
              "    </tr>\n",
              "    <tr>\n",
              "      <th>3</th>\n",
              "      <td>4</td>\n",
              "      <td>55</td>\n",
              "      <td>Sweden</td>\n",
              "      <td>1993-08-08</td>\n",
              "      <td>1993</td>\n",
              "      <td>8</td>\n",
              "    </tr>\n",
              "    <tr>\n",
              "      <th>4</th>\n",
              "      <td>5</td>\n",
              "      <td>51</td>\n",
              "      <td>Argentina</td>\n",
              "      <td>1993-08-08</td>\n",
              "      <td>1993</td>\n",
              "      <td>8</td>\n",
              "    </tr>\n",
              "  </tbody>\n",
              "</table>\n",
              "</div>"
            ],
            "text/plain": [
              "   rank  previous_points    home_team  rank_date  year  month\n",
              "0     1               57      Germany 1993-08-08  1993      8\n",
              "1     2               57        Italy 1993-08-08  1993      8\n",
              "2     3               50  Switzerland 1993-08-08  1993      8\n",
              "3     4               55       Sweden 1993-08-08  1993      8\n",
              "4     5               51    Argentina 1993-08-08  1993      8"
            ]
          },
          "metadata": {
            "tags": []
          },
          "execution_count": 23
        }
      ]
    },
    {
      "cell_type": "code",
      "metadata": {
        "id": "bS_TPDFGjU7R",
        "colab_type": "code",
        "outputId": "5667600a-da8c-45f9-9b4d-1265a4af20ab",
        "colab": {
          "base_uri": "https://localhost:8080/",
          "height": 281
        }
      },
      "source": [
        "#we now want to merge the two tables results and ranking_data on the home team\n",
        "merged = pd.merge(results,ranking_data, how='left',on=['home_team', 'year', 'month'])\n",
        "merged.head()"
      ],
      "execution_count": 24,
      "outputs": [
        {
          "output_type": "execute_result",
          "data": {
            "text/html": [
              "<div>\n",
              "<style scoped>\n",
              "    .dataframe tbody tr th:only-of-type {\n",
              "        vertical-align: middle;\n",
              "    }\n",
              "\n",
              "    .dataframe tbody tr th {\n",
              "        vertical-align: top;\n",
              "    }\n",
              "\n",
              "    .dataframe thead th {\n",
              "        text-align: right;\n",
              "    }\n",
              "</style>\n",
              "<table border=\"1\" class=\"dataframe\">\n",
              "  <thead>\n",
              "    <tr style=\"text-align: right;\">\n",
              "      <th></th>\n",
              "      <th>date</th>\n",
              "      <th>home_team</th>\n",
              "      <th>away_team</th>\n",
              "      <th>home_score</th>\n",
              "      <th>away_score</th>\n",
              "      <th>tournament</th>\n",
              "      <th>neutral</th>\n",
              "      <th>year</th>\n",
              "      <th>month</th>\n",
              "      <th>rank</th>\n",
              "      <th>previous_points</th>\n",
              "      <th>rank_date</th>\n",
              "    </tr>\n",
              "  </thead>\n",
              "  <tbody>\n",
              "    <tr>\n",
              "      <th>0</th>\n",
              "      <td>1993-08-08</td>\n",
              "      <td>Bolivia</td>\n",
              "      <td>Uruguay</td>\n",
              "      <td>3</td>\n",
              "      <td>1</td>\n",
              "      <td>FIFA World Cup qualification</td>\n",
              "      <td>False</td>\n",
              "      <td>1993</td>\n",
              "      <td>8</td>\n",
              "      <td>59.0</td>\n",
              "      <td>13.0</td>\n",
              "      <td>1993-08-08</td>\n",
              "    </tr>\n",
              "    <tr>\n",
              "      <th>1</th>\n",
              "      <td>1993-08-08</td>\n",
              "      <td>Brazil</td>\n",
              "      <td>Mexico</td>\n",
              "      <td>1</td>\n",
              "      <td>1</td>\n",
              "      <td>Friendly</td>\n",
              "      <td>False</td>\n",
              "      <td>1993</td>\n",
              "      <td>8</td>\n",
              "      <td>8.0</td>\n",
              "      <td>55.0</td>\n",
              "      <td>1993-08-08</td>\n",
              "    </tr>\n",
              "    <tr>\n",
              "      <th>2</th>\n",
              "      <td>1993-08-08</td>\n",
              "      <td>Ecuador</td>\n",
              "      <td>Venezuela</td>\n",
              "      <td>5</td>\n",
              "      <td>0</td>\n",
              "      <td>FIFA World Cup qualification</td>\n",
              "      <td>False</td>\n",
              "      <td>1993</td>\n",
              "      <td>8</td>\n",
              "      <td>35.0</td>\n",
              "      <td>23.0</td>\n",
              "      <td>1993-08-08</td>\n",
              "    </tr>\n",
              "    <tr>\n",
              "      <th>3</th>\n",
              "      <td>1993-08-08</td>\n",
              "      <td>Guinea</td>\n",
              "      <td>Sierra Leone</td>\n",
              "      <td>1</td>\n",
              "      <td>0</td>\n",
              "      <td>Friendly</td>\n",
              "      <td>False</td>\n",
              "      <td>1993</td>\n",
              "      <td>8</td>\n",
              "      <td>65.0</td>\n",
              "      <td>23.0</td>\n",
              "      <td>1993-08-08</td>\n",
              "    </tr>\n",
              "    <tr>\n",
              "      <th>4</th>\n",
              "      <td>1993-08-08</td>\n",
              "      <td>Paraguay</td>\n",
              "      <td>Argentina</td>\n",
              "      <td>1</td>\n",
              "      <td>3</td>\n",
              "      <td>FIFA World Cup qualification</td>\n",
              "      <td>False</td>\n",
              "      <td>1993</td>\n",
              "      <td>8</td>\n",
              "      <td>67.0</td>\n",
              "      <td>22.0</td>\n",
              "      <td>1993-08-08</td>\n",
              "    </tr>\n",
              "  </tbody>\n",
              "</table>\n",
              "</div>"
            ],
            "text/plain": [
              "        date home_team     away_team  ...  rank  previous_points  rank_date\n",
              "0 1993-08-08   Bolivia       Uruguay  ...  59.0             13.0 1993-08-08\n",
              "1 1993-08-08    Brazil        Mexico  ...   8.0             55.0 1993-08-08\n",
              "2 1993-08-08   Ecuador     Venezuela  ...  35.0             23.0 1993-08-08\n",
              "3 1993-08-08    Guinea  Sierra Leone  ...  65.0             23.0 1993-08-08\n",
              "4 1993-08-08  Paraguay     Argentina  ...  67.0             22.0 1993-08-08\n",
              "\n",
              "[5 rows x 12 columns]"
            ]
          },
          "metadata": {
            "tags": []
          },
          "execution_count": 24
        }
      ]
    },
    {
      "cell_type": "code",
      "metadata": {
        "id": "Cr_3WAIlg9JR",
        "colab_type": "code",
        "outputId": "fb8b9358-f98a-4837-fad5-d1a669011fc4",
        "colab": {
          "base_uri": "https://localhost:8080/",
          "height": 281
        }
      },
      "source": [
        "#now lets rename the rank to home team rank\n",
        "merged.rename(columns={'rank':'home_team_rank'}, inplace=True)\n",
        "merged.head()"
      ],
      "execution_count": 25,
      "outputs": [
        {
          "output_type": "execute_result",
          "data": {
            "text/html": [
              "<div>\n",
              "<style scoped>\n",
              "    .dataframe tbody tr th:only-of-type {\n",
              "        vertical-align: middle;\n",
              "    }\n",
              "\n",
              "    .dataframe tbody tr th {\n",
              "        vertical-align: top;\n",
              "    }\n",
              "\n",
              "    .dataframe thead th {\n",
              "        text-align: right;\n",
              "    }\n",
              "</style>\n",
              "<table border=\"1\" class=\"dataframe\">\n",
              "  <thead>\n",
              "    <tr style=\"text-align: right;\">\n",
              "      <th></th>\n",
              "      <th>date</th>\n",
              "      <th>home_team</th>\n",
              "      <th>away_team</th>\n",
              "      <th>home_score</th>\n",
              "      <th>away_score</th>\n",
              "      <th>tournament</th>\n",
              "      <th>neutral</th>\n",
              "      <th>year</th>\n",
              "      <th>month</th>\n",
              "      <th>home_team_rank</th>\n",
              "      <th>previous_points</th>\n",
              "      <th>rank_date</th>\n",
              "    </tr>\n",
              "  </thead>\n",
              "  <tbody>\n",
              "    <tr>\n",
              "      <th>0</th>\n",
              "      <td>1993-08-08</td>\n",
              "      <td>Bolivia</td>\n",
              "      <td>Uruguay</td>\n",
              "      <td>3</td>\n",
              "      <td>1</td>\n",
              "      <td>FIFA World Cup qualification</td>\n",
              "      <td>False</td>\n",
              "      <td>1993</td>\n",
              "      <td>8</td>\n",
              "      <td>59.0</td>\n",
              "      <td>13.0</td>\n",
              "      <td>1993-08-08</td>\n",
              "    </tr>\n",
              "    <tr>\n",
              "      <th>1</th>\n",
              "      <td>1993-08-08</td>\n",
              "      <td>Brazil</td>\n",
              "      <td>Mexico</td>\n",
              "      <td>1</td>\n",
              "      <td>1</td>\n",
              "      <td>Friendly</td>\n",
              "      <td>False</td>\n",
              "      <td>1993</td>\n",
              "      <td>8</td>\n",
              "      <td>8.0</td>\n",
              "      <td>55.0</td>\n",
              "      <td>1993-08-08</td>\n",
              "    </tr>\n",
              "    <tr>\n",
              "      <th>2</th>\n",
              "      <td>1993-08-08</td>\n",
              "      <td>Ecuador</td>\n",
              "      <td>Venezuela</td>\n",
              "      <td>5</td>\n",
              "      <td>0</td>\n",
              "      <td>FIFA World Cup qualification</td>\n",
              "      <td>False</td>\n",
              "      <td>1993</td>\n",
              "      <td>8</td>\n",
              "      <td>35.0</td>\n",
              "      <td>23.0</td>\n",
              "      <td>1993-08-08</td>\n",
              "    </tr>\n",
              "    <tr>\n",
              "      <th>3</th>\n",
              "      <td>1993-08-08</td>\n",
              "      <td>Guinea</td>\n",
              "      <td>Sierra Leone</td>\n",
              "      <td>1</td>\n",
              "      <td>0</td>\n",
              "      <td>Friendly</td>\n",
              "      <td>False</td>\n",
              "      <td>1993</td>\n",
              "      <td>8</td>\n",
              "      <td>65.0</td>\n",
              "      <td>23.0</td>\n",
              "      <td>1993-08-08</td>\n",
              "    </tr>\n",
              "    <tr>\n",
              "      <th>4</th>\n",
              "      <td>1993-08-08</td>\n",
              "      <td>Paraguay</td>\n",
              "      <td>Argentina</td>\n",
              "      <td>1</td>\n",
              "      <td>3</td>\n",
              "      <td>FIFA World Cup qualification</td>\n",
              "      <td>False</td>\n",
              "      <td>1993</td>\n",
              "      <td>8</td>\n",
              "      <td>67.0</td>\n",
              "      <td>22.0</td>\n",
              "      <td>1993-08-08</td>\n",
              "    </tr>\n",
              "  </tbody>\n",
              "</table>\n",
              "</div>"
            ],
            "text/plain": [
              "        date home_team  ... previous_points  rank_date\n",
              "0 1993-08-08   Bolivia  ...            13.0 1993-08-08\n",
              "1 1993-08-08    Brazil  ...            55.0 1993-08-08\n",
              "2 1993-08-08   Ecuador  ...            23.0 1993-08-08\n",
              "3 1993-08-08    Guinea  ...            23.0 1993-08-08\n",
              "4 1993-08-08  Paraguay  ...            22.0 1993-08-08\n",
              "\n",
              "[5 rows x 12 columns]"
            ]
          },
          "metadata": {
            "tags": []
          },
          "execution_count": 25
        }
      ]
    },
    {
      "cell_type": "code",
      "metadata": {
        "id": "5lmrqO-6Y8Mu",
        "colab_type": "code",
        "colab": {}
      },
      "source": [
        "#from the ranking data we pull out the away team info by renaming the home team to away team\n",
        "ranking_data.rename({'home_team': 'away_team'},axis=1, inplace=True)"
      ],
      "execution_count": 0,
      "outputs": []
    },
    {
      "cell_type": "code",
      "metadata": {
        "id": "wnaXBubbZ1XU",
        "colab_type": "code",
        "outputId": "72582e0b-b7aa-427f-e3b3-44f210641e90",
        "colab": {
          "base_uri": "https://localhost:8080/",
          "height": 197
        }
      },
      "source": [
        "#check if this is done successfully\n",
        "ranking_data.head()"
      ],
      "execution_count": 27,
      "outputs": [
        {
          "output_type": "execute_result",
          "data": {
            "text/html": [
              "<div>\n",
              "<style scoped>\n",
              "    .dataframe tbody tr th:only-of-type {\n",
              "        vertical-align: middle;\n",
              "    }\n",
              "\n",
              "    .dataframe tbody tr th {\n",
              "        vertical-align: top;\n",
              "    }\n",
              "\n",
              "    .dataframe thead th {\n",
              "        text-align: right;\n",
              "    }\n",
              "</style>\n",
              "<table border=\"1\" class=\"dataframe\">\n",
              "  <thead>\n",
              "    <tr style=\"text-align: right;\">\n",
              "      <th></th>\n",
              "      <th>rank</th>\n",
              "      <th>previous_points</th>\n",
              "      <th>away_team</th>\n",
              "      <th>rank_date</th>\n",
              "      <th>year</th>\n",
              "      <th>month</th>\n",
              "    </tr>\n",
              "  </thead>\n",
              "  <tbody>\n",
              "    <tr>\n",
              "      <th>0</th>\n",
              "      <td>1</td>\n",
              "      <td>57</td>\n",
              "      <td>Germany</td>\n",
              "      <td>1993-08-08</td>\n",
              "      <td>1993</td>\n",
              "      <td>8</td>\n",
              "    </tr>\n",
              "    <tr>\n",
              "      <th>1</th>\n",
              "      <td>2</td>\n",
              "      <td>57</td>\n",
              "      <td>Italy</td>\n",
              "      <td>1993-08-08</td>\n",
              "      <td>1993</td>\n",
              "      <td>8</td>\n",
              "    </tr>\n",
              "    <tr>\n",
              "      <th>2</th>\n",
              "      <td>3</td>\n",
              "      <td>50</td>\n",
              "      <td>Switzerland</td>\n",
              "      <td>1993-08-08</td>\n",
              "      <td>1993</td>\n",
              "      <td>8</td>\n",
              "    </tr>\n",
              "    <tr>\n",
              "      <th>3</th>\n",
              "      <td>4</td>\n",
              "      <td>55</td>\n",
              "      <td>Sweden</td>\n",
              "      <td>1993-08-08</td>\n",
              "      <td>1993</td>\n",
              "      <td>8</td>\n",
              "    </tr>\n",
              "    <tr>\n",
              "      <th>4</th>\n",
              "      <td>5</td>\n",
              "      <td>51</td>\n",
              "      <td>Argentina</td>\n",
              "      <td>1993-08-08</td>\n",
              "      <td>1993</td>\n",
              "      <td>8</td>\n",
              "    </tr>\n",
              "  </tbody>\n",
              "</table>\n",
              "</div>"
            ],
            "text/plain": [
              "   rank  previous_points    away_team  rank_date  year  month\n",
              "0     1               57      Germany 1993-08-08  1993      8\n",
              "1     2               57        Italy 1993-08-08  1993      8\n",
              "2     3               50  Switzerland 1993-08-08  1993      8\n",
              "3     4               55       Sweden 1993-08-08  1993      8\n",
              "4     5               51    Argentina 1993-08-08  1993      8"
            ]
          },
          "metadata": {
            "tags": []
          },
          "execution_count": 27
        }
      ]
    },
    {
      "cell_type": "code",
      "metadata": {
        "id": "fZv4TxurUMH_",
        "colab_type": "code",
        "colab": {}
      },
      "source": [
        "#we now want to bring the away team rank into the merged table as ranking information is key in our project\n",
        "final = pd.merge(merged,ranking_data, how='left', on=['away_team', 'year', 'month'])"
      ],
      "execution_count": 0,
      "outputs": []
    },
    {
      "cell_type": "code",
      "metadata": {
        "id": "8vIlqvLEVEYL",
        "colab_type": "code",
        "outputId": "96e06049-2ff0-4d19-82c2-80f797ef1d7a",
        "colab": {
          "base_uri": "https://localhost:8080/",
          "height": 351
        }
      },
      "source": [
        "final.head()"
      ],
      "execution_count": 29,
      "outputs": [
        {
          "output_type": "execute_result",
          "data": {
            "text/html": [
              "<div>\n",
              "<style scoped>\n",
              "    .dataframe tbody tr th:only-of-type {\n",
              "        vertical-align: middle;\n",
              "    }\n",
              "\n",
              "    .dataframe tbody tr th {\n",
              "        vertical-align: top;\n",
              "    }\n",
              "\n",
              "    .dataframe thead th {\n",
              "        text-align: right;\n",
              "    }\n",
              "</style>\n",
              "<table border=\"1\" class=\"dataframe\">\n",
              "  <thead>\n",
              "    <tr style=\"text-align: right;\">\n",
              "      <th></th>\n",
              "      <th>date</th>\n",
              "      <th>home_team</th>\n",
              "      <th>away_team</th>\n",
              "      <th>home_score</th>\n",
              "      <th>away_score</th>\n",
              "      <th>tournament</th>\n",
              "      <th>neutral</th>\n",
              "      <th>year</th>\n",
              "      <th>month</th>\n",
              "      <th>home_team_rank</th>\n",
              "      <th>previous_points_x</th>\n",
              "      <th>rank_date_x</th>\n",
              "      <th>rank</th>\n",
              "      <th>previous_points_y</th>\n",
              "      <th>rank_date_y</th>\n",
              "    </tr>\n",
              "  </thead>\n",
              "  <tbody>\n",
              "    <tr>\n",
              "      <th>0</th>\n",
              "      <td>1993-08-08</td>\n",
              "      <td>Bolivia</td>\n",
              "      <td>Uruguay</td>\n",
              "      <td>3</td>\n",
              "      <td>1</td>\n",
              "      <td>FIFA World Cup qualification</td>\n",
              "      <td>False</td>\n",
              "      <td>1993</td>\n",
              "      <td>8</td>\n",
              "      <td>59.0</td>\n",
              "      <td>13.0</td>\n",
              "      <td>1993-08-08</td>\n",
              "      <td>22.0</td>\n",
              "      <td>47.0</td>\n",
              "      <td>1993-08-08</td>\n",
              "    </tr>\n",
              "    <tr>\n",
              "      <th>1</th>\n",
              "      <td>1993-08-08</td>\n",
              "      <td>Brazil</td>\n",
              "      <td>Mexico</td>\n",
              "      <td>1</td>\n",
              "      <td>1</td>\n",
              "      <td>Friendly</td>\n",
              "      <td>False</td>\n",
              "      <td>1993</td>\n",
              "      <td>8</td>\n",
              "      <td>8.0</td>\n",
              "      <td>55.0</td>\n",
              "      <td>1993-08-08</td>\n",
              "      <td>14.0</td>\n",
              "      <td>42.0</td>\n",
              "      <td>1993-08-08</td>\n",
              "    </tr>\n",
              "    <tr>\n",
              "      <th>2</th>\n",
              "      <td>1993-08-08</td>\n",
              "      <td>Ecuador</td>\n",
              "      <td>Venezuela</td>\n",
              "      <td>5</td>\n",
              "      <td>0</td>\n",
              "      <td>FIFA World Cup qualification</td>\n",
              "      <td>False</td>\n",
              "      <td>1993</td>\n",
              "      <td>8</td>\n",
              "      <td>35.0</td>\n",
              "      <td>23.0</td>\n",
              "      <td>1993-08-08</td>\n",
              "      <td>94.0</td>\n",
              "      <td>4.0</td>\n",
              "      <td>1993-08-08</td>\n",
              "    </tr>\n",
              "    <tr>\n",
              "      <th>3</th>\n",
              "      <td>1993-08-08</td>\n",
              "      <td>Guinea</td>\n",
              "      <td>Sierra Leone</td>\n",
              "      <td>1</td>\n",
              "      <td>0</td>\n",
              "      <td>Friendly</td>\n",
              "      <td>False</td>\n",
              "      <td>1993</td>\n",
              "      <td>8</td>\n",
              "      <td>65.0</td>\n",
              "      <td>23.0</td>\n",
              "      <td>1993-08-08</td>\n",
              "      <td>86.0</td>\n",
              "      <td>16.0</td>\n",
              "      <td>1993-08-08</td>\n",
              "    </tr>\n",
              "    <tr>\n",
              "      <th>4</th>\n",
              "      <td>1993-08-08</td>\n",
              "      <td>Paraguay</td>\n",
              "      <td>Argentina</td>\n",
              "      <td>1</td>\n",
              "      <td>3</td>\n",
              "      <td>FIFA World Cup qualification</td>\n",
              "      <td>False</td>\n",
              "      <td>1993</td>\n",
              "      <td>8</td>\n",
              "      <td>67.0</td>\n",
              "      <td>22.0</td>\n",
              "      <td>1993-08-08</td>\n",
              "      <td>5.0</td>\n",
              "      <td>51.0</td>\n",
              "      <td>1993-08-08</td>\n",
              "    </tr>\n",
              "  </tbody>\n",
              "</table>\n",
              "</div>"
            ],
            "text/plain": [
              "        date home_team     away_team  ...  rank  previous_points_y rank_date_y\n",
              "0 1993-08-08   Bolivia       Uruguay  ...  22.0               47.0  1993-08-08\n",
              "1 1993-08-08    Brazil        Mexico  ...  14.0               42.0  1993-08-08\n",
              "2 1993-08-08   Ecuador     Venezuela  ...  94.0                4.0  1993-08-08\n",
              "3 1993-08-08    Guinea  Sierra Leone  ...  86.0               16.0  1993-08-08\n",
              "4 1993-08-08  Paraguay     Argentina  ...   5.0               51.0  1993-08-08\n",
              "\n",
              "[5 rows x 15 columns]"
            ]
          },
          "metadata": {
            "tags": []
          },
          "execution_count": 29
        }
      ]
    },
    {
      "cell_type": "code",
      "metadata": {
        "id": "ElIqlUzuWsNA",
        "colab_type": "code",
        "outputId": "ee014ca7-b2cb-4159-a141-a404f72a0c15",
        "colab": {
          "base_uri": "https://localhost:8080/",
          "height": 351
        }
      },
      "source": [
        "#we rename he column rank in the final to away team rank\n",
        "final.rename(columns={'rank':'away_team_rank','previous_points_x':'home_previous_points','rank_date_x':'home_rank_date',\n",
        "                      'previous_points_y':'away_previous_points','rank_date_y':'away_rank_date'}, inplace=True)\n",
        "final.head()"
      ],
      "execution_count": 30,
      "outputs": [
        {
          "output_type": "execute_result",
          "data": {
            "text/html": [
              "<div>\n",
              "<style scoped>\n",
              "    .dataframe tbody tr th:only-of-type {\n",
              "        vertical-align: middle;\n",
              "    }\n",
              "\n",
              "    .dataframe tbody tr th {\n",
              "        vertical-align: top;\n",
              "    }\n",
              "\n",
              "    .dataframe thead th {\n",
              "        text-align: right;\n",
              "    }\n",
              "</style>\n",
              "<table border=\"1\" class=\"dataframe\">\n",
              "  <thead>\n",
              "    <tr style=\"text-align: right;\">\n",
              "      <th></th>\n",
              "      <th>date</th>\n",
              "      <th>home_team</th>\n",
              "      <th>away_team</th>\n",
              "      <th>home_score</th>\n",
              "      <th>away_score</th>\n",
              "      <th>tournament</th>\n",
              "      <th>neutral</th>\n",
              "      <th>year</th>\n",
              "      <th>month</th>\n",
              "      <th>home_team_rank</th>\n",
              "      <th>home_previous_points</th>\n",
              "      <th>home_rank_date</th>\n",
              "      <th>away_team_rank</th>\n",
              "      <th>away_previous_points</th>\n",
              "      <th>away_rank_date</th>\n",
              "    </tr>\n",
              "  </thead>\n",
              "  <tbody>\n",
              "    <tr>\n",
              "      <th>0</th>\n",
              "      <td>1993-08-08</td>\n",
              "      <td>Bolivia</td>\n",
              "      <td>Uruguay</td>\n",
              "      <td>3</td>\n",
              "      <td>1</td>\n",
              "      <td>FIFA World Cup qualification</td>\n",
              "      <td>False</td>\n",
              "      <td>1993</td>\n",
              "      <td>8</td>\n",
              "      <td>59.0</td>\n",
              "      <td>13.0</td>\n",
              "      <td>1993-08-08</td>\n",
              "      <td>22.0</td>\n",
              "      <td>47.0</td>\n",
              "      <td>1993-08-08</td>\n",
              "    </tr>\n",
              "    <tr>\n",
              "      <th>1</th>\n",
              "      <td>1993-08-08</td>\n",
              "      <td>Brazil</td>\n",
              "      <td>Mexico</td>\n",
              "      <td>1</td>\n",
              "      <td>1</td>\n",
              "      <td>Friendly</td>\n",
              "      <td>False</td>\n",
              "      <td>1993</td>\n",
              "      <td>8</td>\n",
              "      <td>8.0</td>\n",
              "      <td>55.0</td>\n",
              "      <td>1993-08-08</td>\n",
              "      <td>14.0</td>\n",
              "      <td>42.0</td>\n",
              "      <td>1993-08-08</td>\n",
              "    </tr>\n",
              "    <tr>\n",
              "      <th>2</th>\n",
              "      <td>1993-08-08</td>\n",
              "      <td>Ecuador</td>\n",
              "      <td>Venezuela</td>\n",
              "      <td>5</td>\n",
              "      <td>0</td>\n",
              "      <td>FIFA World Cup qualification</td>\n",
              "      <td>False</td>\n",
              "      <td>1993</td>\n",
              "      <td>8</td>\n",
              "      <td>35.0</td>\n",
              "      <td>23.0</td>\n",
              "      <td>1993-08-08</td>\n",
              "      <td>94.0</td>\n",
              "      <td>4.0</td>\n",
              "      <td>1993-08-08</td>\n",
              "    </tr>\n",
              "    <tr>\n",
              "      <th>3</th>\n",
              "      <td>1993-08-08</td>\n",
              "      <td>Guinea</td>\n",
              "      <td>Sierra Leone</td>\n",
              "      <td>1</td>\n",
              "      <td>0</td>\n",
              "      <td>Friendly</td>\n",
              "      <td>False</td>\n",
              "      <td>1993</td>\n",
              "      <td>8</td>\n",
              "      <td>65.0</td>\n",
              "      <td>23.0</td>\n",
              "      <td>1993-08-08</td>\n",
              "      <td>86.0</td>\n",
              "      <td>16.0</td>\n",
              "      <td>1993-08-08</td>\n",
              "    </tr>\n",
              "    <tr>\n",
              "      <th>4</th>\n",
              "      <td>1993-08-08</td>\n",
              "      <td>Paraguay</td>\n",
              "      <td>Argentina</td>\n",
              "      <td>1</td>\n",
              "      <td>3</td>\n",
              "      <td>FIFA World Cup qualification</td>\n",
              "      <td>False</td>\n",
              "      <td>1993</td>\n",
              "      <td>8</td>\n",
              "      <td>67.0</td>\n",
              "      <td>22.0</td>\n",
              "      <td>1993-08-08</td>\n",
              "      <td>5.0</td>\n",
              "      <td>51.0</td>\n",
              "      <td>1993-08-08</td>\n",
              "    </tr>\n",
              "  </tbody>\n",
              "</table>\n",
              "</div>"
            ],
            "text/plain": [
              "        date home_team  ... away_previous_points  away_rank_date\n",
              "0 1993-08-08   Bolivia  ...                 47.0      1993-08-08\n",
              "1 1993-08-08    Brazil  ...                 42.0      1993-08-08\n",
              "2 1993-08-08   Ecuador  ...                  4.0      1993-08-08\n",
              "3 1993-08-08    Guinea  ...                 16.0      1993-08-08\n",
              "4 1993-08-08  Paraguay  ...                 51.0      1993-08-08\n",
              "\n",
              "[5 rows x 15 columns]"
            ]
          },
          "metadata": {
            "tags": []
          },
          "execution_count": 30
        }
      ]
    },
    {
      "cell_type": "code",
      "metadata": {
        "id": "UJ3J5Chr9WHh",
        "colab_type": "code",
        "colab": {}
      },
      "source": [
        "#we want to make the values in our tournament column to have\n",
        "#Tournament type (World cup, Friendly, Other)\n",
        "#We create a function to lay out this\n",
        "def tournament(match):\n",
        "  if match == 'FIFA World Cup qualification':\n",
        "    return 'worldcup'\n",
        "  if match == 'Friendly':\n",
        "    return 'Friendly'\n",
        "  else:\n",
        "    return 'other'"
      ],
      "execution_count": 0,
      "outputs": []
    },
    {
      "cell_type": "code",
      "metadata": {
        "id": "IvmLt629gfs_",
        "colab_type": "code",
        "colab": {}
      },
      "source": [
        "final['match']=final['tournament'].apply(lambda x: tournament(x))"
      ],
      "execution_count": 0,
      "outputs": []
    },
    {
      "cell_type": "code",
      "metadata": {
        "id": "Fxv5y6HEivU7",
        "colab_type": "code",
        "outputId": "2cb3b292-daf3-4f65-8bb8-e0a3d2ac2652",
        "colab": {
          "base_uri": "https://localhost:8080/",
          "height": 351
        }
      },
      "source": [
        "final.head()"
      ],
      "execution_count": 33,
      "outputs": [
        {
          "output_type": "execute_result",
          "data": {
            "text/html": [
              "<div>\n",
              "<style scoped>\n",
              "    .dataframe tbody tr th:only-of-type {\n",
              "        vertical-align: middle;\n",
              "    }\n",
              "\n",
              "    .dataframe tbody tr th {\n",
              "        vertical-align: top;\n",
              "    }\n",
              "\n",
              "    .dataframe thead th {\n",
              "        text-align: right;\n",
              "    }\n",
              "</style>\n",
              "<table border=\"1\" class=\"dataframe\">\n",
              "  <thead>\n",
              "    <tr style=\"text-align: right;\">\n",
              "      <th></th>\n",
              "      <th>date</th>\n",
              "      <th>home_team</th>\n",
              "      <th>away_team</th>\n",
              "      <th>home_score</th>\n",
              "      <th>away_score</th>\n",
              "      <th>tournament</th>\n",
              "      <th>neutral</th>\n",
              "      <th>year</th>\n",
              "      <th>month</th>\n",
              "      <th>home_team_rank</th>\n",
              "      <th>home_previous_points</th>\n",
              "      <th>home_rank_date</th>\n",
              "      <th>away_team_rank</th>\n",
              "      <th>away_previous_points</th>\n",
              "      <th>away_rank_date</th>\n",
              "      <th>match</th>\n",
              "    </tr>\n",
              "  </thead>\n",
              "  <tbody>\n",
              "    <tr>\n",
              "      <th>0</th>\n",
              "      <td>1993-08-08</td>\n",
              "      <td>Bolivia</td>\n",
              "      <td>Uruguay</td>\n",
              "      <td>3</td>\n",
              "      <td>1</td>\n",
              "      <td>FIFA World Cup qualification</td>\n",
              "      <td>False</td>\n",
              "      <td>1993</td>\n",
              "      <td>8</td>\n",
              "      <td>59.0</td>\n",
              "      <td>13.0</td>\n",
              "      <td>1993-08-08</td>\n",
              "      <td>22.0</td>\n",
              "      <td>47.0</td>\n",
              "      <td>1993-08-08</td>\n",
              "      <td>worldcup</td>\n",
              "    </tr>\n",
              "    <tr>\n",
              "      <th>1</th>\n",
              "      <td>1993-08-08</td>\n",
              "      <td>Brazil</td>\n",
              "      <td>Mexico</td>\n",
              "      <td>1</td>\n",
              "      <td>1</td>\n",
              "      <td>Friendly</td>\n",
              "      <td>False</td>\n",
              "      <td>1993</td>\n",
              "      <td>8</td>\n",
              "      <td>8.0</td>\n",
              "      <td>55.0</td>\n",
              "      <td>1993-08-08</td>\n",
              "      <td>14.0</td>\n",
              "      <td>42.0</td>\n",
              "      <td>1993-08-08</td>\n",
              "      <td>Friendly</td>\n",
              "    </tr>\n",
              "    <tr>\n",
              "      <th>2</th>\n",
              "      <td>1993-08-08</td>\n",
              "      <td>Ecuador</td>\n",
              "      <td>Venezuela</td>\n",
              "      <td>5</td>\n",
              "      <td>0</td>\n",
              "      <td>FIFA World Cup qualification</td>\n",
              "      <td>False</td>\n",
              "      <td>1993</td>\n",
              "      <td>8</td>\n",
              "      <td>35.0</td>\n",
              "      <td>23.0</td>\n",
              "      <td>1993-08-08</td>\n",
              "      <td>94.0</td>\n",
              "      <td>4.0</td>\n",
              "      <td>1993-08-08</td>\n",
              "      <td>worldcup</td>\n",
              "    </tr>\n",
              "    <tr>\n",
              "      <th>3</th>\n",
              "      <td>1993-08-08</td>\n",
              "      <td>Guinea</td>\n",
              "      <td>Sierra Leone</td>\n",
              "      <td>1</td>\n",
              "      <td>0</td>\n",
              "      <td>Friendly</td>\n",
              "      <td>False</td>\n",
              "      <td>1993</td>\n",
              "      <td>8</td>\n",
              "      <td>65.0</td>\n",
              "      <td>23.0</td>\n",
              "      <td>1993-08-08</td>\n",
              "      <td>86.0</td>\n",
              "      <td>16.0</td>\n",
              "      <td>1993-08-08</td>\n",
              "      <td>Friendly</td>\n",
              "    </tr>\n",
              "    <tr>\n",
              "      <th>4</th>\n",
              "      <td>1993-08-08</td>\n",
              "      <td>Paraguay</td>\n",
              "      <td>Argentina</td>\n",
              "      <td>1</td>\n",
              "      <td>3</td>\n",
              "      <td>FIFA World Cup qualification</td>\n",
              "      <td>False</td>\n",
              "      <td>1993</td>\n",
              "      <td>8</td>\n",
              "      <td>67.0</td>\n",
              "      <td>22.0</td>\n",
              "      <td>1993-08-08</td>\n",
              "      <td>5.0</td>\n",
              "      <td>51.0</td>\n",
              "      <td>1993-08-08</td>\n",
              "      <td>worldcup</td>\n",
              "    </tr>\n",
              "  </tbody>\n",
              "</table>\n",
              "</div>"
            ],
            "text/plain": [
              "        date home_team  ... away_rank_date     match\n",
              "0 1993-08-08   Bolivia  ...     1993-08-08  worldcup\n",
              "1 1993-08-08    Brazil  ...     1993-08-08  Friendly\n",
              "2 1993-08-08   Ecuador  ...     1993-08-08  worldcup\n",
              "3 1993-08-08    Guinea  ...     1993-08-08  Friendly\n",
              "4 1993-08-08  Paraguay  ...     1993-08-08  worldcup\n",
              "\n",
              "[5 rows x 16 columns]"
            ]
          },
          "metadata": {
            "tags": []
          },
          "execution_count": 33
        }
      ]
    },
    {
      "cell_type": "code",
      "metadata": {
        "id": "u3bkK7khkpSM",
        "colab_type": "code",
        "outputId": "aac84066-864f-49ac-90af-ec4f902b6f79",
        "colab": {
          "base_uri": "https://localhost:8080/",
          "height": 131
        }
      },
      "source": [
        "#we create a column that will hold the values indicating a win,lose or draw and from a home team perspective\n",
        "#this is computed by getting the difference between home_score and away_score\n",
        "final['output'] = final['home_score'] - final['away_score']\n",
        "final.head(1)"
      ],
      "execution_count": 34,
      "outputs": [
        {
          "output_type": "execute_result",
          "data": {
            "text/html": [
              "<div>\n",
              "<style scoped>\n",
              "    .dataframe tbody tr th:only-of-type {\n",
              "        vertical-align: middle;\n",
              "    }\n",
              "\n",
              "    .dataframe tbody tr th {\n",
              "        vertical-align: top;\n",
              "    }\n",
              "\n",
              "    .dataframe thead th {\n",
              "        text-align: right;\n",
              "    }\n",
              "</style>\n",
              "<table border=\"1\" class=\"dataframe\">\n",
              "  <thead>\n",
              "    <tr style=\"text-align: right;\">\n",
              "      <th></th>\n",
              "      <th>date</th>\n",
              "      <th>home_team</th>\n",
              "      <th>away_team</th>\n",
              "      <th>home_score</th>\n",
              "      <th>away_score</th>\n",
              "      <th>tournament</th>\n",
              "      <th>neutral</th>\n",
              "      <th>year</th>\n",
              "      <th>month</th>\n",
              "      <th>home_team_rank</th>\n",
              "      <th>home_previous_points</th>\n",
              "      <th>home_rank_date</th>\n",
              "      <th>away_team_rank</th>\n",
              "      <th>away_previous_points</th>\n",
              "      <th>away_rank_date</th>\n",
              "      <th>match</th>\n",
              "      <th>output</th>\n",
              "    </tr>\n",
              "  </thead>\n",
              "  <tbody>\n",
              "    <tr>\n",
              "      <th>0</th>\n",
              "      <td>1993-08-08</td>\n",
              "      <td>Bolivia</td>\n",
              "      <td>Uruguay</td>\n",
              "      <td>3</td>\n",
              "      <td>1</td>\n",
              "      <td>FIFA World Cup qualification</td>\n",
              "      <td>False</td>\n",
              "      <td>1993</td>\n",
              "      <td>8</td>\n",
              "      <td>59.0</td>\n",
              "      <td>13.0</td>\n",
              "      <td>1993-08-08</td>\n",
              "      <td>22.0</td>\n",
              "      <td>47.0</td>\n",
              "      <td>1993-08-08</td>\n",
              "      <td>worldcup</td>\n",
              "      <td>2</td>\n",
              "    </tr>\n",
              "  </tbody>\n",
              "</table>\n",
              "</div>"
            ],
            "text/plain": [
              "        date home_team away_team  ...  away_rank_date     match output\n",
              "0 1993-08-08   Bolivia   Uruguay  ...      1993-08-08  worldcup      2\n",
              "\n",
              "[1 rows x 17 columns]"
            ]
          },
          "metadata": {
            "tags": []
          },
          "execution_count": 34
        }
      ]
    },
    {
      "cell_type": "code",
      "metadata": {
        "id": "5LE_NaGjjv50",
        "colab_type": "code",
        "colab": {}
      },
      "source": [
        "#we want to also write a function to incorporate whether a match is a win loss or a draw\n",
        "def output(position):\n",
        "  if position > 0:\n",
        "    return 'win'\n",
        "  if position < 0:\n",
        "    return 'loss'\n",
        "  elif position == 0:\n",
        "    return 'draw'\n",
        "    "
      ],
      "execution_count": 0,
      "outputs": []
    },
    {
      "cell_type": "code",
      "metadata": {
        "id": "NJxoJrvZldmu",
        "colab_type": "code",
        "outputId": "3f48ab47-b84c-4712-dea4-74e495e7dfc9",
        "colab": {
          "base_uri": "https://localhost:8080/",
          "height": 177
        }
      },
      "source": [
        "#applying the function\n",
        "final['position']=final['output'].apply(lambda x: output(x))\n",
        "final.head(2)"
      ],
      "execution_count": 36,
      "outputs": [
        {
          "output_type": "execute_result",
          "data": {
            "text/html": [
              "<div>\n",
              "<style scoped>\n",
              "    .dataframe tbody tr th:only-of-type {\n",
              "        vertical-align: middle;\n",
              "    }\n",
              "\n",
              "    .dataframe tbody tr th {\n",
              "        vertical-align: top;\n",
              "    }\n",
              "\n",
              "    .dataframe thead th {\n",
              "        text-align: right;\n",
              "    }\n",
              "</style>\n",
              "<table border=\"1\" class=\"dataframe\">\n",
              "  <thead>\n",
              "    <tr style=\"text-align: right;\">\n",
              "      <th></th>\n",
              "      <th>date</th>\n",
              "      <th>home_team</th>\n",
              "      <th>away_team</th>\n",
              "      <th>home_score</th>\n",
              "      <th>away_score</th>\n",
              "      <th>tournament</th>\n",
              "      <th>neutral</th>\n",
              "      <th>year</th>\n",
              "      <th>month</th>\n",
              "      <th>home_team_rank</th>\n",
              "      <th>home_previous_points</th>\n",
              "      <th>home_rank_date</th>\n",
              "      <th>away_team_rank</th>\n",
              "      <th>away_previous_points</th>\n",
              "      <th>away_rank_date</th>\n",
              "      <th>match</th>\n",
              "      <th>output</th>\n",
              "      <th>position</th>\n",
              "    </tr>\n",
              "  </thead>\n",
              "  <tbody>\n",
              "    <tr>\n",
              "      <th>0</th>\n",
              "      <td>1993-08-08</td>\n",
              "      <td>Bolivia</td>\n",
              "      <td>Uruguay</td>\n",
              "      <td>3</td>\n",
              "      <td>1</td>\n",
              "      <td>FIFA World Cup qualification</td>\n",
              "      <td>False</td>\n",
              "      <td>1993</td>\n",
              "      <td>8</td>\n",
              "      <td>59.0</td>\n",
              "      <td>13.0</td>\n",
              "      <td>1993-08-08</td>\n",
              "      <td>22.0</td>\n",
              "      <td>47.0</td>\n",
              "      <td>1993-08-08</td>\n",
              "      <td>worldcup</td>\n",
              "      <td>2</td>\n",
              "      <td>win</td>\n",
              "    </tr>\n",
              "    <tr>\n",
              "      <th>1</th>\n",
              "      <td>1993-08-08</td>\n",
              "      <td>Brazil</td>\n",
              "      <td>Mexico</td>\n",
              "      <td>1</td>\n",
              "      <td>1</td>\n",
              "      <td>Friendly</td>\n",
              "      <td>False</td>\n",
              "      <td>1993</td>\n",
              "      <td>8</td>\n",
              "      <td>8.0</td>\n",
              "      <td>55.0</td>\n",
              "      <td>1993-08-08</td>\n",
              "      <td>14.0</td>\n",
              "      <td>42.0</td>\n",
              "      <td>1993-08-08</td>\n",
              "      <td>Friendly</td>\n",
              "      <td>0</td>\n",
              "      <td>draw</td>\n",
              "    </tr>\n",
              "  </tbody>\n",
              "</table>\n",
              "</div>"
            ],
            "text/plain": [
              "        date home_team away_team  ...     match  output position\n",
              "0 1993-08-08   Bolivia   Uruguay  ...  worldcup       2      win\n",
              "1 1993-08-08    Brazil    Mexico  ...  Friendly       0     draw\n",
              "\n",
              "[2 rows x 18 columns]"
            ]
          },
          "metadata": {
            "tags": []
          },
          "execution_count": 36
        }
      ]
    },
    {
      "cell_type": "code",
      "metadata": {
        "id": "fqudtJC_ogK2",
        "colab_type": "code",
        "colab": {}
      },
      "source": [
        "#for us to perform machine learning we have to concert categorical data to numericals so we assign dummy variables\n",
        "#as below and combine with the dataset\n",
        "dummy = pd.get_dummies(final['match'])\n",
        "final=pd.concat([final, dummy], axis=1)"
      ],
      "execution_count": 0,
      "outputs": []
    },
    {
      "cell_type": "code",
      "metadata": {
        "id": "9gFOt_aon96a",
        "colab_type": "code",
        "colab": {}
      },
      "source": [
        "#we now drop the columns that we dont need for modelling like the date,tournament,year,month,home_rank_date,away_rank_date,out\n",
        "final.drop(['date','away_team','home_team','tournament','year','month','home_rank_date','away_rank_date'], axis=1, inplace=True)\n"
      ],
      "execution_count": 0,
      "outputs": []
    },
    {
      "cell_type": "code",
      "metadata": {
        "id": "DA4kLJU6ujWN",
        "colab_type": "code",
        "outputId": "a4dea59c-3371-4886-f2d2-98e65f1a8ede",
        "colab": {
          "base_uri": "https://localhost:8080/",
          "height": 217
        }
      },
      "source": [
        "final.head()"
      ],
      "execution_count": 39,
      "outputs": [
        {
          "output_type": "execute_result",
          "data": {
            "text/html": [
              "<div>\n",
              "<style scoped>\n",
              "    .dataframe tbody tr th:only-of-type {\n",
              "        vertical-align: middle;\n",
              "    }\n",
              "\n",
              "    .dataframe tbody tr th {\n",
              "        vertical-align: top;\n",
              "    }\n",
              "\n",
              "    .dataframe thead th {\n",
              "        text-align: right;\n",
              "    }\n",
              "</style>\n",
              "<table border=\"1\" class=\"dataframe\">\n",
              "  <thead>\n",
              "    <tr style=\"text-align: right;\">\n",
              "      <th></th>\n",
              "      <th>home_score</th>\n",
              "      <th>away_score</th>\n",
              "      <th>neutral</th>\n",
              "      <th>home_team_rank</th>\n",
              "      <th>home_previous_points</th>\n",
              "      <th>away_team_rank</th>\n",
              "      <th>away_previous_points</th>\n",
              "      <th>match</th>\n",
              "      <th>output</th>\n",
              "      <th>position</th>\n",
              "      <th>Friendly</th>\n",
              "      <th>other</th>\n",
              "      <th>worldcup</th>\n",
              "    </tr>\n",
              "  </thead>\n",
              "  <tbody>\n",
              "    <tr>\n",
              "      <th>0</th>\n",
              "      <td>3</td>\n",
              "      <td>1</td>\n",
              "      <td>False</td>\n",
              "      <td>59.0</td>\n",
              "      <td>13.0</td>\n",
              "      <td>22.0</td>\n",
              "      <td>47.0</td>\n",
              "      <td>worldcup</td>\n",
              "      <td>2</td>\n",
              "      <td>win</td>\n",
              "      <td>0</td>\n",
              "      <td>0</td>\n",
              "      <td>1</td>\n",
              "    </tr>\n",
              "    <tr>\n",
              "      <th>1</th>\n",
              "      <td>1</td>\n",
              "      <td>1</td>\n",
              "      <td>False</td>\n",
              "      <td>8.0</td>\n",
              "      <td>55.0</td>\n",
              "      <td>14.0</td>\n",
              "      <td>42.0</td>\n",
              "      <td>Friendly</td>\n",
              "      <td>0</td>\n",
              "      <td>draw</td>\n",
              "      <td>1</td>\n",
              "      <td>0</td>\n",
              "      <td>0</td>\n",
              "    </tr>\n",
              "    <tr>\n",
              "      <th>2</th>\n",
              "      <td>5</td>\n",
              "      <td>0</td>\n",
              "      <td>False</td>\n",
              "      <td>35.0</td>\n",
              "      <td>23.0</td>\n",
              "      <td>94.0</td>\n",
              "      <td>4.0</td>\n",
              "      <td>worldcup</td>\n",
              "      <td>5</td>\n",
              "      <td>win</td>\n",
              "      <td>0</td>\n",
              "      <td>0</td>\n",
              "      <td>1</td>\n",
              "    </tr>\n",
              "    <tr>\n",
              "      <th>3</th>\n",
              "      <td>1</td>\n",
              "      <td>0</td>\n",
              "      <td>False</td>\n",
              "      <td>65.0</td>\n",
              "      <td>23.0</td>\n",
              "      <td>86.0</td>\n",
              "      <td>16.0</td>\n",
              "      <td>Friendly</td>\n",
              "      <td>1</td>\n",
              "      <td>win</td>\n",
              "      <td>1</td>\n",
              "      <td>0</td>\n",
              "      <td>0</td>\n",
              "    </tr>\n",
              "    <tr>\n",
              "      <th>4</th>\n",
              "      <td>1</td>\n",
              "      <td>3</td>\n",
              "      <td>False</td>\n",
              "      <td>67.0</td>\n",
              "      <td>22.0</td>\n",
              "      <td>5.0</td>\n",
              "      <td>51.0</td>\n",
              "      <td>worldcup</td>\n",
              "      <td>-2</td>\n",
              "      <td>loss</td>\n",
              "      <td>0</td>\n",
              "      <td>0</td>\n",
              "      <td>1</td>\n",
              "    </tr>\n",
              "  </tbody>\n",
              "</table>\n",
              "</div>"
            ],
            "text/plain": [
              "   home_score  away_score  neutral  ...  Friendly  other  worldcup\n",
              "0           3           1    False  ...         0      0         1\n",
              "1           1           1    False  ...         1      0         0\n",
              "2           5           0    False  ...         0      0         1\n",
              "3           1           0    False  ...         1      0         0\n",
              "4           1           3    False  ...         0      0         1\n",
              "\n",
              "[5 rows x 13 columns]"
            ]
          },
          "metadata": {
            "tags": []
          },
          "execution_count": 39
        }
      ]
    },
    {
      "cell_type": "code",
      "metadata": {
        "id": "5sqgS2_ou06L",
        "colab_type": "code",
        "colab": {}
      },
      "source": [
        "#convert the neutral column values to numericals and combine with table\n",
        "dummy_2= pd.get_dummies(final['neutral'])\n",
        "final=pd.concat([final,dummy_2], axis=1)"
      ],
      "execution_count": 0,
      "outputs": []
    },
    {
      "cell_type": "code",
      "metadata": {
        "id": "booNGgvNz0G7",
        "colab_type": "code",
        "outputId": "1a90405e-d359-4fca-9a8b-25436be6c248",
        "colab": {
          "base_uri": "https://localhost:8080/",
          "height": 217
        }
      },
      "source": [
        "#check whether this was successfully done\n",
        "final.head()"
      ],
      "execution_count": 41,
      "outputs": [
        {
          "output_type": "execute_result",
          "data": {
            "text/html": [
              "<div>\n",
              "<style scoped>\n",
              "    .dataframe tbody tr th:only-of-type {\n",
              "        vertical-align: middle;\n",
              "    }\n",
              "\n",
              "    .dataframe tbody tr th {\n",
              "        vertical-align: top;\n",
              "    }\n",
              "\n",
              "    .dataframe thead th {\n",
              "        text-align: right;\n",
              "    }\n",
              "</style>\n",
              "<table border=\"1\" class=\"dataframe\">\n",
              "  <thead>\n",
              "    <tr style=\"text-align: right;\">\n",
              "      <th></th>\n",
              "      <th>home_score</th>\n",
              "      <th>away_score</th>\n",
              "      <th>neutral</th>\n",
              "      <th>home_team_rank</th>\n",
              "      <th>home_previous_points</th>\n",
              "      <th>away_team_rank</th>\n",
              "      <th>away_previous_points</th>\n",
              "      <th>match</th>\n",
              "      <th>output</th>\n",
              "      <th>position</th>\n",
              "      <th>Friendly</th>\n",
              "      <th>other</th>\n",
              "      <th>worldcup</th>\n",
              "      <th>False</th>\n",
              "      <th>True</th>\n",
              "    </tr>\n",
              "  </thead>\n",
              "  <tbody>\n",
              "    <tr>\n",
              "      <th>0</th>\n",
              "      <td>3</td>\n",
              "      <td>1</td>\n",
              "      <td>False</td>\n",
              "      <td>59.0</td>\n",
              "      <td>13.0</td>\n",
              "      <td>22.0</td>\n",
              "      <td>47.0</td>\n",
              "      <td>worldcup</td>\n",
              "      <td>2</td>\n",
              "      <td>win</td>\n",
              "      <td>0</td>\n",
              "      <td>0</td>\n",
              "      <td>1</td>\n",
              "      <td>1</td>\n",
              "      <td>0</td>\n",
              "    </tr>\n",
              "    <tr>\n",
              "      <th>1</th>\n",
              "      <td>1</td>\n",
              "      <td>1</td>\n",
              "      <td>False</td>\n",
              "      <td>8.0</td>\n",
              "      <td>55.0</td>\n",
              "      <td>14.0</td>\n",
              "      <td>42.0</td>\n",
              "      <td>Friendly</td>\n",
              "      <td>0</td>\n",
              "      <td>draw</td>\n",
              "      <td>1</td>\n",
              "      <td>0</td>\n",
              "      <td>0</td>\n",
              "      <td>1</td>\n",
              "      <td>0</td>\n",
              "    </tr>\n",
              "    <tr>\n",
              "      <th>2</th>\n",
              "      <td>5</td>\n",
              "      <td>0</td>\n",
              "      <td>False</td>\n",
              "      <td>35.0</td>\n",
              "      <td>23.0</td>\n",
              "      <td>94.0</td>\n",
              "      <td>4.0</td>\n",
              "      <td>worldcup</td>\n",
              "      <td>5</td>\n",
              "      <td>win</td>\n",
              "      <td>0</td>\n",
              "      <td>0</td>\n",
              "      <td>1</td>\n",
              "      <td>1</td>\n",
              "      <td>0</td>\n",
              "    </tr>\n",
              "    <tr>\n",
              "      <th>3</th>\n",
              "      <td>1</td>\n",
              "      <td>0</td>\n",
              "      <td>False</td>\n",
              "      <td>65.0</td>\n",
              "      <td>23.0</td>\n",
              "      <td>86.0</td>\n",
              "      <td>16.0</td>\n",
              "      <td>Friendly</td>\n",
              "      <td>1</td>\n",
              "      <td>win</td>\n",
              "      <td>1</td>\n",
              "      <td>0</td>\n",
              "      <td>0</td>\n",
              "      <td>1</td>\n",
              "      <td>0</td>\n",
              "    </tr>\n",
              "    <tr>\n",
              "      <th>4</th>\n",
              "      <td>1</td>\n",
              "      <td>3</td>\n",
              "      <td>False</td>\n",
              "      <td>67.0</td>\n",
              "      <td>22.0</td>\n",
              "      <td>5.0</td>\n",
              "      <td>51.0</td>\n",
              "      <td>worldcup</td>\n",
              "      <td>-2</td>\n",
              "      <td>loss</td>\n",
              "      <td>0</td>\n",
              "      <td>0</td>\n",
              "      <td>1</td>\n",
              "      <td>1</td>\n",
              "      <td>0</td>\n",
              "    </tr>\n",
              "  </tbody>\n",
              "</table>\n",
              "</div>"
            ],
            "text/plain": [
              "   home_score  away_score  neutral  ...  worldcup  False  True\n",
              "0           3           1    False  ...         1      1     0\n",
              "1           1           1    False  ...         0      1     0\n",
              "2           5           0    False  ...         1      1     0\n",
              "3           1           0    False  ...         0      1     0\n",
              "4           1           3    False  ...         1      1     0\n",
              "\n",
              "[5 rows x 15 columns]"
            ]
          },
          "metadata": {
            "tags": []
          },
          "execution_count": 41
        }
      ]
    },
    {
      "cell_type": "code",
      "metadata": {
        "id": "Aeda_QMK02xD",
        "colab_type": "code",
        "colab": {}
      },
      "source": [
        "#we drop the columns as we have the same information in the dummy variables created\n",
        "final.drop(['match','neutral'], axis=1,inplace=True)\n"
      ],
      "execution_count": 0,
      "outputs": []
    },
    {
      "cell_type": "code",
      "metadata": {
        "id": "spH4pgCkBfl3",
        "colab_type": "code",
        "outputId": "dcdcf9a4-6917-49f5-8d82-27a3ff394b13",
        "colab": {
          "base_uri": "https://localhost:8080/",
          "height": 217
        }
      },
      "source": [
        "final.head()"
      ],
      "execution_count": 43,
      "outputs": [
        {
          "output_type": "execute_result",
          "data": {
            "text/html": [
              "<div>\n",
              "<style scoped>\n",
              "    .dataframe tbody tr th:only-of-type {\n",
              "        vertical-align: middle;\n",
              "    }\n",
              "\n",
              "    .dataframe tbody tr th {\n",
              "        vertical-align: top;\n",
              "    }\n",
              "\n",
              "    .dataframe thead th {\n",
              "        text-align: right;\n",
              "    }\n",
              "</style>\n",
              "<table border=\"1\" class=\"dataframe\">\n",
              "  <thead>\n",
              "    <tr style=\"text-align: right;\">\n",
              "      <th></th>\n",
              "      <th>home_score</th>\n",
              "      <th>away_score</th>\n",
              "      <th>home_team_rank</th>\n",
              "      <th>home_previous_points</th>\n",
              "      <th>away_team_rank</th>\n",
              "      <th>away_previous_points</th>\n",
              "      <th>output</th>\n",
              "      <th>position</th>\n",
              "      <th>Friendly</th>\n",
              "      <th>other</th>\n",
              "      <th>worldcup</th>\n",
              "      <th>False</th>\n",
              "      <th>True</th>\n",
              "    </tr>\n",
              "  </thead>\n",
              "  <tbody>\n",
              "    <tr>\n",
              "      <th>0</th>\n",
              "      <td>3</td>\n",
              "      <td>1</td>\n",
              "      <td>59.0</td>\n",
              "      <td>13.0</td>\n",
              "      <td>22.0</td>\n",
              "      <td>47.0</td>\n",
              "      <td>2</td>\n",
              "      <td>win</td>\n",
              "      <td>0</td>\n",
              "      <td>0</td>\n",
              "      <td>1</td>\n",
              "      <td>1</td>\n",
              "      <td>0</td>\n",
              "    </tr>\n",
              "    <tr>\n",
              "      <th>1</th>\n",
              "      <td>1</td>\n",
              "      <td>1</td>\n",
              "      <td>8.0</td>\n",
              "      <td>55.0</td>\n",
              "      <td>14.0</td>\n",
              "      <td>42.0</td>\n",
              "      <td>0</td>\n",
              "      <td>draw</td>\n",
              "      <td>1</td>\n",
              "      <td>0</td>\n",
              "      <td>0</td>\n",
              "      <td>1</td>\n",
              "      <td>0</td>\n",
              "    </tr>\n",
              "    <tr>\n",
              "      <th>2</th>\n",
              "      <td>5</td>\n",
              "      <td>0</td>\n",
              "      <td>35.0</td>\n",
              "      <td>23.0</td>\n",
              "      <td>94.0</td>\n",
              "      <td>4.0</td>\n",
              "      <td>5</td>\n",
              "      <td>win</td>\n",
              "      <td>0</td>\n",
              "      <td>0</td>\n",
              "      <td>1</td>\n",
              "      <td>1</td>\n",
              "      <td>0</td>\n",
              "    </tr>\n",
              "    <tr>\n",
              "      <th>3</th>\n",
              "      <td>1</td>\n",
              "      <td>0</td>\n",
              "      <td>65.0</td>\n",
              "      <td>23.0</td>\n",
              "      <td>86.0</td>\n",
              "      <td>16.0</td>\n",
              "      <td>1</td>\n",
              "      <td>win</td>\n",
              "      <td>1</td>\n",
              "      <td>0</td>\n",
              "      <td>0</td>\n",
              "      <td>1</td>\n",
              "      <td>0</td>\n",
              "    </tr>\n",
              "    <tr>\n",
              "      <th>4</th>\n",
              "      <td>1</td>\n",
              "      <td>3</td>\n",
              "      <td>67.0</td>\n",
              "      <td>22.0</td>\n",
              "      <td>5.0</td>\n",
              "      <td>51.0</td>\n",
              "      <td>-2</td>\n",
              "      <td>loss</td>\n",
              "      <td>0</td>\n",
              "      <td>0</td>\n",
              "      <td>1</td>\n",
              "      <td>1</td>\n",
              "      <td>0</td>\n",
              "    </tr>\n",
              "  </tbody>\n",
              "</table>\n",
              "</div>"
            ],
            "text/plain": [
              "   home_score  away_score  home_team_rank  ...  worldcup  False  True\n",
              "0           3           1            59.0  ...         1      1     0\n",
              "1           1           1             8.0  ...         0      1     0\n",
              "2           5           0            35.0  ...         1      1     0\n",
              "3           1           0            65.0  ...         0      1     0\n",
              "4           1           3            67.0  ...         1      1     0\n",
              "\n",
              "[5 rows x 13 columns]"
            ]
          },
          "metadata": {
            "tags": []
          },
          "execution_count": 43
        }
      ]
    },
    {
      "cell_type": "code",
      "metadata": {
        "id": "MD4UxqVMBb-L",
        "colab_type": "code",
        "colab": {}
      },
      "source": [
        "copy=final.to_csv('final.csv')"
      ],
      "execution_count": 0,
      "outputs": []
    },
    {
      "cell_type": "markdown",
      "metadata": {
        "id": "rAibkc3sQztF",
        "colab_type": "text"
      },
      "source": [
        "# **Exploratory Data Analysis**"
      ]
    },
    {
      "cell_type": "code",
      "metadata": {
        "id": "WdClZZQ-7j0K",
        "colab_type": "code",
        "outputId": "8b31e0c1-8b90-4339-bbde-d870327c4d1f",
        "colab": {
          "base_uri": "https://localhost:8080/",
          "height": 312
        }
      },
      "source": [
        "sns.countplot(x='position',data=final, palette='hls')\n",
        "plt.title('position spread')\n",
        "plt.xlabel('position')\n",
        "plt.ylabel('count')"
      ],
      "execution_count": 45,
      "outputs": [
        {
          "output_type": "execute_result",
          "data": {
            "text/plain": [
              "Text(0, 0.5, 'count')"
            ]
          },
          "metadata": {
            "tags": []
          },
          "execution_count": 45
        },
        {
          "output_type": "display_data",
          "data": {
            "image/png": "[encoded data removed]",
            "text/plain": [
              "<Figure size 432x288 with 1 Axes>"
            ]
          },
          "metadata": {
            "tags": []
          }
        }
      ]
    },
    {
      "cell_type": "markdown",
      "metadata": {
        "id": "4cUFoSdgRuaG",
        "colab_type": "text"
      },
      "source": [
        "from the above plot we see that our data is imbalanced. more wins were captured compared to the draws and loss"
      ]
    },
    {
      "cell_type": "code",
      "metadata": {
        "id": "Eyeem-0DA0oo",
        "colab_type": "code",
        "outputId": "d62f33ef-9a65-4e33-f2f1-138627941976",
        "colab": {
          "base_uri": "https://localhost:8080/",
          "height": 312
        }
      },
      "source": [
        "sns.boxplot(x='position', y='home_score', data=final, palette='hls')\n",
        "plt.title('position vrs home_scores')\n",
        "plt.xlabel('position')\n",
        "plt.ylabel('home_score')"
      ],
      "execution_count": 46,
      "outputs": [
        {
          "output_type": "execute_result",
          "data": {
            "text/plain": [
              "Text(0, 0.5, 'home_score')"
            ]
          },
          "metadata": {
            "tags": []
          },
          "execution_count": 46
        },
        {
          "output_type": "display_data",
          "data": {
            "image/png": "[encoded data removed]",
            "text/plain": [
              "<Figure size 432x288 with 1 Axes>"
            ]
          },
          "metadata": {
            "tags": []
          }
        }
      ]
    },
    {
      "cell_type": "markdown",
      "metadata": {
        "id": "EY24pku0LP2m",
        "colab_type": "text"
      },
      "source": [
        "Here we see that a team scored more goals while at home"
      ]
    },
    {
      "cell_type": "code",
      "metadata": {
        "id": "OkTnoa6eLCEA",
        "colab_type": "code",
        "outputId": "7fa20745-358f-48f2-af5c-5ebb5bac0250",
        "colab": {
          "base_uri": "https://localhost:8080/",
          "height": 312
        }
      },
      "source": [
        "sns.boxplot(x='position', y='away_score', data=final, palette='hls')\n",
        "plt.title('position vrs away_score')\n",
        "plt.xlabel('position')\n",
        "plt.ylabel('away_score')"
      ],
      "execution_count": 47,
      "outputs": [
        {
          "output_type": "execute_result",
          "data": {
            "text/plain": [
              "Text(0, 0.5, 'away_score')"
            ]
          },
          "metadata": {
            "tags": []
          },
          "execution_count": 47
        },
        {
          "output_type": "display_data",
          "data": {
            "image/png": "[encoded data removed]",
            "text/plain": [
              "<Figure size 432x288 with 1 Axes>"
            ]
          },
          "metadata": {
            "tags": []
          }
        }
      ]
    },
    {
      "cell_type": "markdown",
      "metadata": {
        "id": "AVeYkPHmLXE7",
        "colab_type": "text"
      },
      "source": [
        "we can say that it was likely for a team to lose while playing away"
      ]
    },
    {
      "cell_type": "code",
      "metadata": {
        "id": "LFtHjyHwLfV_",
        "colab_type": "code",
        "outputId": "53505a5e-18ac-4ecb-a86a-fc1d011307ee",
        "colab": {
          "base_uri": "https://localhost:8080/",
          "height": 312
        }
      },
      "source": [
        "sns.boxplot(x='position', y='home_team_rank', data=final, palette='hls')\n",
        "plt.title('position vrs home_team_rank')\n",
        "plt.xlabel('position')\n",
        "plt.ylabel('home_team_rank')"
      ],
      "execution_count": 48,
      "outputs": [
        {
          "output_type": "execute_result",
          "data": {
            "text/plain": [
              "Text(0, 0.5, 'home_team_rank')"
            ]
          },
          "metadata": {
            "tags": []
          },
          "execution_count": 48
        },
        {
          "output_type": "display_data",
          "data": {
            "image/png": "[encoded data removed]",
            "text/plain": [
              "<Figure size 432x288 with 1 Axes>"
            ]
          },
          "metadata": {
            "tags": []
          }
        }
      ]
    },
    {
      "cell_type": "markdown",
      "metadata": {
        "id": "YU9HnCeeNN_I",
        "colab_type": "text"
      },
      "source": [
        "we see that as long as a team was loosing then the ranking fell"
      ]
    },
    {
      "cell_type": "code",
      "metadata": {
        "id": "2mBG0WLKOGx3",
        "colab_type": "code",
        "outputId": "5c5ee240-1904-40d0-d3a7-1496bb2b11f2",
        "colab": {
          "base_uri": "https://localhost:8080/",
          "height": 387
        }
      },
      "source": [
        "sns.heatmap(final.corr())"
      ],
      "execution_count": 49,
      "outputs": [
        {
          "output_type": "execute_result",
          "data": {
            "text/plain": [
              "<matplotlib.axes._subplots.AxesSubplot at 0x7fa89cf227f0>"
            ]
          },
          "metadata": {
            "tags": []
          },
          "execution_count": 49
        },
        {
          "output_type": "display_data",
          "data": {
            "image/png": "[encoded data removed]",
            "text/plain": [
              "<Figure size 432x288 with 2 Axes>"
            ]
          },
          "metadata": {
            "tags": []
          }
        }
      ]
    },
    {
      "cell_type": "markdown",
      "metadata": {
        "id": "bHIv-BDgOu42",
        "colab_type": "text"
      },
      "source": [
        "from the heat map above we can see that playing in a neutral ground influenced the friendly and worldcup matches but not other matches"
      ]
    },
    {
      "cell_type": "markdown",
      "metadata": {
        "id": "FugMO1Lx7krj",
        "colab_type": "text"
      },
      "source": [
        "# **Approach 1: Polynomial approach**"
      ]
    },
    {
      "cell_type": "markdown",
      "metadata": {
        "id": "QPB6mROP70NM",
        "colab_type": "text"
      },
      "source": [
        "What to train given:\n",
        "\n",
        "Rank of home team\n",
        "\n",
        "Rank of away team\n",
        "\n",
        "Tournament type\n",
        "\n",
        "Model 1: Predict how many goals the home team scores\n",
        "\n",
        "Model 2: Predict how many goals the away team scores\n",
        "\n",
        " "
      ]
    },
    {
      "cell_type": "code",
      "metadata": {
        "id": "N70Y2xcQWDIU",
        "colab_type": "code",
        "outputId": "713b2ed6-5500-45d1-91eb-bfaf9b114b72",
        "colab": {
          "base_uri": "https://localhost:8080/",
          "height": 265
        }
      },
      "source": [
        "#from our final dataset we check if there are any missing values\n",
        "final.isnull().sum()"
      ],
      "execution_count": 50,
      "outputs": [
        {
          "output_type": "execute_result",
          "data": {
            "text/plain": [
              "home_score                 0\n",
              "away_score                 0\n",
              "home_team_rank          3454\n",
              "home_previous_points    3454\n",
              "away_team_rank          3545\n",
              "away_previous_points    3545\n",
              "output                     0\n",
              "position                   0\n",
              "Friendly                   0\n",
              "other                      0\n",
              "worldcup                   0\n",
              "False                      0\n",
              "True                       0\n",
              "dtype: int64"
            ]
          },
          "metadata": {
            "tags": []
          },
          "execution_count": 50
        }
      ]
    },
    {
      "cell_type": "code",
      "metadata": {
        "id": "H7fgZPbtWJZd",
        "colab_type": "code",
        "colab": {}
      },
      "source": [
        "#we drop the missing values\n",
        "final.dropna(inplace=True)"
      ],
      "execution_count": 0,
      "outputs": []
    },
    {
      "cell_type": "markdown",
      "metadata": {
        "id": "dhhXxeP4f7_A",
        "colab_type": "text"
      },
      "source": [
        "# **Model 1 polynomial appraoch**"
      ]
    },
    {
      "cell_type": "code",
      "metadata": {
        "id": "U8ycAFvk7pCI",
        "colab_type": "code",
        "colab": {}
      },
      "source": [
        "# our x value is Rank of home team and our y value is home team scores\n",
        "X=final['home_team_rank'].values.reshape(-1,1)\n",
        "y=final['home_score'].values\n",
        "\n"
      ],
      "execution_count": 0,
      "outputs": []
    },
    {
      "cell_type": "code",
      "metadata": {
        "id": "b5FTC80PAtRA",
        "colab_type": "code",
        "outputId": "43f1fd6d-870c-4624-ecfc-c4d4af960349",
        "colab": {
          "base_uri": "https://localhost:8080/",
          "height": 295
        }
      },
      "source": [
        "# Since our dataset is pretty clean, let's start by visualizing our dataset by plotting a scatter plot\n",
        "\n",
        "plt.scatter(X, y, color='blue') \n",
        "plt.title('home_team_rank vs home_score')\n",
        "plt.xlabel('home_team_rank')\n",
        "plt.ylabel('home_score')\n",
        "plt.show()"
      ],
      "execution_count": 53,
      "outputs": [
        {
          "output_type": "display_data",
          "data": {
            "image/png": "[encoded data removed]",
            "text/plain": [
              "<Figure size 432x288 with 1 Axes>"
            ]
          },
          "metadata": {
            "tags": []
          }
        }
      ]
    },
    {
      "cell_type": "code",
      "metadata": {
        "id": "Jkr_jiZfBYLq",
        "colab_type": "code",
        "colab": {}
      },
      "source": [
        "# Fit polynomial Regression to the dataset\n",
        "poly_reg = PolynomialFeatures(degree = 10) \n",
        "X_poly = poly_reg.fit_transform(X)\n",
        "\n",
        "\n"
      ],
      "execution_count": 0,
      "outputs": []
    },
    {
      "cell_type": "code",
      "metadata": {
        "id": "sMVrGBHwWbet",
        "colab_type": "code",
        "outputId": "943b2e29-6c66-4a14-c4a4-b3195288475f",
        "colab": {
          "base_uri": "https://localhost:8080/",
          "height": 34
        }
      },
      "source": [
        "\n",
        "pol_reg = LinearRegression()\n",
        "pol_reg.fit(X_poly, y)"
      ],
      "execution_count": 55,
      "outputs": [
        {
          "output_type": "execute_result",
          "data": {
            "text/plain": [
              "LinearRegression(copy_X=True, fit_intercept=True, n_jobs=None, normalize=False)"
            ]
          },
          "metadata": {
            "tags": []
          },
          "execution_count": 55
        }
      ]
    },
    {
      "cell_type": "code",
      "metadata": {
        "id": "-qaR1J9MBYCq",
        "colab_type": "code",
        "outputId": "75e5eba0-d3bf-4ac8-c95f-9118b073d34a",
        "colab": {
          "base_uri": "https://localhost:8080/",
          "height": 295
        }
      },
      "source": [
        "#Visualize the Polynomial Regression results\n",
        "plt.scatter(X, y, color='blue') # You can put any color you like. This just helps us highlight the data points\n",
        "plt.plot(X, pol_reg.predict(X_poly), color='red')\n",
        "plt.title('home_score (Polynomial Regression)')\n",
        "plt.xlabel('home_team_rank')\n",
        "plt.ylabel('home_score')\n",
        "plt.show()"
      ],
      "execution_count": 56,
      "outputs": [
        {
          "output_type": "display_data",
          "data": {
            "image/png": "[encoded data removed]",
            "text/plain": [
              "<Figure size 432x288 with 1 Axes>"
            ]
          },
          "metadata": {
            "tags": []
          }
        }
      ]
    },
    {
      "cell_type": "markdown",
      "metadata": {
        "id": "I1U6qp1xQ5gM",
        "colab_type": "text"
      },
      "source": [
        "when we increase our power the model shows no much change when using it on unseen data meaning for this dataset polynomial may not work in building a model"
      ]
    },
    {
      "cell_type": "code",
      "metadata": {
        "id": "CCiMp8WwR7tI",
        "colab_type": "code",
        "outputId": "f0dfd45e-4243-44b6-ffb3-fb99c28178c7",
        "colab": {
          "base_uri": "https://localhost:8080/",
          "height": 34
        }
      },
      "source": [
        "# Predict using Polynomial Regression\n",
        "poly_pred = pol_reg.predict(poly_reg.fit_transform([[3]]))\n",
        "print('Polynomial prediction: %d' %poly_pred)"
      ],
      "execution_count": 57,
      "outputs": [
        {
          "output_type": "stream",
          "text": [
            "Polynomial prediction: 1\n"
          ],
          "name": "stdout"
        }
      ]
    },
    {
      "cell_type": "markdown",
      "metadata": {
        "id": "JYD2GQ8STkx3",
        "colab_type": "text"
      },
      "source": [
        "from the prediction made by our polynomial model it obviously is not the best as its not very clear.it paints the correct picture though of the trend that as long as the rank is falling the scores are decreasing.\n",
        "\n",
        "we will use a different model to challenge it."
      ]
    },
    {
      "cell_type": "markdown",
      "metadata": {
        "id": "2YgLa0ySY4XR",
        "colab_type": "text"
      },
      "source": [
        "# **Model 2 in Polynomial Approach**"
      ]
    },
    {
      "cell_type": "code",
      "metadata": {
        "id": "7E_5VG3cXD3S",
        "colab_type": "code",
        "colab": {}
      },
      "source": [
        "X=final['away_team_rank'].values.reshape(-1,1)\n",
        "y=final['away_score'].values"
      ],
      "execution_count": 0,
      "outputs": []
    },
    {
      "cell_type": "code",
      "metadata": {
        "id": "oZC6gFdYZ-bz",
        "colab_type": "code",
        "outputId": "3ad26a5c-8438-441a-aee3-a06ed41e5ddd",
        "colab": {
          "base_uri": "https://localhost:8080/",
          "height": 295
        }
      },
      "source": [
        "# Since our dataset is pretty clean, let's start by visualizing our dataset by plotting a scatter plot\n",
        "\n",
        "plt.scatter(X, y, color='blue') \n",
        "plt.title('away_team_rank vs away_score')\n",
        "plt.xlabel('away_team_rank')\n",
        "plt.ylabel('away_score')\n",
        "plt.show()"
      ],
      "execution_count": 59,
      "outputs": [
        {
          "output_type": "display_data",
          "data": {
            "image/png": "[encoded data removed]",
            "text/plain": [
              "<Figure size 432x288 with 1 Axes>"
            ]
          },
          "metadata": {
            "tags": []
          }
        }
      ]
    },
    {
      "cell_type": "code",
      "metadata": {
        "id": "z2Wcy6g7aTHj",
        "colab_type": "code",
        "colab": {}
      },
      "source": [
        "# Fit polynomial Regression to the dataset\n",
        "poly_reg = PolynomialFeatures(degree = 10) \n",
        "X_poly = poly_reg.fit_transform(X)\n"
      ],
      "execution_count": 0,
      "outputs": []
    },
    {
      "cell_type": "code",
      "metadata": {
        "id": "W0-9AbruadeE",
        "colab_type": "code",
        "outputId": "787e656d-436f-4881-9f60-a26adbe73cd4",
        "colab": {
          "base_uri": "https://localhost:8080/",
          "height": 34
        }
      },
      "source": [
        "pol_reg = LinearRegression()\n",
        "pol_reg.fit(X_poly, y)\n",
        "\n"
      ],
      "execution_count": 61,
      "outputs": [
        {
          "output_type": "execute_result",
          "data": {
            "text/plain": [
              "LinearRegression(copy_X=True, fit_intercept=True, n_jobs=None, normalize=False)"
            ]
          },
          "metadata": {
            "tags": []
          },
          "execution_count": 61
        }
      ]
    },
    {
      "cell_type": "code",
      "metadata": {
        "id": "KjbqQt41akM8",
        "colab_type": "code",
        "outputId": "01b8b542-d5a4-4b02-cd60-f252d17c7e41",
        "colab": {
          "base_uri": "https://localhost:8080/",
          "height": 295
        }
      },
      "source": [
        "#Visualize the Polynomial Regression results\n",
        "plt.scatter(X, y, color='blue') # You can put any color you like. This just helps us highlight the data points\n",
        "plt.plot(X, pol_reg.predict(X_poly), color='red')\n",
        "plt.title('away_score (Polynomial Regression)')\n",
        "plt.xlabel('away_team_rank')\n",
        "plt.ylabel('away_score')\n",
        "plt.show()"
      ],
      "execution_count": 62,
      "outputs": [
        {
          "output_type": "display_data",
          "data": {
            "image/png": "[encoded data removed]",
            "text/plain": [
              "<Figure size 432x288 with 1 Axes>"
            ]
          },
          "metadata": {
            "tags": []
          }
        }
      ]
    },
    {
      "cell_type": "code",
      "metadata": {
        "id": "mjmGt3adUJnK",
        "colab_type": "code",
        "outputId": "2cad0750-b0e2-4cdf-c1c1-6678dba836e1",
        "colab": {
          "base_uri": "https://localhost:8080/",
          "height": 34
        }
      },
      "source": [
        "# Predict using Polynomial Regression\n",
        "poly_pred = pol_reg.predict(poly_reg.fit_transform([[50]]))\n",
        "print('Polynomial prediction: %d' %poly_pred)"
      ],
      "execution_count": 63,
      "outputs": [
        {
          "output_type": "stream",
          "text": [
            "Polynomial prediction: 1\n"
          ],
          "name": "stdout"
        }
      ]
    },
    {
      "cell_type": "markdown",
      "metadata": {
        "id": "OLr3I6LrUQ1M",
        "colab_type": "text"
      },
      "source": [
        "from the prediction made by our polynomial model it obviously is not the best as its not very clear.it paints the correct picture though of the trend that as long as the rank is falling the scores are decreasing.\n",
        "\n",
        "we will use a different model to challenge it."
      ]
    },
    {
      "cell_type": "code",
      "metadata": {
        "id": "FSCx293vac8K",
        "colab_type": "code",
        "colab": {}
      },
      "source": [
        "#Evaluation of the models\n",
        "#think of RMSE\n",
        "#Accuracy  score"
      ],
      "execution_count": 0,
      "outputs": []
    },
    {
      "cell_type": "markdown",
      "metadata": {
        "id": "C7FDFgu8jQrP",
        "colab_type": "text"
      },
      "source": [
        "# **Logistic Regression**"
      ]
    },
    {
      "cell_type": "code",
      "metadata": {
        "id": "S3ra6ng6jB9f",
        "colab_type": "code",
        "outputId": "816851f6-92e5-4761-bc59-bedb6e7aef83",
        "colab": {
          "base_uri": "https://localhost:8080/",
          "height": 265
        }
      },
      "source": [
        "final.isnull().sum()"
      ],
      "execution_count": 65,
      "outputs": [
        {
          "output_type": "execute_result",
          "data": {
            "text/plain": [
              "home_score              0\n",
              "away_score              0\n",
              "home_team_rank          0\n",
              "home_previous_points    0\n",
              "away_team_rank          0\n",
              "away_previous_points    0\n",
              "output                  0\n",
              "position                0\n",
              "Friendly                0\n",
              "other                   0\n",
              "worldcup                0\n",
              "False                   0\n",
              "True                    0\n",
              "dtype: int64"
            ]
          },
          "metadata": {
            "tags": []
          },
          "execution_count": 65
        }
      ]
    },
    {
      "cell_type": "code",
      "metadata": {
        "id": "jtWWBlmrmVcw",
        "colab_type": "code",
        "colab": {}
      },
      "source": [
        "#we now want to perform log regression but first get our independent variables, then check for multicollinearity to help identify the feature we shall \n",
        "#include in our model\n",
        "#we want to figure out from the home team’s perspective if the game is a Win, Lose or Draw (W, L, D)\n",
        "#we shall exclude home_score and away_scores from our dataset.\n",
        "#our response variable will be position and the rest will be indep variables save for home and away scores\n",
        "#y=final['position']\n",
        "independent=final.drop(columns=['position','home_score','away_score','output'], axis=1)"
      ],
      "execution_count": 0,
      "outputs": []
    },
    {
      "cell_type": "code",
      "metadata": {
        "id": "w1XBbOl0mNPc",
        "colab_type": "code",
        "outputId": "60aa0832-aeba-45dc-f019-0142ad68ec72",
        "colab": {
          "base_uri": "https://localhost:8080/",
          "height": 337
        }
      },
      "source": [
        "correlation = independent.corr()\n",
        "correlation"
      ],
      "execution_count": 67,
      "outputs": [
        {
          "output_type": "execute_result",
          "data": {
            "text/html": [
              "<div>\n",
              "<style scoped>\n",
              "    .dataframe tbody tr th:only-of-type {\n",
              "        vertical-align: middle;\n",
              "    }\n",
              "\n",
              "    .dataframe tbody tr th {\n",
              "        vertical-align: top;\n",
              "    }\n",
              "\n",
              "    .dataframe thead th {\n",
              "        text-align: right;\n",
              "    }\n",
              "</style>\n",
              "<table border=\"1\" class=\"dataframe\">\n",
              "  <thead>\n",
              "    <tr style=\"text-align: right;\">\n",
              "      <th></th>\n",
              "      <th>home_team_rank</th>\n",
              "      <th>home_previous_points</th>\n",
              "      <th>away_team_rank</th>\n",
              "      <th>away_previous_points</th>\n",
              "      <th>Friendly</th>\n",
              "      <th>other</th>\n",
              "      <th>worldcup</th>\n",
              "      <th>False</th>\n",
              "      <th>True</th>\n",
              "    </tr>\n",
              "  </thead>\n",
              "  <tbody>\n",
              "    <tr>\n",
              "      <th>home_team_rank</th>\n",
              "      <td>1.000000</td>\n",
              "      <td>-0.662370</td>\n",
              "      <td>0.467934</td>\n",
              "      <td>-0.293816</td>\n",
              "      <td>-0.096618</td>\n",
              "      <td>0.115546</td>\n",
              "      <td>-0.021925</td>\n",
              "      <td>-0.042665</td>\n",
              "      <td>0.042665</td>\n",
              "    </tr>\n",
              "    <tr>\n",
              "      <th>home_previous_points</th>\n",
              "      <td>-0.662370</td>\n",
              "      <td>1.000000</td>\n",
              "      <td>-0.290068</td>\n",
              "      <td>0.601588</td>\n",
              "      <td>0.081644</td>\n",
              "      <td>-0.118354</td>\n",
              "      <td>0.042324</td>\n",
              "      <td>0.010275</td>\n",
              "      <td>-0.010275</td>\n",
              "    </tr>\n",
              "    <tr>\n",
              "      <th>away_team_rank</th>\n",
              "      <td>0.467934</td>\n",
              "      <td>-0.290068</td>\n",
              "      <td>1.000000</td>\n",
              "      <td>-0.666422</td>\n",
              "      <td>-0.096785</td>\n",
              "      <td>0.128841</td>\n",
              "      <td>-0.037005</td>\n",
              "      <td>-0.052771</td>\n",
              "      <td>0.052771</td>\n",
              "    </tr>\n",
              "    <tr>\n",
              "      <th>away_previous_points</th>\n",
              "      <td>-0.293816</td>\n",
              "      <td>0.601588</td>\n",
              "      <td>-0.666422</td>\n",
              "      <td>1.000000</td>\n",
              "      <td>0.079581</td>\n",
              "      <td>-0.127964</td>\n",
              "      <td>0.055728</td>\n",
              "      <td>0.032181</td>\n",
              "      <td>-0.032181</td>\n",
              "    </tr>\n",
              "    <tr>\n",
              "      <th>Friendly</th>\n",
              "      <td>-0.096618</td>\n",
              "      <td>0.081644</td>\n",
              "      <td>-0.096785</td>\n",
              "      <td>0.079581</td>\n",
              "      <td>1.000000</td>\n",
              "      <td>-0.620451</td>\n",
              "      <td>-0.434102</td>\n",
              "      <td>0.096975</td>\n",
              "      <td>-0.096975</td>\n",
              "    </tr>\n",
              "    <tr>\n",
              "      <th>other</th>\n",
              "      <td>0.115546</td>\n",
              "      <td>-0.118354</td>\n",
              "      <td>0.128841</td>\n",
              "      <td>-0.127964</td>\n",
              "      <td>-0.620451</td>\n",
              "      <td>1.000000</td>\n",
              "      <td>-0.437159</td>\n",
              "      <td>-0.307578</td>\n",
              "      <td>0.307578</td>\n",
              "    </tr>\n",
              "    <tr>\n",
              "      <th>worldcup</th>\n",
              "      <td>-0.021925</td>\n",
              "      <td>0.042324</td>\n",
              "      <td>-0.037005</td>\n",
              "      <td>0.055728</td>\n",
              "      <td>-0.434102</td>\n",
              "      <td>-0.437159</td>\n",
              "      <td>1.000000</td>\n",
              "      <td>0.242102</td>\n",
              "      <td>-0.242102</td>\n",
              "    </tr>\n",
              "    <tr>\n",
              "      <th>False</th>\n",
              "      <td>-0.042665</td>\n",
              "      <td>0.010275</td>\n",
              "      <td>-0.052771</td>\n",
              "      <td>0.032181</td>\n",
              "      <td>0.096975</td>\n",
              "      <td>-0.307578</td>\n",
              "      <td>0.242102</td>\n",
              "      <td>1.000000</td>\n",
              "      <td>-1.000000</td>\n",
              "    </tr>\n",
              "    <tr>\n",
              "      <th>True</th>\n",
              "      <td>0.042665</td>\n",
              "      <td>-0.010275</td>\n",
              "      <td>0.052771</td>\n",
              "      <td>-0.032181</td>\n",
              "      <td>-0.096975</td>\n",
              "      <td>0.307578</td>\n",
              "      <td>-0.242102</td>\n",
              "      <td>-1.000000</td>\n",
              "      <td>1.000000</td>\n",
              "    </tr>\n",
              "  </tbody>\n",
              "</table>\n",
              "</div>"
            ],
            "text/plain": [
              "                      home_team_rank  home_previous_points  ...     False      True\n",
              "home_team_rank              1.000000             -0.662370  ... -0.042665  0.042665\n",
              "home_previous_points       -0.662370              1.000000  ...  0.010275 -0.010275\n",
              "away_team_rank              0.467934             -0.290068  ... -0.052771  0.052771\n",
              "away_previous_points       -0.293816              0.601588  ...  0.032181 -0.032181\n",
              "Friendly                   -0.096618              0.081644  ...  0.096975 -0.096975\n",
              "other                       0.115546             -0.118354  ... -0.307578  0.307578\n",
              "worldcup                   -0.021925              0.042324  ...  0.242102 -0.242102\n",
              "False                      -0.042665              0.010275  ...  1.000000 -1.000000\n",
              "True                        0.042665             -0.010275  ... -1.000000  1.000000\n",
              "\n",
              "[9 rows x 9 columns]"
            ]
          },
          "metadata": {
            "tags": []
          },
          "execution_count": 67
        }
      ]
    },
    {
      "cell_type": "code",
      "metadata": {
        "id": "eUCMFnJ3e5g9",
        "colab_type": "code",
        "colab": {}
      },
      "source": [
        "#Multicollinearity\n",
        "#we have dropped all the variables and our multicollinearity code gave a result of our remaining variables being perfectly correlated and therefore\n",
        "#gave an error"
      ],
      "execution_count": 0,
      "outputs": []
    },
    {
      "cell_type": "markdown",
      "metadata": {
        "id": "cIrHJRQ7ujB3",
        "colab_type": "text"
      },
      "source": [
        "# Residual plots and heteroskedasticity **testing**"
      ]
    },
    {
      "cell_type": "code",
      "metadata": {
        "id": "C74JVsCTuAZ7",
        "colab_type": "code",
        "colab": {}
      },
      "source": [
        "from sklearn import metrics\n",
        "from sklearn.model_selection import train_test_split\n",
        "from sklearn.linear_model import LogisticRegression\n",
        "from sklearn.model_selection import KFold\n",
        "from sklearn.preprocessing import StandardScaler\n",
        "sklearn.metrics.mean_absolute_error\n",
        "\n",
        "X = independent.values\n",
        "y = final['position'].values"
      ],
      "execution_count": 0,
      "outputs": []
    },
    {
      "cell_type": "code",
      "metadata": {
        "id": "_RsPoYeKr0iL",
        "colab_type": "code",
        "colab": {}
      },
      "source": [
        "#splitting our dataset into train test split\n",
        "#here we shall use cross validation\n",
        "#X_train, X_test, y_train, y_test = train_test_split(X, y, test_size=0.2, random_state=0)\n",
        "folds = KFold(n_splits=5)\n"
      ],
      "execution_count": 0,
      "outputs": []
    },
    {
      "cell_type": "code",
      "metadata": {
        "id": "my6vvolaEtLp",
        "colab_type": "code",
        "outputId": "494f93bb-c8de-4912-9afd-e7f04e8f9ef3",
        "colab": {
          "base_uri": "https://localhost:8080/",
          "height": 194
        }
      },
      "source": [
        "# We now create and assess 5 models based on the folds we created.\n",
        "RMSES = [] # We will use this array to keep track of the RSME of each model\n",
        "count = 1 # This will just help \n",
        "for train_index, test_index in folds.split(X):\n",
        "  print('\\nTraining model ' + str(count))"
      ],
      "execution_count": 71,
      "outputs": [
        {
          "output_type": "stream",
          "text": [
            "\n",
            "Training model 1\n",
            "\n",
            "Training model 1\n",
            "\n",
            "Training model 1\n",
            "\n",
            "Training model 1\n",
            "\n",
            "Training model 1\n"
          ],
          "name": "stdout"
        }
      ]
    },
    {
      "cell_type": "code",
      "metadata": {
        "id": "_zUpdN06EKBz",
        "colab_type": "code",
        "colab": {}
      },
      "source": [
        "# set up the train and test based on the split determined by KFold\n",
        "  # With 5 folds, we will end up with 80% of our data in the training set, and 20% in the test set, just as above\n",
        "  X_train, X_test = X[train_index], X[test_index]\n",
        "  y_train, y_test = y[train_index], y[test_index]"
      ],
      "execution_count": 0,
      "outputs": []
    },
    {
      "cell_type": "code",
      "metadata": {
        "id": "5wBDHYW-BLRZ",
        "colab_type": "code",
        "outputId": "0ce158aa-787e-4907-d52f-d27dbaed124f",
        "colab": {
          "base_uri": "https://localhost:8080/",
          "height": 105
        }
      },
      "source": [
        "#fit our model\n",
        "LogReg = LogisticRegression()\n",
        "LogReg.fit(X_train, y_train)\n",
        "\n"
      ],
      "execution_count": 73,
      "outputs": [
        {
          "output_type": "execute_result",
          "data": {
            "text/plain": [
              "LogisticRegression(C=1.0, class_weight=None, dual=False, fit_intercept=True,\n",
              "                   intercept_scaling=1, l1_ratio=None, max_iter=100,\n",
              "                   multi_class='warn', n_jobs=None, penalty='l2',\n",
              "                   random_state=None, solver='warn', tol=0.0001, verbose=0,\n",
              "                   warm_start=False)"
            ]
          },
          "metadata": {
            "tags": []
          },
          "execution_count": 73
        }
      ]
    },
    {
      "cell_type": "code",
      "metadata": {
        "id": "DBqVIOUBxmTb",
        "colab_type": "code",
        "colab": {}
      },
      "source": [
        "# Using our model to make a prediction\n",
        "y_pred=LogReg.predict(X_test)\n",
        "\n"
      ],
      "execution_count": 0,
      "outputs": []
    },
    {
      "cell_type": "code",
      "metadata": {
        "id": "gQjmPOAfCCLJ",
        "colab_type": "code",
        "outputId": "ae693987-f016-41fd-8e88-bee049668f04",
        "colab": {
          "base_uri": "https://localhost:8080/",
          "height": 70
        }
      },
      "source": [
        "# Evaluating the model\n",
        "from sklearn.metrics import confusion_matrix\n",
        "confusion_matrix = confusion_matrix(y_test, y_pred)\n",
        "confusion_matrix\n"
      ],
      "execution_count": 75,
      "outputs": [
        {
          "output_type": "execute_result",
          "data": {
            "text/plain": [
              "array([[   0,  271,  577],\n",
              "       [   0,  542,  391],\n",
              "       [   0,  203, 1394]])"
            ]
          },
          "metadata": {
            "tags": []
          },
          "execution_count": 75
        }
      ]
    },
    {
      "cell_type": "code",
      "metadata": {
        "id": "DeMYdGaMobeS",
        "colab_type": "code",
        "outputId": "54bb30b4-e107-4ef6-ba0c-6043577961c8",
        "colab": {
          "base_uri": "https://localhost:8080/",
          "height": 194
        }
      },
      "source": [
        "from sklearn.metrics import classification_report\n",
        "print(classification_report(y_test, y_pred))\n"
      ],
      "execution_count": 76,
      "outputs": [
        {
          "output_type": "stream",
          "text": [
            "              precision    recall  f1-score   support\n",
            "\n",
            "        draw       0.00      0.00      0.00       848\n",
            "        loss       0.53      0.58      0.56       933\n",
            "         win       0.59      0.87      0.70      1597\n",
            "\n",
            "    accuracy                           0.57      3378\n",
            "   macro avg       0.37      0.48      0.42      3378\n",
            "weighted avg       0.43      0.57      0.49      3378\n",
            "\n"
          ],
          "name": "stdout"
        }
      ]
    },
    {
      "cell_type": "markdown",
      "metadata": {
        "id": "54canGN1orZw",
        "colab_type": "text"
      },
      "source": [
        "from our confusion matrix the f1 score confirms that there are many false positives . to correct this we need more data and also to revise our assumptions incase the assumption ignored important information"
      ]
    },
    {
      "cell_type": "markdown",
      "metadata": {
        "id": "dFQSs4xj9kTz",
        "colab_type": "text"
      },
      "source": [
        "# **Elastic Regression**"
      ]
    },
    {
      "cell_type": "code",
      "metadata": {
        "id": "c05oLYw39rwb",
        "colab_type": "code",
        "colab": {}
      },
      "source": [
        "#import libraries for the different regressions\n",
        "from sklearn.linear_model import Ridge\n",
        "from sklearn.linear_model import Lasso\n",
        "from sklearn.linear_model import ElasticNet\n",
        "from sklearn.model_selection import GridSearchCV\n",
        "from sklearn.metrics import mean_squared_error\n",
        "from sklearn import linear_model\n",
        "\n"
      ],
      "execution_count": 0,
      "outputs": []
    },
    {
      "cell_type": "code",
      "metadata": {
        "id": "3BEB5DNK9jg0",
        "colab_type": "code",
        "colab": {}
      },
      "source": [
        "#fitting our ElasticNet into the data\n",
        "elastic=ElasticNet(normalize=True)\n",
        "search=GridSearchCV(estimator=elastic,param_grid={'alpha':np.logspace(-5,2,8),'l1_ratio':[.2,.4,.6,.8]},scoring='neg_mean_squared_error',n_jobs=1,refit=True,cv=10)"
      ],
      "execution_count": 0,
      "outputs": []
    },
    {
      "cell_type": "code",
      "metadata": {
        "id": "ZfFrpYzm_nWw",
        "colab_type": "code",
        "outputId": "b2e736ae-4c5e-40a7-c5a1-5033df0e5a5e",
        "colab": {
          "base_uri": "https://localhost:8080/",
          "height": 234
        }
      },
      "source": [
        " data=pd.read_csv('final.csv')\n",
        " data.head()"
      ],
      "execution_count": 79,
      "outputs": [
        {
          "output_type": "execute_result",
          "data": {
            "text/html": [
              "<div>\n",
              "<style scoped>\n",
              "    .dataframe tbody tr th:only-of-type {\n",
              "        vertical-align: middle;\n",
              "    }\n",
              "\n",
              "    .dataframe tbody tr th {\n",
              "        vertical-align: top;\n",
              "    }\n",
              "\n",
              "    .dataframe thead th {\n",
              "        text-align: right;\n",
              "    }\n",
              "</style>\n",
              "<table border=\"1\" class=\"dataframe\">\n",
              "  <thead>\n",
              "    <tr style=\"text-align: right;\">\n",
              "      <th></th>\n",
              "      <th>Unnamed: 0</th>\n",
              "      <th>home_score</th>\n",
              "      <th>away_score</th>\n",
              "      <th>home_team_rank</th>\n",
              "      <th>home_previous_points</th>\n",
              "      <th>away_team_rank</th>\n",
              "      <th>away_previous_points</th>\n",
              "      <th>output</th>\n",
              "      <th>position</th>\n",
              "      <th>Friendly</th>\n",
              "      <th>other</th>\n",
              "      <th>worldcup</th>\n",
              "      <th>False</th>\n",
              "      <th>True</th>\n",
              "    </tr>\n",
              "  </thead>\n",
              "  <tbody>\n",
              "    <tr>\n",
              "      <th>0</th>\n",
              "      <td>0</td>\n",
              "      <td>3</td>\n",
              "      <td>1</td>\n",
              "      <td>59.0</td>\n",
              "      <td>13.0</td>\n",
              "      <td>22.0</td>\n",
              "      <td>47.0</td>\n",
              "      <td>2</td>\n",
              "      <td>win</td>\n",
              "      <td>0</td>\n",
              "      <td>0</td>\n",
              "      <td>1</td>\n",
              "      <td>1</td>\n",
              "      <td>0</td>\n",
              "    </tr>\n",
              "    <tr>\n",
              "      <th>1</th>\n",
              "      <td>1</td>\n",
              "      <td>1</td>\n",
              "      <td>1</td>\n",
              "      <td>8.0</td>\n",
              "      <td>55.0</td>\n",
              "      <td>14.0</td>\n",
              "      <td>42.0</td>\n",
              "      <td>0</td>\n",
              "      <td>draw</td>\n",
              "      <td>1</td>\n",
              "      <td>0</td>\n",
              "      <td>0</td>\n",
              "      <td>1</td>\n",
              "      <td>0</td>\n",
              "    </tr>\n",
              "    <tr>\n",
              "      <th>2</th>\n",
              "      <td>2</td>\n",
              "      <td>5</td>\n",
              "      <td>0</td>\n",
              "      <td>35.0</td>\n",
              "      <td>23.0</td>\n",
              "      <td>94.0</td>\n",
              "      <td>4.0</td>\n",
              "      <td>5</td>\n",
              "      <td>win</td>\n",
              "      <td>0</td>\n",
              "      <td>0</td>\n",
              "      <td>1</td>\n",
              "      <td>1</td>\n",
              "      <td>0</td>\n",
              "    </tr>\n",
              "    <tr>\n",
              "      <th>3</th>\n",
              "      <td>3</td>\n",
              "      <td>1</td>\n",
              "      <td>0</td>\n",
              "      <td>65.0</td>\n",
              "      <td>23.0</td>\n",
              "      <td>86.0</td>\n",
              "      <td>16.0</td>\n",
              "      <td>1</td>\n",
              "      <td>win</td>\n",
              "      <td>1</td>\n",
              "      <td>0</td>\n",
              "      <td>0</td>\n",
              "      <td>1</td>\n",
              "      <td>0</td>\n",
              "    </tr>\n",
              "    <tr>\n",
              "      <th>4</th>\n",
              "      <td>4</td>\n",
              "      <td>1</td>\n",
              "      <td>3</td>\n",
              "      <td>67.0</td>\n",
              "      <td>22.0</td>\n",
              "      <td>5.0</td>\n",
              "      <td>51.0</td>\n",
              "      <td>-2</td>\n",
              "      <td>loss</td>\n",
              "      <td>0</td>\n",
              "      <td>0</td>\n",
              "      <td>1</td>\n",
              "      <td>1</td>\n",
              "      <td>0</td>\n",
              "    </tr>\n",
              "  </tbody>\n",
              "</table>\n",
              "</div>"
            ],
            "text/plain": [
              "   Unnamed: 0  home_score  away_score  ...  worldcup  False  True\n",
              "0           0           3           1  ...         1      1     0\n",
              "1           1           1           1  ...         0      1     0\n",
              "2           2           5           0  ...         1      1     0\n",
              "3           3           1           0  ...         0      1     0\n",
              "4           4           1           3  ...         1      1     0\n",
              "\n",
              "[5 rows x 14 columns]"
            ]
          },
          "metadata": {
            "tags": []
          },
          "execution_count": 79
        }
      ]
    },
    {
      "cell_type": "code",
      "metadata": {
        "id": "d7UmRultHZ0M",
        "colab_type": "code",
        "colab": {}
      },
      "source": [
        "#we drop the unnamed column\n",
        "data.drop('Unnamed: 0', axis=1, inplace=True)"
      ],
      "execution_count": 0,
      "outputs": []
    },
    {
      "cell_type": "code",
      "metadata": {
        "id": "ZkmEWs_iHn8P",
        "colab_type": "code",
        "outputId": "ba8e8219-7e44-4184-a3ec-6b8276a2aa15",
        "colab": {
          "base_uri": "https://localhost:8080/",
          "height": 217
        }
      },
      "source": [
        "#check whether this was done successfully\n",
        "data.head()"
      ],
      "execution_count": 81,
      "outputs": [
        {
          "output_type": "execute_result",
          "data": {
            "text/html": [
              "<div>\n",
              "<style scoped>\n",
              "    .dataframe tbody tr th:only-of-type {\n",
              "        vertical-align: middle;\n",
              "    }\n",
              "\n",
              "    .dataframe tbody tr th {\n",
              "        vertical-align: top;\n",
              "    }\n",
              "\n",
              "    .dataframe thead th {\n",
              "        text-align: right;\n",
              "    }\n",
              "</style>\n",
              "<table border=\"1\" class=\"dataframe\">\n",
              "  <thead>\n",
              "    <tr style=\"text-align: right;\">\n",
              "      <th></th>\n",
              "      <th>home_score</th>\n",
              "      <th>away_score</th>\n",
              "      <th>home_team_rank</th>\n",
              "      <th>home_previous_points</th>\n",
              "      <th>away_team_rank</th>\n",
              "      <th>away_previous_points</th>\n",
              "      <th>output</th>\n",
              "      <th>position</th>\n",
              "      <th>Friendly</th>\n",
              "      <th>other</th>\n",
              "      <th>worldcup</th>\n",
              "      <th>False</th>\n",
              "      <th>True</th>\n",
              "    </tr>\n",
              "  </thead>\n",
              "  <tbody>\n",
              "    <tr>\n",
              "      <th>0</th>\n",
              "      <td>3</td>\n",
              "      <td>1</td>\n",
              "      <td>59.0</td>\n",
              "      <td>13.0</td>\n",
              "      <td>22.0</td>\n",
              "      <td>47.0</td>\n",
              "      <td>2</td>\n",
              "      <td>win</td>\n",
              "      <td>0</td>\n",
              "      <td>0</td>\n",
              "      <td>1</td>\n",
              "      <td>1</td>\n",
              "      <td>0</td>\n",
              "    </tr>\n",
              "    <tr>\n",
              "      <th>1</th>\n",
              "      <td>1</td>\n",
              "      <td>1</td>\n",
              "      <td>8.0</td>\n",
              "      <td>55.0</td>\n",
              "      <td>14.0</td>\n",
              "      <td>42.0</td>\n",
              "      <td>0</td>\n",
              "      <td>draw</td>\n",
              "      <td>1</td>\n",
              "      <td>0</td>\n",
              "      <td>0</td>\n",
              "      <td>1</td>\n",
              "      <td>0</td>\n",
              "    </tr>\n",
              "    <tr>\n",
              "      <th>2</th>\n",
              "      <td>5</td>\n",
              "      <td>0</td>\n",
              "      <td>35.0</td>\n",
              "      <td>23.0</td>\n",
              "      <td>94.0</td>\n",
              "      <td>4.0</td>\n",
              "      <td>5</td>\n",
              "      <td>win</td>\n",
              "      <td>0</td>\n",
              "      <td>0</td>\n",
              "      <td>1</td>\n",
              "      <td>1</td>\n",
              "      <td>0</td>\n",
              "    </tr>\n",
              "    <tr>\n",
              "      <th>3</th>\n",
              "      <td>1</td>\n",
              "      <td>0</td>\n",
              "      <td>65.0</td>\n",
              "      <td>23.0</td>\n",
              "      <td>86.0</td>\n",
              "      <td>16.0</td>\n",
              "      <td>1</td>\n",
              "      <td>win</td>\n",
              "      <td>1</td>\n",
              "      <td>0</td>\n",
              "      <td>0</td>\n",
              "      <td>1</td>\n",
              "      <td>0</td>\n",
              "    </tr>\n",
              "    <tr>\n",
              "      <th>4</th>\n",
              "      <td>1</td>\n",
              "      <td>3</td>\n",
              "      <td>67.0</td>\n",
              "      <td>22.0</td>\n",
              "      <td>5.0</td>\n",
              "      <td>51.0</td>\n",
              "      <td>-2</td>\n",
              "      <td>loss</td>\n",
              "      <td>0</td>\n",
              "      <td>0</td>\n",
              "      <td>1</td>\n",
              "      <td>1</td>\n",
              "      <td>0</td>\n",
              "    </tr>\n",
              "  </tbody>\n",
              "</table>\n",
              "</div>"
            ],
            "text/plain": [
              "   home_score  away_score  home_team_rank  ...  worldcup  False  True\n",
              "0           3           1            59.0  ...         1      1     0\n",
              "1           1           1             8.0  ...         0      1     0\n",
              "2           5           0            35.0  ...         1      1     0\n",
              "3           1           0            65.0  ...         0      1     0\n",
              "4           1           3            67.0  ...         1      1     0\n",
              "\n",
              "[5 rows x 13 columns]"
            ]
          },
          "metadata": {
            "tags": []
          },
          "execution_count": 81
        }
      ]
    },
    {
      "cell_type": "code",
      "metadata": {
        "id": "wOgefboMH5fB",
        "colab_type": "code",
        "outputId": "ffd99646-541f-4f89-f9fb-ade508ccd32c",
        "colab": {
          "base_uri": "https://localhost:8080/",
          "height": 427
        }
      },
      "source": [
        "#check the relationship of the independent variables\n",
        "data.corr()"
      ],
      "execution_count": 82,
      "outputs": [
        {
          "output_type": "execute_result",
          "data": {
            "text/html": [
              "<div>\n",
              "<style scoped>\n",
              "    .dataframe tbody tr th:only-of-type {\n",
              "        vertical-align: middle;\n",
              "    }\n",
              "\n",
              "    .dataframe tbody tr th {\n",
              "        vertical-align: top;\n",
              "    }\n",
              "\n",
              "    .dataframe thead th {\n",
              "        text-align: right;\n",
              "    }\n",
              "</style>\n",
              "<table border=\"1\" class=\"dataframe\">\n",
              "  <thead>\n",
              "    <tr style=\"text-align: right;\">\n",
              "      <th></th>\n",
              "      <th>home_score</th>\n",
              "      <th>away_score</th>\n",
              "      <th>home_team_rank</th>\n",
              "      <th>home_previous_points</th>\n",
              "      <th>away_team_rank</th>\n",
              "      <th>away_previous_points</th>\n",
              "      <th>output</th>\n",
              "      <th>Friendly</th>\n",
              "      <th>other</th>\n",
              "      <th>worldcup</th>\n",
              "      <th>False</th>\n",
              "      <th>True</th>\n",
              "    </tr>\n",
              "  </thead>\n",
              "  <tbody>\n",
              "    <tr>\n",
              "      <th>home_score</th>\n",
              "      <td>1.000000</td>\n",
              "      <td>-0.165633</td>\n",
              "      <td>-0.111459</td>\n",
              "      <td>0.071770</td>\n",
              "      <td>0.314647</td>\n",
              "      <td>-0.213192</td>\n",
              "      <td>0.824076</td>\n",
              "      <td>-0.063397</td>\n",
              "      <td>0.029706</td>\n",
              "      <td>0.039043</td>\n",
              "      <td>0.024770</td>\n",
              "      <td>-0.024770</td>\n",
              "    </tr>\n",
              "    <tr>\n",
              "      <th>away_score</th>\n",
              "      <td>-0.165633</td>\n",
              "      <td>1.000000</td>\n",
              "      <td>0.216460</td>\n",
              "      <td>-0.130293</td>\n",
              "      <td>-0.159829</td>\n",
              "      <td>0.128714</td>\n",
              "      <td>-0.695149</td>\n",
              "      <td>-0.044628</td>\n",
              "      <td>0.040229</td>\n",
              "      <td>0.004260</td>\n",
              "      <td>-0.111596</td>\n",
              "      <td>0.111596</td>\n",
              "    </tr>\n",
              "    <tr>\n",
              "      <th>home_team_rank</th>\n",
              "      <td>-0.111459</td>\n",
              "      <td>0.216460</td>\n",
              "      <td>1.000000</td>\n",
              "      <td>-0.665694</td>\n",
              "      <td>0.467934</td>\n",
              "      <td>-0.293816</td>\n",
              "      <td>-0.204480</td>\n",
              "      <td>-0.099909</td>\n",
              "      <td>0.125291</td>\n",
              "      <td>-0.030183</td>\n",
              "      <td>-0.049759</td>\n",
              "      <td>0.049759</td>\n",
              "    </tr>\n",
              "    <tr>\n",
              "      <th>home_previous_points</th>\n",
              "      <td>0.071770</td>\n",
              "      <td>-0.130293</td>\n",
              "      <td>-0.665694</td>\n",
              "      <td>1.000000</td>\n",
              "      <td>-0.290068</td>\n",
              "      <td>0.601588</td>\n",
              "      <td>0.126550</td>\n",
              "      <td>0.087013</td>\n",
              "      <td>-0.126728</td>\n",
              "      <td>0.046755</td>\n",
              "      <td>0.018749</td>\n",
              "      <td>-0.018749</td>\n",
              "    </tr>\n",
              "    <tr>\n",
              "      <th>away_team_rank</th>\n",
              "      <td>0.314647</td>\n",
              "      <td>-0.159829</td>\n",
              "      <td>0.467934</td>\n",
              "      <td>-0.290068</td>\n",
              "      <td>1.000000</td>\n",
              "      <td>-0.667797</td>\n",
              "      <td>0.321075</td>\n",
              "      <td>-0.108597</td>\n",
              "      <td>0.139469</td>\n",
              "      <td>-0.036288</td>\n",
              "      <td>-0.066359</td>\n",
              "      <td>0.066359</td>\n",
              "    </tr>\n",
              "    <tr>\n",
              "      <th>away_previous_points</th>\n",
              "      <td>-0.213192</td>\n",
              "      <td>0.128714</td>\n",
              "      <td>-0.293816</td>\n",
              "      <td>0.601588</td>\n",
              "      <td>-0.667797</td>\n",
              "      <td>1.000000</td>\n",
              "      <td>-0.229293</td>\n",
              "      <td>0.087499</td>\n",
              "      <td>-0.133662</td>\n",
              "      <td>0.053916</td>\n",
              "      <td>0.041770</td>\n",
              "      <td>-0.041770</td>\n",
              "    </tr>\n",
              "    <tr>\n",
              "      <th>output</th>\n",
              "      <td>0.824076</td>\n",
              "      <td>-0.695149</td>\n",
              "      <td>-0.204480</td>\n",
              "      <td>0.126550</td>\n",
              "      <td>0.321075</td>\n",
              "      <td>-0.229293</td>\n",
              "      <td>1.000000</td>\n",
              "      <td>-0.020577</td>\n",
              "      <td>-0.001454</td>\n",
              "      <td>0.026013</td>\n",
              "      <td>0.082158</td>\n",
              "      <td>-0.082158</td>\n",
              "    </tr>\n",
              "    <tr>\n",
              "      <th>Friendly</th>\n",
              "      <td>-0.063397</td>\n",
              "      <td>-0.044628</td>\n",
              "      <td>-0.099909</td>\n",
              "      <td>0.087013</td>\n",
              "      <td>-0.108597</td>\n",
              "      <td>0.087499</td>\n",
              "      <td>-0.020577</td>\n",
              "      <td>1.000000</td>\n",
              "      <td>-0.647504</td>\n",
              "      <td>-0.400732</td>\n",
              "      <td>0.154514</td>\n",
              "      <td>-0.154514</td>\n",
              "    </tr>\n",
              "    <tr>\n",
              "      <th>other</th>\n",
              "      <td>0.029706</td>\n",
              "      <td>0.040229</td>\n",
              "      <td>0.125291</td>\n",
              "      <td>-0.126728</td>\n",
              "      <td>0.139469</td>\n",
              "      <td>-0.133662</td>\n",
              "      <td>-0.001454</td>\n",
              "      <td>-0.647504</td>\n",
              "      <td>1.000000</td>\n",
              "      <td>-0.438722</td>\n",
              "      <td>-0.357708</td>\n",
              "      <td>0.357708</td>\n",
              "    </tr>\n",
              "    <tr>\n",
              "      <th>worldcup</th>\n",
              "      <td>0.039043</td>\n",
              "      <td>0.004260</td>\n",
              "      <td>-0.030183</td>\n",
              "      <td>0.046755</td>\n",
              "      <td>-0.036288</td>\n",
              "      <td>0.053916</td>\n",
              "      <td>0.026013</td>\n",
              "      <td>-0.400732</td>\n",
              "      <td>-0.438722</td>\n",
              "      <td>1.000000</td>\n",
              "      <td>0.247854</td>\n",
              "      <td>-0.247854</td>\n",
              "    </tr>\n",
              "    <tr>\n",
              "      <th>False</th>\n",
              "      <td>0.024770</td>\n",
              "      <td>-0.111596</td>\n",
              "      <td>-0.049759</td>\n",
              "      <td>0.018749</td>\n",
              "      <td>-0.066359</td>\n",
              "      <td>0.041770</td>\n",
              "      <td>0.082158</td>\n",
              "      <td>0.154514</td>\n",
              "      <td>-0.357708</td>\n",
              "      <td>0.247854</td>\n",
              "      <td>1.000000</td>\n",
              "      <td>-1.000000</td>\n",
              "    </tr>\n",
              "    <tr>\n",
              "      <th>True</th>\n",
              "      <td>-0.024770</td>\n",
              "      <td>0.111596</td>\n",
              "      <td>0.049759</td>\n",
              "      <td>-0.018749</td>\n",
              "      <td>0.066359</td>\n",
              "      <td>-0.041770</td>\n",
              "      <td>-0.082158</td>\n",
              "      <td>-0.154514</td>\n",
              "      <td>0.357708</td>\n",
              "      <td>-0.247854</td>\n",
              "      <td>-1.000000</td>\n",
              "      <td>1.000000</td>\n",
              "    </tr>\n",
              "  </tbody>\n",
              "</table>\n",
              "</div>"
            ],
            "text/plain": [
              "                      home_score  away_score  ...     False      True\n",
              "home_score              1.000000   -0.165633  ...  0.024770 -0.024770\n",
              "away_score             -0.165633    1.000000  ... -0.111596  0.111596\n",
              "home_team_rank         -0.111459    0.216460  ... -0.049759  0.049759\n",
              "home_previous_points    0.071770   -0.130293  ...  0.018749 -0.018749\n",
              "away_team_rank          0.314647   -0.159829  ... -0.066359  0.066359\n",
              "away_previous_points   -0.213192    0.128714  ...  0.041770 -0.041770\n",
              "output                  0.824076   -0.695149  ...  0.082158 -0.082158\n",
              "Friendly               -0.063397   -0.044628  ...  0.154514 -0.154514\n",
              "other                   0.029706    0.040229  ... -0.357708  0.357708\n",
              "worldcup                0.039043    0.004260  ...  0.247854 -0.247854\n",
              "False                   0.024770   -0.111596  ...  1.000000 -1.000000\n",
              "True                   -0.024770    0.111596  ... -1.000000  1.000000\n",
              "\n",
              "[12 rows x 12 columns]"
            ]
          },
          "metadata": {
            "tags": []
          },
          "execution_count": 82
        }
      ]
    },
    {
      "cell_type": "markdown",
      "metadata": {
        "id": "tkwRlrApIxaz",
        "colab_type": "text"
      },
      "source": [
        "there is a weak relationship between the independent variables. from this t looks like ridge regression will yield the best model."
      ]
    },
    {
      "cell_type": "code",
      "metadata": {
        "id": "7rnW7FFQbR7W",
        "colab_type": "code",
        "outputId": "4fc66761-9fae-414f-f459-63710dea91c1",
        "colab": {
          "base_uri": "https://localhost:8080/",
          "height": 87
        }
      },
      "source": [
        "data.columns"
      ],
      "execution_count": 83,
      "outputs": [
        {
          "output_type": "execute_result",
          "data": {
            "text/plain": [
              "Index(['home_score', 'away_score', 'home_team_rank', 'home_previous_points',\n",
              "       'away_team_rank', 'away_previous_points', 'output', 'position',\n",
              "       'Friendly', 'other', 'worldcup', 'False', 'True'],\n",
              "      dtype='object')"
            ]
          },
          "metadata": {
            "tags": []
          },
          "execution_count": 83
        }
      ]
    },
    {
      "cell_type": "code",
      "metadata": {
        "id": "i6m1l5VVILGG",
        "colab_type": "code",
        "outputId": "98c59729-3cff-4388-ac36-ccb0ac071a87",
        "colab": {
          "base_uri": "https://localhost:8080/",
          "height": 197
        }
      },
      "source": [
        "#from the previous deductions we learnt that scores dont influence the rank of any given team but\n",
        "#previous points do as well as whether a team recorded a win,lose or draw influenced the ranking\n",
        "#so we shall use oly the two columns to make our predictions\n",
        "predictors =data [['home_team_rank','output','home_previous_points']]\n",
        "predictors.head()"
      ],
      "execution_count": 84,
      "outputs": [
        {
          "output_type": "execute_result",
          "data": {
            "text/html": [
              "<div>\n",
              "<style scoped>\n",
              "    .dataframe tbody tr th:only-of-type {\n",
              "        vertical-align: middle;\n",
              "    }\n",
              "\n",
              "    .dataframe tbody tr th {\n",
              "        vertical-align: top;\n",
              "    }\n",
              "\n",
              "    .dataframe thead th {\n",
              "        text-align: right;\n",
              "    }\n",
              "</style>\n",
              "<table border=\"1\" class=\"dataframe\">\n",
              "  <thead>\n",
              "    <tr style=\"text-align: right;\">\n",
              "      <th></th>\n",
              "      <th>home_team_rank</th>\n",
              "      <th>output</th>\n",
              "      <th>home_previous_points</th>\n",
              "    </tr>\n",
              "  </thead>\n",
              "  <tbody>\n",
              "    <tr>\n",
              "      <th>0</th>\n",
              "      <td>59.0</td>\n",
              "      <td>2</td>\n",
              "      <td>13.0</td>\n",
              "    </tr>\n",
              "    <tr>\n",
              "      <th>1</th>\n",
              "      <td>8.0</td>\n",
              "      <td>0</td>\n",
              "      <td>55.0</td>\n",
              "    </tr>\n",
              "    <tr>\n",
              "      <th>2</th>\n",
              "      <td>35.0</td>\n",
              "      <td>5</td>\n",
              "      <td>23.0</td>\n",
              "    </tr>\n",
              "    <tr>\n",
              "      <th>3</th>\n",
              "      <td>65.0</td>\n",
              "      <td>1</td>\n",
              "      <td>23.0</td>\n",
              "    </tr>\n",
              "    <tr>\n",
              "      <th>4</th>\n",
              "      <td>67.0</td>\n",
              "      <td>-2</td>\n",
              "      <td>22.0</td>\n",
              "    </tr>\n",
              "  </tbody>\n",
              "</table>\n",
              "</div>"
            ],
            "text/plain": [
              "   home_team_rank  output  home_previous_points\n",
              "0            59.0       2                  13.0\n",
              "1             8.0       0                  55.0\n",
              "2            35.0       5                  23.0\n",
              "3            65.0       1                  23.0\n",
              "4            67.0      -2                  22.0"
            ]
          },
          "metadata": {
            "tags": []
          },
          "execution_count": 84
        }
      ]
    },
    {
      "cell_type": "code",
      "metadata": {
        "id": "WuIAbye52XJ4",
        "colab_type": "code",
        "outputId": "7a333e5b-4e0f-4b2b-a793-c9990fb1515d",
        "colab": {
          "base_uri": "https://localhost:8080/",
          "height": 87
        }
      },
      "source": [
        "#we check whether there are missing values\n",
        "predictors.isnull().sum()"
      ],
      "execution_count": 85,
      "outputs": [
        {
          "output_type": "execute_result",
          "data": {
            "text/plain": [
              "home_team_rank          3454\n",
              "output                     0\n",
              "home_previous_points    3454\n",
              "dtype: int64"
            ]
          },
          "metadata": {
            "tags": []
          },
          "execution_count": 85
        }
      ]
    },
    {
      "cell_type": "code",
      "metadata": {
        "id": "FpUmMiU62kn1",
        "colab_type": "code",
        "colab": {}
      },
      "source": [
        "#we drop the missing values\n",
        "predictors.dropna(inplace=True)"
      ],
      "execution_count": 0,
      "outputs": []
    },
    {
      "cell_type": "code",
      "metadata": {
        "id": "hw34Zs4K11LH",
        "colab_type": "code",
        "colab": {}
      },
      "source": [
        "#we separate our variables into a target and predictor variables\n",
        "X=predictors.drop('home_team_rank', axis=1)\n",
        "y=predictors['home_team_rank']"
      ],
      "execution_count": 0,
      "outputs": []
    },
    {
      "cell_type": "code",
      "metadata": {
        "id": "tOKBrjEN2OTH",
        "colab_type": "code",
        "outputId": "a6d47a02-3cdf-4d2b-801a-a541b83d5abe",
        "colab": {
          "base_uri": "https://localhost:8080/",
          "height": 34
        }
      },
      "source": [
        "# Creating our linear regression model for the purpose of comparison(its going to be our baseline)\n",
        "# \n",
        "regression=LinearRegression()\n",
        "regression.fit(X,y)\n",
        "first_model=(mean_squared_error(y_true=y,y_pred=regression.predict(X)))\n",
        "print(first_model) \n",
        "\n",
        "# This mean standard error score of 1421.710 is our benchmark for determining \n",
        "# if the elastic net model will be better or worst. "
      ],
      "execution_count": 88,
      "outputs": [
        {
          "output_type": "stream",
          "text": [
            "1421.7107985380173\n"
          ],
          "name": "stdout"
        }
      ]
    },
    {
      "cell_type": "code",
      "metadata": {
        "id": "4aiWAjZr3sfC",
        "colab_type": "code",
        "outputId": "4b174842-af78-4728-8ee3-20b3ef469141",
        "colab": {
          "base_uri": "https://localhost:8080/",
          "height": 34
        }
      },
      "source": [
        "# Below are the coefficients of this first model. We use a for loop to go through \n",
        "# the model and the zip function to combine the two columns.\n",
        "# \n",
        "coef_dict_baseline = {}\n",
        "for coef, feat in zip(regression.coef_,X.columns):\n",
        "    coef_dict_baseline[feat] = coef\n",
        "coef_dict_baseline"
      ],
      "execution_count": 89,
      "outputs": [
        {
          "output_type": "execute_result",
          "data": {
            "text/plain": [
              "{'home_previous_points': -0.1057253768146687, 'output': -2.7960531821276686}"
            ]
          },
          "metadata": {
            "tags": []
          },
          "execution_count": 89
        }
      ]
    },
    {
      "cell_type": "code",
      "metadata": {
        "id": "fgdrQYfk4a8N",
        "colab_type": "code",
        "colab": {}
      },
      "source": [
        "# Elastic Net Model\n",
        "# Elastic net, just like ridge and lasso regression, requires normalize data.  \n",
        "# This argument  is set inside the ElasticNet function. \n",
        "# The second thing we need to do is create our grid.\n",
        "# \n",
        "elastic=ElasticNet(normalize=True)\n",
        "search=GridSearchCV(estimator=elastic,param_grid={'alpha':np.logspace(-5,2,8),'l1_ratio':[.2,.4,.6,.8]},scoring='neg_mean_squared_error',n_jobs=1,refit=True,cv=10)"
      ],
      "execution_count": 0,
      "outputs": []
    },
    {
      "cell_type": "code",
      "metadata": {
        "id": "g2IEfgFr4pEt",
        "colab_type": "code",
        "outputId": "e687773b-6828-4567-8f75-f9aaf1f107d7",
        "colab": {
          "base_uri": "https://localhost:8080/",
          "height": 34
        }
      },
      "source": [
        "# We will now fit our model and display the best parameters and the best results we can get with that setup.\n",
        "# \n",
        "search.fit(X,y)\n",
        "search.best_params_\n",
        "abs(search.best_score_)"
      ],
      "execution_count": 91,
      "outputs": [
        {
          "output_type": "execute_result",
          "data": {
            "text/plain": [
              "1701.6833838391656"
            ]
          },
          "metadata": {
            "tags": []
          },
          "execution_count": 91
        }
      ]
    },
    {
      "cell_type": "code",
      "metadata": {
        "id": "BLaw9I4X5Qds",
        "colab_type": "code",
        "outputId": "9df15704-46b4-443e-d8b6-597d4345bfbd",
        "colab": {
          "base_uri": "https://localhost:8080/",
          "height": 34
        }
      },
      "source": [
        "# The best hyperparameters was an alpha set to 0.001 and a l1_ratio of 0.8. \n",
        "# With these settings we got an MSE of 1701.683. This is above our baseline model of MSE 1421.710  for the baseline model. \n",
        "# Which means that elastic net is doing worse than linear regression. \n",
        "# For clarity, we will set our hyperparameters to the recommended values and run on the data.\n",
        "# \n",
        "elastic=ElasticNet(normalize=True,alpha=0.001,l1_ratio=0.75)\n",
        "elastic.fit(X,y)\n",
        "second_model=(mean_squared_error(y_true=y,y_pred=elastic.predict(X)))\n",
        "print(second_model)"
      ],
      "execution_count": 92,
      "outputs": [
        {
          "output_type": "stream",
          "text": [
            "2221.2902616916663\n"
          ],
          "name": "stdout"
        }
      ]
    },
    {
      "cell_type": "markdown",
      "metadata": {
        "id": "qL3tnVv3J5TG",
        "colab_type": "text"
      },
      "source": [
        "this worsen further so elastic regression not the best"
      ]
    },
    {
      "cell_type": "code",
      "metadata": {
        "id": "WWjcVQML5oXw",
        "colab_type": "code",
        "outputId": "87726c25-ed30-440d-acaa-83c656e72df0",
        "colab": {
          "base_uri": "https://localhost:8080/",
          "height": 34
        }
      },
      "source": [
        "# Below are the coefficients\n",
        "# \n",
        "coef_dict_baseline = {}\n",
        "for coef, feat in zip(elastic.coef_,X.columns):\n",
        "    coef_dict_baseline[feat] = coef\n",
        "coef_dict_baseline\n",
        "# The coefficients are mostly the same. \n",
        "# This means that this values was no good to the algorithm. Traditional regression cannot do this."
      ],
      "execution_count": 93,
      "outputs": [
        {
          "output_type": "execute_result",
          "data": {
            "text/plain": [
              "{'home_previous_points': -0.018929775234945094, 'output': -0.7583806855479241}"
            ]
          },
          "metadata": {
            "tags": []
          },
          "execution_count": 93
        }
      ]
    },
    {
      "cell_type": "markdown",
      "metadata": {
        "id": "LvtatH34ylA6",
        "colab_type": "text"
      },
      "source": [
        "we can conclude that elastic regression has not done any good to our model as the MSE is even greater than the baseline set."
      ]
    },
    {
      "cell_type": "markdown",
      "metadata": {
        "id": "K1HzIGuE6FGP",
        "colab_type": "text"
      },
      "source": [
        "# **RIDGE REGRESSION**"
      ]
    },
    {
      "cell_type": "code",
      "metadata": {
        "id": "D6Xc_Pa66Loq",
        "colab_type": "code",
        "colab": {}
      },
      "source": [
        "#We already have our baseline as a linear regression\n",
        "#we fit the values in a ridge regression and we get the output and compare\n",
        "ridge = Ridge(normalize=True)\n",
        "search = GridSearchCV(estimator=ridge,param_grid={'alpha':np.logspace(-5,2,8)},scoring='neg_mean_squared_error',n_jobs=1,refit=True,cv=10)"
      ],
      "execution_count": 0,
      "outputs": []
    },
    {
      "cell_type": "code",
      "metadata": {
        "id": "Jiml_Tgz-b7Y",
        "colab_type": "code",
        "outputId": "a8a9c4fa-66e8-4c72-bcff-fc97ac741a08",
        "colab": {
          "base_uri": "https://localhost:8080/",
          "height": 34
        }
      },
      "source": [
        "# We now use the .fit function to run the model and then use the .best_params_ and\n",
        "#  .best_scores_ function to determine the models strength. \n",
        "# \n",
        "search.fit(X,y)\n",
        "search.best_params_\n",
        "abs(search.best_score_) \n"
      ],
      "execution_count": 95,
      "outputs": [
        {
          "output_type": "execute_result",
          "data": {
            "text/plain": [
              "1707.4424745099523"
            ]
          },
          "metadata": {
            "tags": []
          },
          "execution_count": 95
        }
      ]
    },
    {
      "cell_type": "code",
      "metadata": {
        "id": "TVkKiXDb-iVE",
        "colab_type": "code",
        "outputId": "f9f56afe-5b0f-43c0-8acc-f0027b0d54ea",
        "colab": {
          "base_uri": "https://localhost:8080/",
          "height": 34
        }
      },
      "source": [
        "# We can confirm this by fitting our model with the ridge information and finding the mean squared error below\n",
        "#\n",
        "ridge = Ridge(normalize=True,alpha=0.01)\n",
        "ridge.fit(X,y)\n",
        "second_model = (mean_squared_error(y_true=y,y_pred=ridge.predict(X)))\n",
        "print(second_model)"
      ],
      "execution_count": 96,
      "outputs": [
        {
          "output_type": "stream",
          "text": [
            "1421.8199356892392\n"
          ],
          "name": "stdout"
        }
      ]
    },
    {
      "cell_type": "markdown",
      "metadata": {
        "id": "KvdcI3vGKPCx",
        "colab_type": "text"
      },
      "source": [
        "The ridge regression has fit our data better than the elastic regression.the RMSE is around the same figure as the baseline set."
      ]
    },
    {
      "cell_type": "code",
      "metadata": {
        "id": "Xo5P0K8R53DW",
        "colab_type": "code",
        "outputId": "de98c115-8591-4500-a67b-6807aea76631",
        "colab": {
          "base_uri": "https://localhost:8080/",
          "height": 34
        }
      },
      "source": [
        "# The 0.35 is lower than the 0.38. This is because the last results are not cross-validated. \n",
        "# In addition, these results indicate that there is little difference between the ridge and baseline models. \n",
        "# This is confirmed with the coefficients of each model found below.\n",
        "# \n",
        "coef_dict_baseline = {}\n",
        "for coef, feat in zip(regression.coef_,X.columns):\n",
        "    coef_dict_baseline[feat] = coef\n",
        "coef_dict_baseline\n",
        "\n",
        "# The coefficient values are about the same. This means that the penalization made little difference with this dataset."
      ],
      "execution_count": 97,
      "outputs": [
        {
          "output_type": "execute_result",
          "data": {
            "text/plain": [
              "{'home_previous_points': -0.1057253768146687, 'output': -2.7960531821276686}"
            ]
          },
          "metadata": {
            "tags": []
          },
          "execution_count": 97
        }
      ]
    },
    {
      "cell_type": "code",
      "metadata": {
        "id": "VEn1rTo4dtjG",
        "colab_type": "code",
        "outputId": "05a4d930-f140-45cc-a24d-92c6e2436687",
        "colab": {
          "base_uri": "https://localhost:8080/",
          "height": 457
        }
      },
      "source": [
        "# Importing library for visualization\n",
        "#\n",
        "import matplotlib.pyplot as plt\n",
        "coefsRidge = [] \n",
        "\n",
        "# Building Lasso for 200 values of alpha and write the coefficients into array\n",
        "# \n",
        "alphasRidge = np.arange (0, 20, 0.1) \n",
        "for i in range(200):\n",
        "    ridge = linear_model.Ridge(alpha=alphasRidge[i])\n",
        "    ridge.fit(X, y)\n",
        "    coefsRidge.append(ridge.coef_) \n",
        "\n",
        "# Building Ridge coefficient plots\n",
        "# \n",
        "plt.figure(figsize = (16,7))\n",
        "\n",
        "plt.subplot(121)\n",
        "plt.plot(alphasRidge, coefsRidge)\n",
        "plt.title('Ridge coefficients')\n",
        "plt.xlabel('alpha')\n",
        "plt.ylabel('coefs')\n",
        "\n",
        "plt.show()\n"
      ],
      "execution_count": 98,
      "outputs": [
        {
          "output_type": "display_data",
          "data": {
            "image/png": "[encoded data removed]",
            "text/plain": [
              "<Figure size 1152x504 with 1 Axes>"
            ]
          },
          "metadata": {
            "tags": []
          }
        }
      ]
    },
    {
      "cell_type": "markdown",
      "metadata": {
        "id": "UiOVfpAITZWd",
        "colab_type": "text"
      },
      "source": [
        "The ridge regression will penalize your coefficients, such that those who are the least efficient in your estimation will \"shrink\" the fastest.We can therfore say that the variable represented by the orange line shrunk faster and is less efficient to the variable rep by the blue line."
      ]
    },
    {
      "cell_type": "markdown",
      "metadata": {
        "id": "6oqOvS1u_23R",
        "colab_type": "text"
      },
      "source": [
        "# **LASSO REGRESSION**"
      ]
    },
    {
      "cell_type": "code",
      "metadata": {
        "id": "3WP3zPK9_8YR",
        "colab_type": "code",
        "colab": {}
      },
      "source": [
        "#We note that for lasso we begin by scaling the data.because it has the \n",
        "#ability to select features we shall plug in all the feature and see the outcome \n",
        "# Lasso put constraints on the size of the coefficients associated to each variable. \n",
        "# But, this value depends on the magnitude of each variable and it is therefore \n",
        "# necessary to center and reduce, or standardize, the variables.\n",
        "# \n",
        "\n",
        "# Importing StandardScaler\n",
        "#\n",
        "from sklearn.preprocessing import StandardScaler\n",
        "predictor_lasso =data[['home_score', 'away_score', 'home_team_rank', 'home_previous_points',\n",
        "       'away_team_rank', 'away_previous_points', 'output', 'position',\n",
        "       'Friendly', 'other', 'worldcup', 'False', 'True']]\n"
      ],
      "execution_count": 0,
      "outputs": []
    },
    {
      "cell_type": "code",
      "metadata": {
        "id": "ofGmSKyuci9w",
        "colab_type": "code",
        "colab": {
          "base_uri": "https://localhost:8080/",
          "height": 265
        },
        "outputId": "096125d7-7ae7-4562-d031-6c57c31d9f41"
      },
      "source": [
        "#we check for missing values\n",
        "predictor_lasso.isnull().sum()"
      ],
      "execution_count": 100,
      "outputs": [
        {
          "output_type": "execute_result",
          "data": {
            "text/plain": [
              "home_score                 0\n",
              "away_score                 0\n",
              "home_team_rank          3454\n",
              "home_previous_points    3454\n",
              "away_team_rank          3545\n",
              "away_previous_points    3545\n",
              "output                     0\n",
              "position                   0\n",
              "Friendly                   0\n",
              "other                      0\n",
              "worldcup                   0\n",
              "False                      0\n",
              "True                       0\n",
              "dtype: int64"
            ]
          },
          "metadata": {
            "tags": []
          },
          "execution_count": 100
        }
      ]
    },
    {
      "cell_type": "code",
      "metadata": {
        "id": "LllJBsvDcrRG",
        "colab_type": "code",
        "colab": {}
      },
      "source": [
        "predictor_lasso.dropna(inplace=True)"
      ],
      "execution_count": 0,
      "outputs": []
    },
    {
      "cell_type": "code",
      "metadata": {
        "id": "8Y-abHCgKV8g",
        "colab_type": "code",
        "colab": {
          "base_uri": "https://localhost:8080/",
          "height": 265
        },
        "outputId": "47710508-4509-4968-ce3f-cdced28f17ab"
      },
      "source": [
        "#we check whether the null values dropped \n",
        "predictor_lasso.isnull().sum()"
      ],
      "execution_count": 102,
      "outputs": [
        {
          "output_type": "execute_result",
          "data": {
            "text/plain": [
              "home_score              0\n",
              "away_score              0\n",
              "home_team_rank          0\n",
              "home_previous_points    0\n",
              "away_team_rank          0\n",
              "away_previous_points    0\n",
              "output                  0\n",
              "position                0\n",
              "Friendly                0\n",
              "other                   0\n",
              "worldcup                0\n",
              "False                   0\n",
              "True                    0\n",
              "dtype: int64"
            ]
          },
          "metadata": {
            "tags": []
          },
          "execution_count": 102
        }
      ]
    },
    {
      "cell_type": "code",
      "metadata": {
        "id": "DEm4aEO-dBIP",
        "colab_type": "code",
        "colab": {}
      },
      "source": [
        "# Creating features and target matrixes\n",
        "X=predictor_lasso.drop(['home_team_rank','position'],axis=1)\n",
        "y=predictor_lasso['home_team_rank']"
      ],
      "execution_count": 0,
      "outputs": []
    },
    {
      "cell_type": "code",
      "metadata": {
        "id": "xdPPuRSxHa3s",
        "colab_type": "code",
        "colab": {}
      },
      "source": [
        "# Scaling data \n",
        "#\n",
        "scaler = StandardScaler()\n",
        "scaler.fit(X)\n",
        "X = scaler.transform(X)"
      ],
      "execution_count": 0,
      "outputs": []
    },
    {
      "cell_type": "code",
      "metadata": {
        "id": "i331vz0DHgGm",
        "colab_type": "code",
        "colab": {}
      },
      "source": [
        "#Creating lasso object\n",
        "lasso = linear_model.Lasso()\n",
        "\n"
      ],
      "execution_count": 0,
      "outputs": []
    },
    {
      "cell_type": "code",
      "metadata": {
        "id": "Oi0tDvXFdPKO",
        "colab_type": "code",
        "colab": {
          "base_uri": "https://localhost:8080/",
          "height": 34
        },
        "outputId": "26e5d1bb-5767-4639-c564-172d38253538"
      },
      "source": [
        "X.shape"
      ],
      "execution_count": 112,
      "outputs": [
        {
          "output_type": "execute_result",
          "data": {
            "text/plain": [
              "(16890, 11)"
            ]
          },
          "metadata": {
            "tags": []
          },
          "execution_count": 112
        }
      ]
    },
    {
      "cell_type": "code",
      "metadata": {
        "id": "1khKLQJTdSwq",
        "colab_type": "code",
        "colab": {
          "base_uri": "https://localhost:8080/",
          "height": 34
        },
        "outputId": "82aaa0a0-4e1b-4617-ee4c-7e1ad0da52f6"
      },
      "source": [
        "y.shape"
      ],
      "execution_count": 113,
      "outputs": [
        {
          "output_type": "execute_result",
          "data": {
            "text/plain": [
              "(16890,)"
            ]
          },
          "metadata": {
            "tags": []
          },
          "execution_count": 113
        }
      ]
    },
    {
      "cell_type": "code",
      "metadata": {
        "id": "9HqRogxHM3x5",
        "colab_type": "code",
        "colab": {
          "base_uri": "https://localhost:8080/",
          "height": 70
        },
        "outputId": "d0f48e75-c1cd-4657-a628-34cebef47b17"
      },
      "source": [
        "# Fitting the models\n",
        "# \n",
        "lasso.fit(X, y) \n"
      ],
      "execution_count": 114,
      "outputs": [
        {
          "output_type": "execute_result",
          "data": {
            "text/plain": [
              "Lasso(alpha=1.0, copy_X=True, fit_intercept=True, max_iter=1000,\n",
              "      normalize=False, positive=False, precompute=False, random_state=None,\n",
              "      selection='cyclic', tol=0.0001, warm_start=False)"
            ]
          },
          "metadata": {
            "tags": []
          },
          "execution_count": 114
        }
      ]
    },
    {
      "cell_type": "code",
      "metadata": {
        "id": "k8bAlbD0M5mM",
        "colab_type": "code",
        "colab": {
          "base_uri": "https://localhost:8080/",
          "height": 105
        },
        "outputId": "076e6791-3536-4c25-8736-151fbabfc70c"
      },
      "source": [
        "# Print scores, MSE, and coefficients\n",
        "# \n",
        "print(\"lasso score:\", lasso.score(X, y)) \n",
        "print(\"lasso MSE:\", mean_squared_error(y, lasso.predict(X))) \n",
        "print(\"lasso coef:\", lasso.coef_) "
      ],
      "execution_count": 115,
      "outputs": [
        {
          "output_type": "stream",
          "text": [
            "lasso score: 0.7241026351512362\n",
            "lasso MSE: 712.1889943208992\n",
            "lasso coef: [ -0.           1.14063365 -37.27862255  32.48895504  25.75392904\n",
            "  -9.37613199  -0.           0.           0.           0.\n",
            "  -0.        ]\n"
          ],
          "name": "stdout"
        }
      ]
    },
    {
      "cell_type": "markdown",
      "metadata": {
        "id": "5Y_skufnUJdD",
        "colab_type": "text"
      },
      "source": [
        "we can see that lasso regression can actually select feature because it has reduced some coefficient varibles to zero meaning they are not important for our modelling"
      ]
    },
    {
      "cell_type": "code",
      "metadata": {
        "id": "5U146o4qN4wl",
        "colab_type": "code",
        "colab": {}
      },
      "source": [
        "# Splitting the data into training and test sets, building Lasso, \n",
        "# and choosing the regularization parameter with the help of GridSearch. \n",
        "# For that, we have to define the set of parameters for GridSearch. \n",
        "# In this case, a model with the highest R-squared score will give us the best parameters.\n",
        "# \n",
        "\n",
        "# Making necessary imports, split data into training and test sets, and choose a set of parameters \n",
        "from sklearn.model_selection import train_test_split\n",
        "from sklearn.model_selection import GridSearchCV\n",
        "import warnings\n",
        "warnings.filterwarnings(\"ignore\")\n",
        "\n",
        "X_train, X_test, y_train, y_test = train_test_split(X, y, test_size=0.25, random_state=101)\n",
        "parameters = {'alpha': np.concatenate((np.arange(0.1,2,0.1), np.arange(2, 5, 0.5), np.arange(5, 25, 1)))}\n",
        "\n",
        "linear = linear_model.LinearRegression()\n",
        "lasso = linear_model.Lasso() \n",
        "gridlasso = GridSearchCV(lasso, parameters, scoring ='r2') \n"
      ],
      "execution_count": 0,
      "outputs": []
    },
    {
      "cell_type": "code",
      "metadata": {
        "id": "Tw1COE0vN8ij",
        "colab_type": "code",
        "colab": {
          "base_uri": "https://localhost:8080/",
          "height": 212
        },
        "outputId": "51ec34be-9661-4294-b5e8-2c1718f1fdf9"
      },
      "source": [
        "# Fitting models and print the best parameters, R-squared scores, MSE, and coefficients\n",
        "gridlasso.fit(X_train, y_train) \n",
        "linear.fit(X_train, y_train) \n",
        "print(\"lasso best parameters:\", gridlasso.best_params_) \n",
        "print(\"lasso score:\", gridlasso.score(X_test, y_test))\n",
        "print(\"linear score:\", linear.score(X_test, y_test)) \n",
        "print(\"lasso MSE:\", mean_squared_error(y_test, gridlasso.predict(X_test)))\n",
        "print(\"linear MSE:\", mean_squared_error(y_test, linear.predict(X_test))) \n",
        "print(\"lasso best estimator coef:\", gridlasso.best_estimator_.coef_)\n",
        "print(\"linear coef:\", linear.coef_)"
      ],
      "execution_count": 117,
      "outputs": [
        {
          "output_type": "stream",
          "text": [
            "lasso best parameters: {'alpha': 0.1}\n",
            "lasso score: 0.722975032301479\n",
            "linear score: 0.7227427161837637\n",
            "lasso MSE: 709.4563090662209\n",
            "linear MSE: 710.05126675823\n",
            "lasso best estimator coef: [-0.00000000e+00  1.29427682e+00 -3.98752470e+01  3.61310784e+01\n",
            "  3.04560831e+01 -1.00762689e+01 -7.88552243e-01  0.00000000e+00\n",
            "  1.92193135e-01  5.80492268e-02 -4.46428220e-16]\n",
            "linear coef: [ 4.32467838e+13 -3.33297165e+13 -4.01585693e+01  3.65273438e+01\n",
            "  3.09316406e+01 -5.87592806e+13 -5.53843204e+12 -5.54754098e+12\n",
            " -4.82940096e+12 -2.12404517e+12 -2.12404517e+12]\n"
          ],
          "name": "stdout"
        }
      ]
    },
    {
      "cell_type": "markdown",
      "metadata": {
        "id": "hLZRld1GUlnF",
        "colab_type": "text"
      },
      "source": [
        "we can see that lasso performs really really well as the MSE has reduced to 709 lesser than that of the baseline set of 1421. so our model has improved by almost 50%.\n",
        "\n",
        "the lasso regression has also reduced some coefficients to zero showing its ability for feature selection.it has also shrunk the coefficient towards zero"
      ]
    },
    {
      "cell_type": "code",
      "metadata": {
        "id": "6o8LO1DVOMXg",
        "colab_type": "code",
        "colab": {
          "base_uri": "https://localhost:8080/",
          "height": 457
        },
        "outputId": "e096e996-4bba-4df4-8781-fa94e9b019db"
      },
      "source": [
        "# Importing library for visualization\n",
        "#\n",
        "import matplotlib.pyplot as plt\n",
        "coefsLasso = [] \n",
        "\n",
        "# Building Lasso for 200 values of alpha and write the coefficients into array\n",
        "# \n",
        "alphasLasso = np.arange (0, 20, 0.1) \n",
        "for i in range(200):\n",
        "    lasso = linear_model.Lasso(alpha=alphasLasso[i])\n",
        "    lasso.fit(X_train, y_train)\n",
        "    coefsLasso.append(lasso.coef_) \n",
        "\n",
        "# Building Lasso coefficient plots\n",
        "# \n",
        "plt.figure(figsize = (16,7))\n",
        "\n",
        "plt.subplot(121)\n",
        "plt.plot(alphasLasso, coefsLasso)\n",
        "plt.title('Lasso coefficients')\n",
        "plt.xlabel('alpha')\n",
        "plt.ylabel('coefs')\n",
        "\n",
        "plt.show()\n",
        "\n",
        "# As we can see, Lasso influences less on the large coefficients, but the small ones Lasso reduces to zeroes. \n",
        "# Therefore Lasso can also be used to determine which features are important \n",
        "# to us and keeps the features that may influence the target variable"
      ],
      "execution_count": 118,
      "outputs": [
        {
          "output_type": "display_data",
          "data": {
            "image/png": "[encoded data removed]",
            "text/plain": [
              "<Figure size 1152x504 with 1 Axes>"
            ]
          },
          "metadata": {
            "tags": []
          }
        }
      ]
    },
    {
      "cell_type": "markdown",
      "metadata": {
        "id": "7x09TPq_V5nK",
        "colab_type": "text"
      },
      "source": [
        "From the above trace plot the variables that enter the model faster as the most efficient predictors.\n",
        "\n",
        "In the plot above colored line represents the value taken by a different coefficient in our model. alpha is the weight given to the regularization term , so as alpha approaches zero, the loss function of our model approaches the OLS loss function\n",
        "\n",
        "Therefore, when alpha is very small, the LASSO solution should be very close to the OLS solution, and all of our coefficients are in the model. As alpha grows, the regularization term has greater effect and we will see fewer variables in your model"
      ]
    },
    {
      "cell_type": "markdown",
      "metadata": {
        "id": "Pd5uMMGsN7IH",
        "colab_type": "text"
      },
      "source": [
        ""
      ]
    }
  ]
}