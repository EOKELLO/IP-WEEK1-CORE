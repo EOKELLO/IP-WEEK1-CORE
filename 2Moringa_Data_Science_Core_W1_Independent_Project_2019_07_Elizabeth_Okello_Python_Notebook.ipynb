{
  "nbformat": 4,
  "nbformat_minor": 0,
  "metadata": {
    "colab": {
      "name": "2Moringa_Data_Science_Core_W1_Independent_Project_2019_07_Elizabeth_Okello_Python Notebook",
      "version": "0.3.2",
      "provenance": [],
      "collapsed_sections": [],
      "include_colab_link": true
    },
    "kernelspec": {
      "name": "python3",
      "display_name": "Python 3"
    }
  },
  "cells": [
    {
      "cell_type": "markdown",
      "metadata": {
        "id": "view-in-github",
        "colab_type": "text"
      },
      "source": [
        "<a href=\"https://colab.research.google.com/github/EOKELLO/IP-WEEK1-CORE/blob/master/2Moringa_Data_Science_Core_W1_Independent_Project_2019_07_Elizabeth_Okello_Python_Notebook.ipynb\" target=\"_parent\"><img src=\"https://colab.research.google.com/assets/colab-badge.svg\" alt=\"Open In Colab\"/></a>"
      ]
    },
    {
      "cell_type": "code",
      "metadata": {
        "id": "BRU2vCZajm3c",
        "colab_type": "code",
        "colab": {}
      },
      "source": [
        "#import important libraries\n",
        "import pandas as pd\n",
        "import numpy as np\n",
        "import seaborn as sns\n",
        "import matplotlib.pyplot as plt\n",
        "import sklearn\n",
        "from sklearn.model_selection import train_test_split\n",
        "from sklearn.preprocessing import StandardScaler\n",
        "from sklearn.decomposition import PCA\n",
        "from scipy import stats\n",
        "from sklearn.linear_model import LogisticRegression\n",
        "from sklearn.ensemble import RandomForestClassifier\n",
        "from sklearn.tree import DecisionTreeClassifier, export_graphviz\n",
        "from sklearn import metrics"
      ],
      "execution_count": 0,
      "outputs": []
    },
    {
      "cell_type": "code",
      "metadata": {
        "id": "Q5Dcx1M4j1Ve",
        "colab_type": "code",
        "colab": {}
      },
      "source": [
        "#we state our hypothesis\n",
        "\n",
        "#which individuals are likely to use or have a bank account."
      ],
      "execution_count": 0,
      "outputs": []
    },
    {
      "cell_type": "code",
      "metadata": {
        "id": "66ydDVSMj9Xj",
        "colab_type": "code",
        "outputId": "b66755ae-37e5-45e3-8fef-8ef77dce0375",
        "colab": {
          "base_uri": "https://localhost:8080/",
          "height": 377
        }
      },
      "source": [
        "#we now load our dataset\n",
        "df = pd.read_csv('Financial Dataset.csv')\n",
        "df.head()"
      ],
      "execution_count": 3,
      "outputs": [
        {
          "output_type": "execute_result",
          "data": {
            "text/html": [
              "<div>\n",
              "<style scoped>\n",
              "    .dataframe tbody tr th:only-of-type {\n",
              "        vertical-align: middle;\n",
              "    }\n",
              "\n",
              "    .dataframe tbody tr th {\n",
              "        vertical-align: top;\n",
              "    }\n",
              "\n",
              "    .dataframe thead th {\n",
              "        text-align: right;\n",
              "    }\n",
              "</style>\n",
              "<table border=\"1\" class=\"dataframe\">\n",
              "  <thead>\n",
              "    <tr style=\"text-align: right;\">\n",
              "      <th></th>\n",
              "      <th>country</th>\n",
              "      <th>year</th>\n",
              "      <th>uniqueid</th>\n",
              "      <th>Has a Bank account</th>\n",
              "      <th>Type of Location</th>\n",
              "      <th>Cell Phone Access</th>\n",
              "      <th>household_size</th>\n",
              "      <th>Respondent Age</th>\n",
              "      <th>gender_of_respondent</th>\n",
              "      <th>The relathip with head</th>\n",
              "      <th>marital_status</th>\n",
              "      <th>Level of Educuation</th>\n",
              "      <th>Type of Job</th>\n",
              "    </tr>\n",
              "  </thead>\n",
              "  <tbody>\n",
              "    <tr>\n",
              "      <th>0</th>\n",
              "      <td>Kenya</td>\n",
              "      <td>2018</td>\n",
              "      <td>uniqueid_1</td>\n",
              "      <td>Yes</td>\n",
              "      <td>Rural</td>\n",
              "      <td>Yes</td>\n",
              "      <td>3.0</td>\n",
              "      <td>24.0</td>\n",
              "      <td>Female</td>\n",
              "      <td>Spouse</td>\n",
              "      <td>Married/Living together</td>\n",
              "      <td>Secondary education</td>\n",
              "      <td>Self employed</td>\n",
              "    </tr>\n",
              "    <tr>\n",
              "      <th>1</th>\n",
              "      <td>Kenya</td>\n",
              "      <td>2018</td>\n",
              "      <td>uniqueid_2</td>\n",
              "      <td>No</td>\n",
              "      <td>Rural</td>\n",
              "      <td>No</td>\n",
              "      <td>5.0</td>\n",
              "      <td>70.0</td>\n",
              "      <td>Female</td>\n",
              "      <td>Head of Household</td>\n",
              "      <td>Widowed</td>\n",
              "      <td>No formal education</td>\n",
              "      <td>Government Dependent</td>\n",
              "    </tr>\n",
              "    <tr>\n",
              "      <th>2</th>\n",
              "      <td>Kenya</td>\n",
              "      <td>2018</td>\n",
              "      <td>uniqueid_3</td>\n",
              "      <td>Yes</td>\n",
              "      <td>Urban</td>\n",
              "      <td>Yes</td>\n",
              "      <td>5.0</td>\n",
              "      <td>26.0</td>\n",
              "      <td>Male</td>\n",
              "      <td>Other relative</td>\n",
              "      <td>Single/Never Married</td>\n",
              "      <td>Vocational/Specialised training</td>\n",
              "      <td>Self employed</td>\n",
              "    </tr>\n",
              "    <tr>\n",
              "      <th>3</th>\n",
              "      <td>Kenya</td>\n",
              "      <td>2018</td>\n",
              "      <td>uniqueid_4</td>\n",
              "      <td>No</td>\n",
              "      <td>Rural</td>\n",
              "      <td>Yes</td>\n",
              "      <td>5.0</td>\n",
              "      <td>34.0</td>\n",
              "      <td>Female</td>\n",
              "      <td>Head of Household</td>\n",
              "      <td>Married/Living together</td>\n",
              "      <td>Primary education</td>\n",
              "      <td>Formally employed Private</td>\n",
              "    </tr>\n",
              "    <tr>\n",
              "      <th>4</th>\n",
              "      <td>Kenya</td>\n",
              "      <td>2018</td>\n",
              "      <td>uniqueid_5</td>\n",
              "      <td>No</td>\n",
              "      <td>Urban</td>\n",
              "      <td>No</td>\n",
              "      <td>8.0</td>\n",
              "      <td>26.0</td>\n",
              "      <td>Male</td>\n",
              "      <td>Child</td>\n",
              "      <td>Single/Never Married</td>\n",
              "      <td>Primary education</td>\n",
              "      <td>Informally employed</td>\n",
              "    </tr>\n",
              "  </tbody>\n",
              "</table>\n",
              "</div>"
            ],
            "text/plain": [
              "  country  year  ...              Level of Educuation                Type of Job\n",
              "0   Kenya  2018  ...              Secondary education              Self employed\n",
              "1   Kenya  2018  ...              No formal education       Government Dependent\n",
              "2   Kenya  2018  ...  Vocational/Specialised training              Self employed\n",
              "3   Kenya  2018  ...                Primary education  Formally employed Private\n",
              "4   Kenya  2018  ...                Primary education        Informally employed\n",
              "\n",
              "[5 rows x 13 columns]"
            ]
          },
          "metadata": {
            "tags": []
          },
          "execution_count": 3
        }
      ]
    },
    {
      "cell_type": "code",
      "metadata": {
        "id": "1HdFcOlhkI3Y",
        "colab_type": "code",
        "colab": {}
      },
      "source": [
        "#we now remane out dataset columns to make the column name uniform with the informaton captured in the data description\n",
        "df = df.rename(columns={'The relathip with head':'relationship_with_head',\n",
        "                         'Type of Location':'location_type',\n",
        "                         'Cell Phone Access':'cellphone_access',\n",
        "                         'Respondent Age':'age_of_respondent',\n",
        "                         'Level of Educuation':'education_level',\n",
        "                         'Type of Job':'job_type'})\n"
      ],
      "execution_count": 0,
      "outputs": []
    },
    {
      "cell_type": "code",
      "metadata": {
        "id": "Yo3Bgf8vrbkD",
        "colab_type": "code",
        "outputId": "7c7e36c7-fe2b-4ac7-dc42-eaa03e2b5831",
        "colab": {
          "base_uri": "https://localhost:8080/",
          "height": 360
        }
      },
      "source": [
        "df.head()"
      ],
      "execution_count": 5,
      "outputs": [
        {
          "output_type": "execute_result",
          "data": {
            "text/html": [
              "<div>\n",
              "<style scoped>\n",
              "    .dataframe tbody tr th:only-of-type {\n",
              "        vertical-align: middle;\n",
              "    }\n",
              "\n",
              "    .dataframe tbody tr th {\n",
              "        vertical-align: top;\n",
              "    }\n",
              "\n",
              "    .dataframe thead th {\n",
              "        text-align: right;\n",
              "    }\n",
              "</style>\n",
              "<table border=\"1\" class=\"dataframe\">\n",
              "  <thead>\n",
              "    <tr style=\"text-align: right;\">\n",
              "      <th></th>\n",
              "      <th>country</th>\n",
              "      <th>year</th>\n",
              "      <th>uniqueid</th>\n",
              "      <th>Has a Bank account</th>\n",
              "      <th>location_type</th>\n",
              "      <th>cellphone_access</th>\n",
              "      <th>household_size</th>\n",
              "      <th>age_of_respondent</th>\n",
              "      <th>gender_of_respondent</th>\n",
              "      <th>relationship_with_head</th>\n",
              "      <th>marital_status</th>\n",
              "      <th>education_level</th>\n",
              "      <th>job_type</th>\n",
              "    </tr>\n",
              "  </thead>\n",
              "  <tbody>\n",
              "    <tr>\n",
              "      <th>0</th>\n",
              "      <td>Kenya</td>\n",
              "      <td>2018</td>\n",
              "      <td>uniqueid_1</td>\n",
              "      <td>Yes</td>\n",
              "      <td>Rural</td>\n",
              "      <td>Yes</td>\n",
              "      <td>3.0</td>\n",
              "      <td>24.0</td>\n",
              "      <td>Female</td>\n",
              "      <td>Spouse</td>\n",
              "      <td>Married/Living together</td>\n",
              "      <td>Secondary education</td>\n",
              "      <td>Self employed</td>\n",
              "    </tr>\n",
              "    <tr>\n",
              "      <th>1</th>\n",
              "      <td>Kenya</td>\n",
              "      <td>2018</td>\n",
              "      <td>uniqueid_2</td>\n",
              "      <td>No</td>\n",
              "      <td>Rural</td>\n",
              "      <td>No</td>\n",
              "      <td>5.0</td>\n",
              "      <td>70.0</td>\n",
              "      <td>Female</td>\n",
              "      <td>Head of Household</td>\n",
              "      <td>Widowed</td>\n",
              "      <td>No formal education</td>\n",
              "      <td>Government Dependent</td>\n",
              "    </tr>\n",
              "    <tr>\n",
              "      <th>2</th>\n",
              "      <td>Kenya</td>\n",
              "      <td>2018</td>\n",
              "      <td>uniqueid_3</td>\n",
              "      <td>Yes</td>\n",
              "      <td>Urban</td>\n",
              "      <td>Yes</td>\n",
              "      <td>5.0</td>\n",
              "      <td>26.0</td>\n",
              "      <td>Male</td>\n",
              "      <td>Other relative</td>\n",
              "      <td>Single/Never Married</td>\n",
              "      <td>Vocational/Specialised training</td>\n",
              "      <td>Self employed</td>\n",
              "    </tr>\n",
              "    <tr>\n",
              "      <th>3</th>\n",
              "      <td>Kenya</td>\n",
              "      <td>2018</td>\n",
              "      <td>uniqueid_4</td>\n",
              "      <td>No</td>\n",
              "      <td>Rural</td>\n",
              "      <td>Yes</td>\n",
              "      <td>5.0</td>\n",
              "      <td>34.0</td>\n",
              "      <td>Female</td>\n",
              "      <td>Head of Household</td>\n",
              "      <td>Married/Living together</td>\n",
              "      <td>Primary education</td>\n",
              "      <td>Formally employed Private</td>\n",
              "    </tr>\n",
              "    <tr>\n",
              "      <th>4</th>\n",
              "      <td>Kenya</td>\n",
              "      <td>2018</td>\n",
              "      <td>uniqueid_5</td>\n",
              "      <td>No</td>\n",
              "      <td>Urban</td>\n",
              "      <td>No</td>\n",
              "      <td>8.0</td>\n",
              "      <td>26.0</td>\n",
              "      <td>Male</td>\n",
              "      <td>Child</td>\n",
              "      <td>Single/Never Married</td>\n",
              "      <td>Primary education</td>\n",
              "      <td>Informally employed</td>\n",
              "    </tr>\n",
              "  </tbody>\n",
              "</table>\n",
              "</div>"
            ],
            "text/plain": [
              "  country  year  ...                  education_level                   job_type\n",
              "0   Kenya  2018  ...              Secondary education              Self employed\n",
              "1   Kenya  2018  ...              No formal education       Government Dependent\n",
              "2   Kenya  2018  ...  Vocational/Specialised training              Self employed\n",
              "3   Kenya  2018  ...                Primary education  Formally employed Private\n",
              "4   Kenya  2018  ...                Primary education        Informally employed\n",
              "\n",
              "[5 rows x 13 columns]"
            ]
          },
          "metadata": {
            "tags": []
          },
          "execution_count": 5
        }
      ]
    },
    {
      "cell_type": "code",
      "metadata": {
        "id": "JXoOl7ntikyK",
        "colab_type": "code",
        "outputId": "5825d587-c560-4b40-a14c-cf13a0068631",
        "colab": {
          "base_uri": "https://localhost:8080/",
          "height": 286
        }
      },
      "source": [
        "df['age_of_respondent'].hist()"
      ],
      "execution_count": 6,
      "outputs": [
        {
          "output_type": "execute_result",
          "data": {
            "text/plain": [
              "<matplotlib.axes._subplots.AxesSubplot at 0x7fa92ea067f0>"
            ]
          },
          "metadata": {
            "tags": []
          },
          "execution_count": 6
        },
        {
          "output_type": "display_data",
          "data": {
            "image/png": "[encoded data removed]",
            "text/plain": [
              "<Figure size 432x288 with 1 Axes>"
            ]
          },
          "metadata": {
            "tags": []
          }
        }
      ]
    },
    {
      "cell_type": "code",
      "metadata": {
        "id": "mRMmPyO-uqJ7",
        "colab_type": "code",
        "outputId": "6493d6db-23b4-4b05-9418-9afbc666b045",
        "colab": {
          "base_uri": "https://localhost:8080/",
          "height": 102
        }
      },
      "source": [
        "df.columns"
      ],
      "execution_count": 7,
      "outputs": [
        {
          "output_type": "execute_result",
          "data": {
            "text/plain": [
              "Index(['country', 'year', 'uniqueid', 'Has a Bank account', 'location_type',\n",
              "       'cellphone_access', 'household_size', 'age_of_respondent',\n",
              "       'gender_of_respondent', 'relationship_with_head', 'marital_status',\n",
              "       'education_level', 'job_type'],\n",
              "      dtype='object')"
            ]
          },
          "metadata": {
            "tags": []
          },
          "execution_count": 7
        }
      ]
    },
    {
      "cell_type": "code",
      "metadata": {
        "id": "D-0VAKa0rpHK",
        "colab_type": "code",
        "outputId": "74b7cf40-0685-4c2f-845d-7adec5281ad2",
        "colab": {
          "base_uri": "https://localhost:8080/",
          "height": 34
        }
      },
      "source": [
        "#we want to understand our dataset by checking the number of records,missing values and data types\n",
        "df.shape"
      ],
      "execution_count": 8,
      "outputs": [
        {
          "output_type": "execute_result",
          "data": {
            "text/plain": [
              "(23524, 13)"
            ]
          },
          "metadata": {
            "tags": []
          },
          "execution_count": 8
        }
      ]
    },
    {
      "cell_type": "code",
      "metadata": {
        "id": "SCgxdVZBr2si",
        "colab_type": "code",
        "outputId": "8060de38-27fd-4f31-8009-826d803a3db9",
        "colab": {
          "base_uri": "https://localhost:8080/",
          "height": 255
        }
      },
      "source": [
        "df.dtypes"
      ],
      "execution_count": 9,
      "outputs": [
        {
          "output_type": "execute_result",
          "data": {
            "text/plain": [
              "country                    object\n",
              "year                        int64\n",
              "uniqueid                   object\n",
              "Has a Bank account         object\n",
              "location_type              object\n",
              "cellphone_access           object\n",
              "household_size            float64\n",
              "age_of_respondent         float64\n",
              "gender_of_respondent       object\n",
              "relationship_with_head     object\n",
              "marital_status             object\n",
              "education_level            object\n",
              "job_type                   object\n",
              "dtype: object"
            ]
          },
          "metadata": {
            "tags": []
          },
          "execution_count": 9
        }
      ]
    },
    {
      "cell_type": "code",
      "metadata": {
        "id": "ZueNp1B9r64y",
        "colab_type": "code",
        "outputId": "842f4861-b91f-4103-c5db-e5ee0b4a2711",
        "colab": {
          "base_uri": "https://localhost:8080/",
          "height": 255
        }
      },
      "source": [
        "df.isnull().sum()"
      ],
      "execution_count": 10,
      "outputs": [
        {
          "output_type": "execute_result",
          "data": {
            "text/plain": [
              "country                   14\n",
              "year                       0\n",
              "uniqueid                   0\n",
              "Has a Bank account        36\n",
              "location_type             15\n",
              "cellphone_access          11\n",
              "household_size            28\n",
              "age_of_respondent         34\n",
              "gender_of_respondent      34\n",
              "relationship_with_head     4\n",
              "marital_status            32\n",
              "education_level           29\n",
              "job_type                  30\n",
              "dtype: int64"
            ]
          },
          "metadata": {
            "tags": []
          },
          "execution_count": 10
        }
      ]
    },
    {
      "cell_type": "code",
      "metadata": {
        "id": "YqX4a_DisASf",
        "colab_type": "code",
        "outputId": "04c1bb33-d19e-4c67-b449-4853d6330077",
        "colab": {
          "base_uri": "https://localhost:8080/",
          "height": 1000
        }
      },
      "source": [
        "#we the proceed to treat our missing values\n",
        "missing_data=df.isnull()\n",
        "for column in missing_data.columns.values.tolist():\n",
        "    print(column)\n",
        "    print (missing_data[column].value_counts())\n",
        "    print(\"\")    "
      ],
      "execution_count": 11,
      "outputs": [
        {
          "output_type": "stream",
          "text": [
            "country\n",
            "False    23510\n",
            "True        14\n",
            "Name: country, dtype: int64\n",
            "\n",
            "year\n",
            "False    23524\n",
            "Name: year, dtype: int64\n",
            "\n",
            "uniqueid\n",
            "False    23524\n",
            "Name: uniqueid, dtype: int64\n",
            "\n",
            "Has a Bank account\n",
            "False    23488\n",
            "True        36\n",
            "Name: Has a Bank account, dtype: int64\n",
            "\n",
            "location_type\n",
            "False    23509\n",
            "True        15\n",
            "Name: location_type, dtype: int64\n",
            "\n",
            "cellphone_access\n",
            "False    23513\n",
            "True        11\n",
            "Name: cellphone_access, dtype: int64\n",
            "\n",
            "household_size\n",
            "False    23496\n",
            "True        28\n",
            "Name: household_size, dtype: int64\n",
            "\n",
            "age_of_respondent\n",
            "False    23490\n",
            "True        34\n",
            "Name: age_of_respondent, dtype: int64\n",
            "\n",
            "gender_of_respondent\n",
            "False    23490\n",
            "True        34\n",
            "Name: gender_of_respondent, dtype: int64\n",
            "\n",
            "relationship_with_head\n",
            "False    23520\n",
            "True         4\n",
            "Name: relationship_with_head, dtype: int64\n",
            "\n",
            "marital_status\n",
            "False    23492\n",
            "True        32\n",
            "Name: marital_status, dtype: int64\n",
            "\n",
            "education_level\n",
            "False    23495\n",
            "True        29\n",
            "Name: education_level, dtype: int64\n",
            "\n",
            "job_type\n",
            "False    23494\n",
            "True        30\n",
            "Name: job_type, dtype: int64\n",
            "\n"
          ],
          "name": "stdout"
        }
      ]
    },
    {
      "cell_type": "code",
      "metadata": {
        "id": "q3JMDGTuwHUd",
        "colab_type": "code",
        "colab": {}
      },
      "source": [
        "#we now fill in missing values with the respective modes of each attribute\n",
        "categorical_columns = ['country','gender_of_respondent', 'relationship_with_head', 'marital_status','location_type','cellphone_access','education_level','job_type']\n",
        "for column in categorical_columns:\n",
        "  df[column] = df[column].fillna(df[column].mode().iloc[0])"
      ],
      "execution_count": 0,
      "outputs": []
    },
    {
      "cell_type": "code",
      "metadata": {
        "id": "cHOM7EvgzUvj",
        "colab_type": "code",
        "colab": {}
      },
      "source": [
        "#we replace NaN value with the most common house_hold size\n",
        "df['household_size'] = df['household_size'].fillna(df['household_size'].mode().iloc[0])"
      ],
      "execution_count": 0,
      "outputs": []
    },
    {
      "cell_type": "code",
      "metadata": {
        "id": "vCQ7Q_x-0lqS",
        "colab_type": "code",
        "colab": {}
      },
      "source": [
        "#find the mode in the column age_of_respondent and use it to replace the nan values.\n",
        "df['age_of_respondent'] = df['age_of_respondent'].fillna(df['age_of_respondent'].mode().iloc[0])"
      ],
      "execution_count": 0,
      "outputs": []
    },
    {
      "cell_type": "code",
      "metadata": {
        "id": "b9Hnxf18zpKU",
        "colab_type": "code",
        "colab": {}
      },
      "source": [
        "#there is an anomaly in the education level\n",
        "df['education_level'].unique()\n",
        "df['education_level']=df['education_level']"
      ],
      "execution_count": 0,
      "outputs": []
    },
    {
      "cell_type": "code",
      "metadata": {
        "id": "vVjwywbF2xTV",
        "colab_type": "code",
        "outputId": "59993a32-1619-4503-d436-e89c9df47afd",
        "colab": {
          "base_uri": "https://localhost:8080/",
          "height": 255
        }
      },
      "source": [
        "#check whether we successfully treated the missing values\n",
        "df.isnull().sum()"
      ],
      "execution_count": 16,
      "outputs": [
        {
          "output_type": "execute_result",
          "data": {
            "text/plain": [
              "country                    0\n",
              "year                       0\n",
              "uniqueid                   0\n",
              "Has a Bank account        36\n",
              "location_type              0\n",
              "cellphone_access           0\n",
              "household_size             0\n",
              "age_of_respondent          0\n",
              "gender_of_respondent       0\n",
              "relationship_with_head     0\n",
              "marital_status             0\n",
              "education_level            0\n",
              "job_type                   0\n",
              "dtype: int64"
            ]
          },
          "metadata": {
            "tags": []
          },
          "execution_count": 16
        }
      ]
    },
    {
      "cell_type": "code",
      "metadata": {
        "id": "6roCLcsmTtuN",
        "colab_type": "code",
        "outputId": "e39265ec-4fba-4d6d-9370-2fa1897d7852",
        "colab": {
          "base_uri": "https://localhost:8080/",
          "height": 255
        }
      },
      "source": [
        "#we check whether our variable data types are as expected\n",
        "df.dtypes"
      ],
      "execution_count": 17,
      "outputs": [
        {
          "output_type": "execute_result",
          "data": {
            "text/plain": [
              "country                    object\n",
              "year                        int64\n",
              "uniqueid                   object\n",
              "Has a Bank account         object\n",
              "location_type              object\n",
              "cellphone_access           object\n",
              "household_size            float64\n",
              "age_of_respondent         float64\n",
              "gender_of_respondent       object\n",
              "relationship_with_head     object\n",
              "marital_status             object\n",
              "education_level            object\n",
              "job_type                   object\n",
              "dtype: object"
            ]
          },
          "metadata": {
            "tags": []
          },
          "execution_count": 17
        }
      ]
    },
    {
      "cell_type": "code",
      "metadata": {
        "id": "d6VaqoPlUGXl",
        "colab_type": "code",
        "colab": {}
      },
      "source": [
        "#all our ariable data types are fine except for house hold size so to correct this we do the conversion\n",
        "df['household_size']=df['household_size'].astype(\"float\")"
      ],
      "execution_count": 0,
      "outputs": []
    },
    {
      "cell_type": "code",
      "metadata": {
        "id": "OHBIdv-MUtdT",
        "colab_type": "code",
        "outputId": "fa5c5e0c-8ff0-404b-a161-2599bfecc806",
        "colab": {
          "base_uri": "https://localhost:8080/",
          "height": 255
        }
      },
      "source": [
        "#we check if this is converted\n",
        "df.dtypes"
      ],
      "execution_count": 19,
      "outputs": [
        {
          "output_type": "execute_result",
          "data": {
            "text/plain": [
              "country                    object\n",
              "year                        int64\n",
              "uniqueid                   object\n",
              "Has a Bank account         object\n",
              "location_type              object\n",
              "cellphone_access           object\n",
              "household_size            float64\n",
              "age_of_respondent         float64\n",
              "gender_of_respondent       object\n",
              "relationship_with_head     object\n",
              "marital_status             object\n",
              "education_level            object\n",
              "job_type                   object\n",
              "dtype: object"
            ]
          },
          "metadata": {
            "tags": []
          },
          "execution_count": 19
        }
      ]
    },
    {
      "cell_type": "code",
      "metadata": {
        "id": "MHJoBWn7U1Pz",
        "colab_type": "code",
        "colab": {}
      },
      "source": [
        "#we now have all missing values treated, variable data types in the correct format"
      ],
      "execution_count": 0,
      "outputs": []
    },
    {
      "cell_type": "code",
      "metadata": {
        "id": "NcNN8RDBcnQj",
        "colab_type": "code",
        "colab": {}
      },
      "source": [
        "#we delete the columns we may not need like the uniqueid\n",
        "df=df.drop('uniqueid', axis=1)\n"
      ],
      "execution_count": 0,
      "outputs": []
    },
    {
      "cell_type": "code",
      "metadata": {
        "id": "ipoNKgTgcnMy",
        "colab_type": "code",
        "outputId": "4ad6ceb1-af39-4403-b364-ac3063caaea1",
        "colab": {
          "base_uri": "https://localhost:8080/",
          "height": 199
        }
      },
      "source": [
        "df.head(2)"
      ],
      "execution_count": 22,
      "outputs": [
        {
          "output_type": "execute_result",
          "data": {
            "text/html": [
              "<div>\n",
              "<style scoped>\n",
              "    .dataframe tbody tr th:only-of-type {\n",
              "        vertical-align: middle;\n",
              "    }\n",
              "\n",
              "    .dataframe tbody tr th {\n",
              "        vertical-align: top;\n",
              "    }\n",
              "\n",
              "    .dataframe thead th {\n",
              "        text-align: right;\n",
              "    }\n",
              "</style>\n",
              "<table border=\"1\" class=\"dataframe\">\n",
              "  <thead>\n",
              "    <tr style=\"text-align: right;\">\n",
              "      <th></th>\n",
              "      <th>country</th>\n",
              "      <th>year</th>\n",
              "      <th>Has a Bank account</th>\n",
              "      <th>location_type</th>\n",
              "      <th>cellphone_access</th>\n",
              "      <th>household_size</th>\n",
              "      <th>age_of_respondent</th>\n",
              "      <th>gender_of_respondent</th>\n",
              "      <th>relationship_with_head</th>\n",
              "      <th>marital_status</th>\n",
              "      <th>education_level</th>\n",
              "      <th>job_type</th>\n",
              "    </tr>\n",
              "  </thead>\n",
              "  <tbody>\n",
              "    <tr>\n",
              "      <th>0</th>\n",
              "      <td>Kenya</td>\n",
              "      <td>2018</td>\n",
              "      <td>Yes</td>\n",
              "      <td>Rural</td>\n",
              "      <td>Yes</td>\n",
              "      <td>3.0</td>\n",
              "      <td>24.0</td>\n",
              "      <td>Female</td>\n",
              "      <td>Spouse</td>\n",
              "      <td>Married/Living together</td>\n",
              "      <td>Secondary education</td>\n",
              "      <td>Self employed</td>\n",
              "    </tr>\n",
              "    <tr>\n",
              "      <th>1</th>\n",
              "      <td>Kenya</td>\n",
              "      <td>2018</td>\n",
              "      <td>No</td>\n",
              "      <td>Rural</td>\n",
              "      <td>No</td>\n",
              "      <td>5.0</td>\n",
              "      <td>70.0</td>\n",
              "      <td>Female</td>\n",
              "      <td>Head of Household</td>\n",
              "      <td>Widowed</td>\n",
              "      <td>No formal education</td>\n",
              "      <td>Government Dependent</td>\n",
              "    </tr>\n",
              "  </tbody>\n",
              "</table>\n",
              "</div>"
            ],
            "text/plain": [
              "  country  year  ...      education_level              job_type\n",
              "0   Kenya  2018  ...  Secondary education         Self employed\n",
              "1   Kenya  2018  ...  No formal education  Government Dependent\n",
              "\n",
              "[2 rows x 12 columns]"
            ]
          },
          "metadata": {
            "tags": []
          },
          "execution_count": 22
        }
      ]
    },
    {
      "cell_type": "code",
      "metadata": {
        "id": "Yt8gjZzasBwo",
        "colab_type": "code",
        "colab": {}
      },
      "source": [
        ""
      ],
      "execution_count": 0,
      "outputs": []
    },
    {
      "cell_type": "markdown",
      "metadata": {
        "id": "eTcI8fbesErA",
        "colab_type": "text"
      },
      "source": [
        "**UNIVARIATE** **ANALYSIS**"
      ]
    },
    {
      "cell_type": "code",
      "metadata": {
        "id": "fRK0ZR--yRTR",
        "colab_type": "code",
        "colab": {}
      },
      "source": [
        "#majorly highlghts the distribution of data variables. "
      ],
      "execution_count": 0,
      "outputs": []
    },
    {
      "cell_type": "code",
      "metadata": {
        "id": "NSQwCf0vYNDC",
        "colab_type": "code",
        "colab": {}
      },
      "source": [
        "#we drop the columns we may not need for making our prediction\n",
        "df=df.drop(['year','country'], axis=1)"
      ],
      "execution_count": 0,
      "outputs": []
    },
    {
      "cell_type": "code",
      "metadata": {
        "id": "Khn22V_IdxzF",
        "colab_type": "code",
        "outputId": "d747f318-6339-4a08-d458-32f23674b1e3",
        "colab": {
          "base_uri": "https://localhost:8080/",
          "height": 151
        }
      },
      "source": [
        "df.head(1)"
      ],
      "execution_count": 25,
      "outputs": [
        {
          "output_type": "execute_result",
          "data": {
            "text/html": [
              "<div>\n",
              "<style scoped>\n",
              "    .dataframe tbody tr th:only-of-type {\n",
              "        vertical-align: middle;\n",
              "    }\n",
              "\n",
              "    .dataframe tbody tr th {\n",
              "        vertical-align: top;\n",
              "    }\n",
              "\n",
              "    .dataframe thead th {\n",
              "        text-align: right;\n",
              "    }\n",
              "</style>\n",
              "<table border=\"1\" class=\"dataframe\">\n",
              "  <thead>\n",
              "    <tr style=\"text-align: right;\">\n",
              "      <th></th>\n",
              "      <th>Has a Bank account</th>\n",
              "      <th>location_type</th>\n",
              "      <th>cellphone_access</th>\n",
              "      <th>household_size</th>\n",
              "      <th>age_of_respondent</th>\n",
              "      <th>gender_of_respondent</th>\n",
              "      <th>relationship_with_head</th>\n",
              "      <th>marital_status</th>\n",
              "      <th>education_level</th>\n",
              "      <th>job_type</th>\n",
              "    </tr>\n",
              "  </thead>\n",
              "  <tbody>\n",
              "    <tr>\n",
              "      <th>0</th>\n",
              "      <td>Yes</td>\n",
              "      <td>Rural</td>\n",
              "      <td>Yes</td>\n",
              "      <td>3.0</td>\n",
              "      <td>24.0</td>\n",
              "      <td>Female</td>\n",
              "      <td>Spouse</td>\n",
              "      <td>Married/Living together</td>\n",
              "      <td>Secondary education</td>\n",
              "      <td>Self employed</td>\n",
              "    </tr>\n",
              "  </tbody>\n",
              "</table>\n",
              "</div>"
            ],
            "text/plain": [
              "  Has a Bank account location_type  ...      education_level       job_type\n",
              "0                Yes         Rural  ...  Secondary education  Self employed\n",
              "\n",
              "[1 rows x 10 columns]"
            ]
          },
          "metadata": {
            "tags": []
          },
          "execution_count": 25
        }
      ]
    },
    {
      "cell_type": "code",
      "metadata": {
        "id": "uGVGRFsS5Dps",
        "colab_type": "code",
        "colab": {}
      },
      "source": [
        ""
      ],
      "execution_count": 0,
      "outputs": []
    },
    {
      "cell_type": "markdown",
      "metadata": {
        "id": "xG3ikGwl5E1t",
        "colab_type": "text"
      },
      "source": [
        "**Univariate** **Analysis**"
      ]
    },
    {
      "cell_type": "code",
      "metadata": {
        "id": "1-iL1_Yk5RRn",
        "colab_type": "code",
        "colab": {}
      },
      "source": [
        "#in this section we want to check for the distribution of the individual variables across the data set"
      ],
      "execution_count": 0,
      "outputs": []
    },
    {
      "cell_type": "code",
      "metadata": {
        "id": "Bcl_YrC1f6HX",
        "colab_type": "code",
        "outputId": "45aabfe7-d9f9-4bca-f563-4fc0f64e4274",
        "colab": {
          "base_uri": "https://localhost:8080/",
          "height": 170
        }
      },
      "source": [
        "df['household_size'].describe()"
      ],
      "execution_count": 27,
      "outputs": [
        {
          "output_type": "execute_result",
          "data": {
            "text/plain": [
              "count    23524.000000\n",
              "mean         3.679816\n",
              "std          2.279314\n",
              "min          0.000000\n",
              "25%          2.000000\n",
              "50%          3.000000\n",
              "75%          5.000000\n",
              "max         21.000000\n",
              "Name: household_size, dtype: float64"
            ]
          },
          "metadata": {
            "tags": []
          },
          "execution_count": 27
        }
      ]
    },
    {
      "cell_type": "code",
      "metadata": {
        "id": "w0ip3azoS3C7",
        "colab_type": "code",
        "outputId": "aaedefa0-d788-4920-b8a3-4c31b275505f",
        "colab": {
          "base_uri": "https://localhost:8080/",
          "height": 301
        }
      },
      "source": [
        "sns.boxplot(df['household_size'],showmeans=True)"
      ],
      "execution_count": 28,
      "outputs": [
        {
          "output_type": "execute_result",
          "data": {
            "text/plain": [
              "<matplotlib.axes._subplots.AxesSubplot at 0x7fa92e93cf60>"
            ]
          },
          "metadata": {
            "tags": []
          },
          "execution_count": 28
        },
        {
          "output_type": "display_data",
          "data": {
            "image/png": "[encoded data removed]",
            "text/plain": [
              "<Figure size 432x288 with 1 Axes>"
            ]
          },
          "metadata": {
            "tags": []
          }
        }
      ]
    },
    {
      "cell_type": "code",
      "metadata": {
        "id": "bLZDQ-wMWSCd",
        "colab_type": "code",
        "outputId": "1ef22b52-ce67-491f-a954-1a24e6bc6309",
        "colab": {
          "base_uri": "https://localhost:8080/",
          "height": 51
        }
      },
      "source": [
        "#we check for distinct values in the column\n",
        "df['household_size'].unique()"
      ],
      "execution_count": 29,
      "outputs": [
        {
          "output_type": "execute_result",
          "data": {
            "text/plain": [
              "array([ 3.,  5.,  8.,  7.,  1.,  6.,  4., 10.,  2., 11.,  9., 12., 16.,\n",
              "       15., 13., 14., 21.,  0., 18., 17., 20.])"
            ]
          },
          "metadata": {
            "tags": []
          },
          "execution_count": 29
        }
      ]
    },
    {
      "cell_type": "code",
      "metadata": {
        "id": "bcB2ogv4WR3n",
        "colab_type": "code",
        "outputId": "78309347-f752-4f47-ef8b-539a799ca06c",
        "colab": {
          "base_uri": "https://localhost:8080/",
          "height": 296
        }
      },
      "source": [
        "\n",
        "household_size = df['household_size']\n",
        "\n",
        "plt.hist(household_size, bins=5, histtype='bar', rwidth=0.9, color='maroon')\n",
        "plt.xlabel('household_size')\n",
        "plt.ylabel('frequency')\n",
        "plt.title('Histogram of household_size')\n",
        "plt.show()"
      ],
      "execution_count": 72,
      "outputs": [
        {
          "output_type": "display_data",
          "data": {
            "image/png": "[encoded data removed]",
            "text/plain": [
              "<Figure size 432x288 with 1 Axes>"
            ]
          },
          "metadata": {
            "tags": []
          }
        }
      ]
    },
    {
      "cell_type": "code",
      "metadata": {
        "id": "NtDsdeyWgniQ",
        "colab_type": "code",
        "outputId": "a75093f5-a358-4be6-e6b4-e4a40adbbe81",
        "colab": {
          "base_uri": "https://localhost:8080/",
          "height": 170
        }
      },
      "source": [
        "#we check for the distribution of the ages of the respondents\n",
        "df['age_of_respondent'].describe()"
      ],
      "execution_count": 31,
      "outputs": [
        {
          "output_type": "execute_result",
          "data": {
            "text/plain": [
              "count    23524.000000\n",
              "mean        38.791575\n",
              "std         16.511441\n",
              "min         16.000000\n",
              "25%         26.000000\n",
              "50%         35.000000\n",
              "75%         49.000000\n",
              "max        100.000000\n",
              "Name: age_of_respondent, dtype: float64"
            ]
          },
          "metadata": {
            "tags": []
          },
          "execution_count": 31
        }
      ]
    },
    {
      "cell_type": "code",
      "metadata": {
        "id": "bu0ivAfkX_E1",
        "colab_type": "code",
        "outputId": "c0ff684b-71e9-4997-e6bc-144932559b8a",
        "colab": {
          "base_uri": "https://localhost:8080/",
          "height": 301
        }
      },
      "source": [
        "sns.boxplot(df['age_of_respondent'])"
      ],
      "execution_count": 32,
      "outputs": [
        {
          "output_type": "execute_result",
          "data": {
            "text/plain": [
              "<matplotlib.axes._subplots.AxesSubplot at 0x7fa92c044f28>"
            ]
          },
          "metadata": {
            "tags": []
          },
          "execution_count": 32
        },
        {
          "output_type": "display_data",
          "data": {
            "image/png": "[encoded data removed]",
            "text/plain": [
              "<Figure size 432x288 with 1 Axes>"
            ]
          },
          "metadata": {
            "tags": []
          }
        }
      ]
    },
    {
      "cell_type": "code",
      "metadata": {
        "id": "b7JDj7WYUZ0H",
        "colab_type": "code",
        "outputId": "b110b5f3-4fc5-4118-a098-fe08d96ca586",
        "colab": {
          "base_uri": "https://localhost:8080/",
          "height": 153
        }
      },
      "source": [
        "df['age_of_respondent'].unique()"
      ],
      "execution_count": 33,
      "outputs": [
        {
          "output_type": "execute_result",
          "data": {
            "text/plain": [
              "array([ 24.,  70.,  26.,  34.,  32.,  42.,  54.,  76.,  40.,  69.,  64.,\n",
              "        31.,  38.,  47.,  27.,  48.,  25.,  21.,  18.,  22.,  58.,  55.,\n",
              "        62.,  29.,  35.,  45.,  67.,  19.,  80.,  66.,  50.,  33.,  28.,\n",
              "        51.,  16.,  17.,  30.,  37.,  59.,  65.,  46.,  56.,  52.,  23.,\n",
              "        43.,  49.,  44.,  72.,  53.,  63.,  39.,  81.,  78.,  36.,  20.,\n",
              "        60.,  95.,  71.,  57.,  85.,  68.,  41.,  61.,  75.,  86.,  73.,\n",
              "        93.,  74.,  88.,  90.,  77.,  84.,  82.,  89.,  79.,  83.,  94.,\n",
              "        87.,  92.,  91.,  98.,  97.,  96.,  99., 100.])"
            ]
          },
          "metadata": {
            "tags": []
          },
          "execution_count": 33
        }
      ]
    },
    {
      "cell_type": "code",
      "metadata": {
        "id": "d1irJp4gUi5e",
        "colab_type": "code",
        "outputId": "bf889214-586f-45fe-ef3b-be27c84414a2",
        "colab": {
          "base_uri": "https://localhost:8080/",
          "height": 295
        }
      },
      "source": [
        "ages=[ 24.,  70.,  26.,  34.,  32.,  42.,  54.,  76.,  40.,  69.,  64.,\n",
        "        31.,  38.,  47.,  27.,  48.,  25.,  21.,  18.,  22.,  58.,  55.,\n",
        "        62.,  29.,  35.,  45.,  67.,  19.,  80.,  66.,  50.,  33.,  28.,\n",
        "        51.,  16.,  17.,  30.,  37.,  59.,  65.,  46.,  56.,  52.,  23.,\n",
        "        43.,  49.,  44.,  72.,  53.,  63.,  39.,  81.,  78.,  36.,  20.,\n",
        "        60.,  95.,  71.,  57.,  85.,  68.,  41.,  61.,  75.,  86.,  73.,\n",
        "        93.,  74.,  88.,  90.,  77.,  84.,  82.,  89.,  79.,  83.,  94.,\n",
        "        87.,  92.,  91.,  98.,  97.,  96.,  99., 100.]\n",
        "bins=[0,10,20,30,40,50,60,70,80,90,100]\n",
        "plt.hist(ages, bins=10, histtype='bar', rwidth=0.9,color='green')\n",
        "\n",
        "plt.xlabel('x')\n",
        "plt.ylabel('y')\n",
        "plt.title('Histogram of ages') \n",
        "plt.show()"
      ],
      "execution_count": 34,
      "outputs": [
        {
          "output_type": "display_data",
          "data": {
            "image/png": "[encoded data removed]",
            "text/plain": [
              "<Figure size 432x288 with 1 Axes>"
            ]
          },
          "metadata": {
            "tags": []
          }
        }
      ]
    },
    {
      "cell_type": "code",
      "metadata": {
        "id": "INBGDneYhzrh",
        "colab_type": "code",
        "outputId": "4d052967-dd72-4952-ebc9-3bb403f157e4",
        "colab": {
          "base_uri": "https://localhost:8080/",
          "height": 312
        }
      },
      "source": [
        "df['gender_of_respondent'].value_counts().sort_index().head(10).plot.bar()\n"
      ],
      "execution_count": 77,
      "outputs": [
        {
          "output_type": "execute_result",
          "data": {
            "text/plain": [
              "<matplotlib.axes._subplots.AxesSubplot at 0x7fa91e844978>"
            ]
          },
          "metadata": {
            "tags": []
          },
          "execution_count": 77
        },
        {
          "output_type": "display_data",
          "data": {
            "image/png": "[encoded data removed]",
            "text/plain": [
              "<Figure size 432x288 with 1 Axes>"
            ]
          },
          "metadata": {
            "tags": []
          }
        }
      ]
    },
    {
      "cell_type": "code",
      "metadata": {
        "id": "UYvaHssmiV-G",
        "colab_type": "code",
        "outputId": "34254ec1-b3fc-446e-e348-22f78bcb565b",
        "colab": {
          "base_uri": "https://localhost:8080/",
          "height": 306
        }
      },
      "source": [
        "df['location_type'].value_counts().plot.bar()"
      ],
      "execution_count": 36,
      "outputs": [
        {
          "output_type": "execute_result",
          "data": {
            "text/plain": [
              "<matplotlib.axes._subplots.AxesSubplot at 0x7fa92c0327f0>"
            ]
          },
          "metadata": {
            "tags": []
          },
          "execution_count": 36
        },
        {
          "output_type": "display_data",
          "data": {
            "image/png": "[encoded data removed]",
            "text/plain": [
              "<Figure size 432x288 with 1 Axes>"
            ]
          },
          "metadata": {
            "tags": []
          }
        }
      ]
    },
    {
      "cell_type": "code",
      "metadata": {
        "id": "BXORzpejm3zz",
        "colab_type": "code",
        "colab": {
          "base_uri": "https://localhost:8080/",
          "height": 129
        },
        "outputId": "4dd8da44-39d4-4afe-cac9-c6e3ccac9525"
      },
      "source": [
        "rural_dist = df[df.location_type=='Rural']\n",
        "rural_colors = ['red' if location_type== Rural else 'blue'if location_type in rural_dist.]"
      ],
      "execution_count": 79,
      "outputs": [
        {
          "output_type": "error",
          "ename": "SyntaxError",
          "evalue": "ignored",
          "traceback": [
            "\u001b[0;36m  File \u001b[0;32m\"<ipython-input-79-7c4ce59e7a19>\"\u001b[0;36m, line \u001b[0;32m2\u001b[0m\n\u001b[0;31m    rural_colors = ['red' if location_type== Rural else 'blue'if location_type in rural_dist.location_type]\u001b[0m\n\u001b[0m                                                                                                          ^\u001b[0m\n\u001b[0;31mSyntaxError\u001b[0m\u001b[0;31m:\u001b[0m invalid syntax\n"
          ]
        }
      ]
    },
    {
      "cell_type": "code",
      "metadata": {
        "id": "D_JhCmkni7xc",
        "colab_type": "code",
        "outputId": "85e283bf-31ea-4a84-d7bd-2cdf4d9b6c57",
        "colab": {
          "base_uri": "https://localhost:8080/",
          "height": 293
        }
      },
      "source": [
        "df['cellphone_access'].value_counts().plot.bar()"
      ],
      "execution_count": 37,
      "outputs": [
        {
          "output_type": "execute_result",
          "data": {
            "text/plain": [
              "<matplotlib.axes._subplots.AxesSubplot at 0x7fa92be58cc0>"
            ]
          },
          "metadata": {
            "tags": []
          },
          "execution_count": 37
        },
        {
          "output_type": "display_data",
          "data": {
            "image/png": "[encoded data removed]",
            "text/plain": [
              "<Figure size 432x288 with 1 Axes>"
            ]
          },
          "metadata": {
            "tags": []
          }
        }
      ]
    },
    {
      "cell_type": "code",
      "metadata": {
        "id": "UV2XVKbVjO1z",
        "colab_type": "code",
        "outputId": "767d832d-a798-4b2c-8caf-aaf092808318",
        "colab": {
          "base_uri": "https://localhost:8080/",
          "height": 393
        }
      },
      "source": [
        "df['marital_status'].value_counts().head(10).plot.bar()"
      ],
      "execution_count": 38,
      "outputs": [
        {
          "output_type": "execute_result",
          "data": {
            "text/plain": [
              "<matplotlib.axes._subplots.AxesSubplot at 0x7fa92be26ac8>"
            ]
          },
          "metadata": {
            "tags": []
          },
          "execution_count": 38
        },
        {
          "output_type": "display_data",
          "data": {
            "image/png": "[encoded data removed]",
            "text/plain": [
              "<Figure size 432x288 with 1 Axes>"
            ]
          },
          "metadata": {
            "tags": []
          }
        }
      ]
    },
    {
      "cell_type": "code",
      "metadata": {
        "id": "gL4VdxERjnVY",
        "colab_type": "code",
        "outputId": "7270a94a-4fda-4dcb-cd26-f47fe2d8a302",
        "colab": {
          "base_uri": "https://localhost:8080/",
          "height": 437
        }
      },
      "source": [
        "df['job_type'].value_counts().head(10).plot.bar()"
      ],
      "execution_count": 39,
      "outputs": [
        {
          "output_type": "execute_result",
          "data": {
            "text/plain": [
              "<matplotlib.axes._subplots.AxesSubplot at 0x7fa92bde6e10>"
            ]
          },
          "metadata": {
            "tags": []
          },
          "execution_count": 39
        },
        {
          "output_type": "display_data",
          "data": {
            "image/png": "[encoded data removed]",
            "text/plain": [
              "<Figure size 432x288 with 1 Axes>"
            ]
          },
          "metadata": {
            "tags": []
          }
        }
      ]
    },
    {
      "cell_type": "code",
      "metadata": {
        "id": "Me2oYWZNjnSP",
        "colab_type": "code",
        "outputId": "b4d616d6-1ce8-468c-d270-5a0fbef44b5c",
        "colab": {
          "base_uri": "https://localhost:8080/",
          "height": 373
        }
      },
      "source": [
        "df['relationship_with_head'].value_counts().head(10).plot.bar()"
      ],
      "execution_count": 40,
      "outputs": [
        {
          "output_type": "execute_result",
          "data": {
            "text/plain": [
              "<matplotlib.axes._subplots.AxesSubplot at 0x7fa92be26c88>"
            ]
          },
          "metadata": {
            "tags": []
          },
          "execution_count": 40
        },
        {
          "output_type": "display_data",
          "data": {
            "image/png": "[encoded data removed]",
            "text/plain": [
              "<Figure size 432x288 with 1 Axes>"
            ]
          },
          "metadata": {
            "tags": []
          }
        }
      ]
    },
    {
      "cell_type": "code",
      "metadata": {
        "id": "Aa7KpGcFjnKD",
        "colab_type": "code",
        "outputId": "fe7dbcf5-05c9-4a1c-8a6e-351384c2ef49",
        "colab": {
          "base_uri": "https://localhost:8080/",
          "height": 431
        }
      },
      "source": [
        "df['education_level'].value_counts().head(10).plot.bar()"
      ],
      "execution_count": 41,
      "outputs": [
        {
          "output_type": "execute_result",
          "data": {
            "text/plain": [
              "<matplotlib.axes._subplots.AxesSubplot at 0x7fa92bcefb00>"
            ]
          },
          "metadata": {
            "tags": []
          },
          "execution_count": 41
        },
        {
          "output_type": "display_data",
          "data": {
            "image/png": "[encoded data removed]",
            "text/plain": [
              "<Figure size 432x288 with 1 Axes>"
            ]
          },
          "metadata": {
            "tags": []
          }
        }
      ]
    },
    {
      "cell_type": "code",
      "metadata": {
        "id": "hJKoxlZPuAbJ",
        "colab_type": "code",
        "outputId": "7614a1aa-e364-4eef-8fa8-da518e15fa2c",
        "colab": {
          "base_uri": "https://localhost:8080/",
          "height": 34
        }
      },
      "source": [
        "df[\"age_of_respondent\"].skew()"
      ],
      "execution_count": 42,
      "outputs": [
        {
          "output_type": "execute_result",
          "data": {
            "text/plain": [
              "0.8439847622246852"
            ]
          },
          "metadata": {
            "tags": []
          },
          "execution_count": 42
        }
      ]
    },
    {
      "cell_type": "code",
      "metadata": {
        "id": "BlYMlyqcuLab",
        "colab_type": "code",
        "outputId": "edb40340-11ef-4ab7-c54f-507a095afce1",
        "colab": {
          "base_uri": "https://localhost:8080/",
          "height": 34
        }
      },
      "source": [
        "df[\"household_size\"].skew()"
      ],
      "execution_count": 43,
      "outputs": [
        {
          "output_type": "execute_result",
          "data": {
            "text/plain": [
              "0.9794417680810276"
            ]
          },
          "metadata": {
            "tags": []
          },
          "execution_count": 43
        }
      ]
    },
    {
      "cell_type": "markdown",
      "metadata": {
        "id": "30CjGGPLryRd",
        "colab_type": "text"
      },
      "source": [
        "BIVARIATE ANALYSIS"
      ]
    },
    {
      "cell_type": "code",
      "metadata": {
        "id": "51bRHb8l5ehE",
        "colab_type": "code",
        "colab": {}
      },
      "source": [
        "#we want to check for the distribution od variables and how they relate to one another . we shall also be establishing\n",
        "#the strength of relationship if there exists"
      ],
      "execution_count": 0,
      "outputs": []
    },
    {
      "cell_type": "code",
      "metadata": {
        "id": "6qVWzkKljnD7",
        "colab_type": "code",
        "outputId": "52412641-a0e4-4ac0-8c5c-1e9d1fedd06e",
        "colab": {
          "base_uri": "https://localhost:8080/",
          "height": 403
        }
      },
      "source": [
        "\n",
        "plt.figure(figsize=(8, 6))\n",
        "\n",
        "sns.pairplot(df, diag_kind='kde')"
      ],
      "execution_count": 45,
      "outputs": [
        {
          "output_type": "execute_result",
          "data": {
            "text/plain": [
              "<seaborn.axisgrid.PairGrid at 0x7fa92bcc0668>"
            ]
          },
          "metadata": {
            "tags": []
          },
          "execution_count": 45
        },
        {
          "output_type": "display_data",
          "data": {
            "text/plain": [
              "<Figure size 576x432 with 0 Axes>"
            ]
          },
          "metadata": {
            "tags": []
          }
        },
        {
          "output_type": "display_data",
          "data": {
            "image/png": "[encoded data removed]",
            "text/plain": [
              "<Figure size 360x360 with 6 Axes>"
            ]
          },
          "metadata": {
            "tags": []
          }
        }
      ]
    },
    {
      "cell_type": "code",
      "metadata": {
        "id": "p89y9JkF7mMo",
        "colab_type": "code",
        "colab": {}
      },
      "source": [
        "#in the above plots we see no relationship between the two variables"
      ],
      "execution_count": 0,
      "outputs": []
    },
    {
      "cell_type": "code",
      "metadata": {
        "id": "OE_TctRFjnAp",
        "colab_type": "code",
        "outputId": "e968e23a-1437-4ecb-b197-8169899ea81f",
        "colab": {
          "base_uri": "https://localhost:8080/",
          "height": 306
        }
      },
      "source": [
        "sns.heatmap(df.corr())\n",
        "#the black shades confirm that there is completely no relationship between the two variables"
      ],
      "execution_count": 47,
      "outputs": [
        {
          "output_type": "execute_result",
          "data": {
            "text/plain": [
              "<matplotlib.axes._subplots.AxesSubplot at 0x7fa92b8d0240>"
            ]
          },
          "metadata": {
            "tags": []
          },
          "execution_count": 47
        },
        {
          "output_type": "display_data",
          "data": {
            "image/png": "[encoded data removed]",
            "text/plain": [
              "<Figure size 432x288 with 2 Axes>"
            ]
          },
          "metadata": {
            "tags": []
          }
        }
      ]
    },
    {
      "cell_type": "markdown",
      "metadata": {
        "id": "bRYO1H0DjDJh",
        "colab_type": "text"
      },
      "source": [
        "Distributions of observations within categories"
      ]
    },
    {
      "cell_type": "code",
      "metadata": {
        "id": "QnOpJcyncNYY",
        "colab_type": "code",
        "outputId": "968f5c39-0851-4a60-ad6c-819170ffdc1e",
        "colab": {
          "base_uri": "https://localhost:8080/",
          "height": 420
        }
      },
      "source": [
        "#we can use this to visualize how our observations are distributed within the various categories.\n",
        "#we can say that the ages of the respondents in the category of educ level those with no formal education were more and older compared to the rest\n",
        "\n",
        "sns.boxplot(x='education_level',y='age_of_respondent',data=df,palette='rainbow')\n",
        "plt.xticks(rotation = 45)\n",
        "plt.title('education level vs age of respondent')\n"
      ],
      "execution_count": 48,
      "outputs": [
        {
          "output_type": "execute_result",
          "data": {
            "text/plain": [
              "Text(0.5, 1.0, 'education level vs age of respondent')"
            ]
          },
          "metadata": {
            "tags": []
          },
          "execution_count": 48
        },
        {
          "output_type": "display_data",
          "data": {
            "image/png": "[encoded data removed]",
            "text/plain": [
              "<Figure size 432x288 with 1 Axes>"
            ]
          },
          "metadata": {
            "tags": []
          }
        }
      ]
    },
    {
      "cell_type": "code",
      "metadata": {
        "id": "VIDfB-JSjm4_",
        "colab_type": "code",
        "outputId": "06899467-7298-424d-af6c-d1275fcc96a2",
        "colab": {
          "base_uri": "https://localhost:8080/",
          "height": 424
        }
      },
      "source": [
        "sns.boxplot(x='job_type',y='age_of_respondent',data=df,palette='coolwarm')\n",
        "plt.xticks(rotation = 45)\n",
        "plt.title('job_type vs age of respondent')"
      ],
      "execution_count": 49,
      "outputs": [
        {
          "output_type": "execute_result",
          "data": {
            "text/plain": [
              "Text(0.5, 1.0, 'job_type vs age of respondent')"
            ]
          },
          "metadata": {
            "tags": []
          },
          "execution_count": 49
        },
        {
          "output_type": "display_data",
          "data": {
            "image/png": "[encoded data removed]",
            "text/plain": [
              "<Figure size 432x288 with 1 Axes>"
            ]
          },
          "metadata": {
            "tags": []
          }
        }
      ]
    },
    {
      "cell_type": "code",
      "metadata": {
        "id": "68xOPAJkf8ts",
        "colab_type": "code",
        "outputId": "d8ed78a8-dec4-4fdc-efa1-70b30ff169d0",
        "colab": {
          "base_uri": "https://localhost:8080/",
          "height": 336
        }
      },
      "source": [
        "sns.boxplot(x='gender_of_respondent',y='age_of_respondent',data=df,palette='rainbow')\n",
        "plt.xticks(rotation = 45)\n",
        "plt.title('gender_of_respondent vs age of respondent')\n"
      ],
      "execution_count": 50,
      "outputs": [
        {
          "output_type": "execute_result",
          "data": {
            "text/plain": [
              "Text(0.5, 1.0, 'gender_of_respondent vs age of respondent')"
            ]
          },
          "metadata": {
            "tags": []
          },
          "execution_count": 50
        },
        {
          "output_type": "display_data",
          "data": {
            "image/png": "[encoded data removed]",
            "text/plain": [
              "<Figure size 432x288 with 1 Axes>"
            ]
          },
          "metadata": {
            "tags": []
          }
        }
      ]
    },
    {
      "cell_type": "code",
      "metadata": {
        "id": "cqoN5UCRgd2R",
        "colab_type": "code",
        "outputId": "8eed4d94-1301-48ed-a664-a37e3f4ca342",
        "colab": {
          "base_uri": "https://localhost:8080/",
          "height": 336
        }
      },
      "source": [
        "sns.boxplot(x='gender_of_respondent',y='household_size',data=df,palette='rainbow')\n",
        "plt.xticks(rotation = 45)\n",
        "plt.title('gender_of_respondent vs household_size')\n"
      ],
      "execution_count": 51,
      "outputs": [
        {
          "output_type": "execute_result",
          "data": {
            "text/plain": [
              "Text(0.5, 1.0, 'gender_of_respondent vs household_size')"
            ]
          },
          "metadata": {
            "tags": []
          },
          "execution_count": 51
        },
        {
          "output_type": "display_data",
          "data": {
            "image/png": "[encoded data removed]",
            "text/plain": [
              "<Figure size 432x288 with 1 Axes>"
            ]
          },
          "metadata": {
            "tags": []
          }
        }
      ]
    },
    {
      "cell_type": "code",
      "metadata": {
        "id": "fFqpkQltg07A",
        "colab_type": "code",
        "outputId": "e32fbefb-caff-4f87-c26a-93de228ff728",
        "colab": {
          "base_uri": "https://localhost:8080/",
          "height": 393
        }
      },
      "source": [
        "sns.boxplot(x='marital_status',y='age_of_respondent',data=df,palette='rainbow')\n",
        "plt.xticks(rotation = 45)\n",
        "plt.title('marital_status vs age of respondent')\n"
      ],
      "execution_count": 52,
      "outputs": [
        {
          "output_type": "execute_result",
          "data": {
            "text/plain": [
              "Text(0.5, 1.0, 'marital_status vs age of respondent')"
            ]
          },
          "metadata": {
            "tags": []
          },
          "execution_count": 52
        },
        {
          "output_type": "display_data",
          "data": {
            "image/png": "[encoded data removed]",
            "text/plain": [
              "<Figure size 432x288 with 1 Axes>"
            ]
          },
          "metadata": {
            "tags": []
          }
        }
      ]
    },
    {
      "cell_type": "code",
      "metadata": {
        "id": "tNRUGKJiiDoQ",
        "colab_type": "code",
        "colab": {}
      },
      "source": [
        ""
      ],
      "execution_count": 0,
      "outputs": []
    },
    {
      "cell_type": "markdown",
      "metadata": {
        "id": "ERSYQzM30kAz",
        "colab_type": "text"
      },
      "source": [
        "MULTIVARIATE ANALYSIS"
      ]
    },
    {
      "cell_type": "code",
      "metadata": {
        "id": "xrmkU06M-Xyx",
        "colab_type": "code",
        "colab": {}
      },
      "source": [
        "#multiple regression\n",
        "from sklearn.linear_model import LinearRegression\n",
        "from sklearn import model_selection\n",
        "from sklearn.metrics import r2_score\n",
        "from sklearn.model_selection import train_test_split\n",
        "import statsmodels.api as sm\n",
        "from sklearn.metrics import accuracy_score"
      ],
      "execution_count": 0,
      "outputs": []
    },
    {
      "cell_type": "code",
      "metadata": {
        "id": "DTO39M8_0KXy",
        "colab_type": "code",
        "colab": {}
      },
      "source": [
        "#From our dataset we to divide dataset \n",
        "# into features and corresponding labels and then divide the resultant dataset into training and test sets.\n",
        "X = df.iloc[:, 2:11]\n",
        "y = df.iloc[:, 1]"
      ],
      "execution_count": 0,
      "outputs": []
    },
    {
      "cell_type": "code",
      "metadata": {
        "id": "F5GftEtt8q7-",
        "colab_type": "code",
        "colab": {}
      },
      "source": [
        "#because the data is categorical we have to make them in aa form that we can run a regression model on it\n",
        "X=pd.get_dummies(X)"
      ],
      "execution_count": 0,
      "outputs": []
    },
    {
      "cell_type": "code",
      "metadata": {
        "id": "5QpbB2wC9MAP",
        "colab_type": "code",
        "colab": {}
      },
      "source": [
        "from sklearn.preprocessing import LabelEncoder\n",
        "label_encoder = LabelEncoder()\n",
        "y = label_encoder.fit_transform(y)"
      ],
      "execution_count": 0,
      "outputs": []
    },
    {
      "cell_type": "code",
      "metadata": {
        "id": "EBkn2Idq-pWb",
        "colab_type": "code",
        "outputId": "c6d2ffb5-d1df-4df0-fbf8-b4555f607aaa",
        "colab": {
          "base_uri": "https://localhost:8080/",
          "height": 258
        }
      },
      "source": [
        "X.head()"
      ],
      "execution_count": 57,
      "outputs": [
        {
          "output_type": "execute_result",
          "data": {
            "text/html": [
              "<div>\n",
              "<style scoped>\n",
              "    .dataframe tbody tr th:only-of-type {\n",
              "        vertical-align: middle;\n",
              "    }\n",
              "\n",
              "    .dataframe tbody tr th {\n",
              "        vertical-align: top;\n",
              "    }\n",
              "\n",
              "    .dataframe thead th {\n",
              "        text-align: right;\n",
              "    }\n",
              "</style>\n",
              "<table border=\"1\" class=\"dataframe\">\n",
              "  <thead>\n",
              "    <tr style=\"text-align: right;\">\n",
              "      <th></th>\n",
              "      <th>household_size</th>\n",
              "      <th>age_of_respondent</th>\n",
              "      <th>cellphone_access_No</th>\n",
              "      <th>cellphone_access_Yes</th>\n",
              "      <th>gender_of_respondent_Female</th>\n",
              "      <th>gender_of_respondent_Male</th>\n",
              "      <th>relationship_with_head_Child</th>\n",
              "      <th>relationship_with_head_Head of Household</th>\n",
              "      <th>relationship_with_head_Other non-relatives</th>\n",
              "      <th>relationship_with_head_Other relative</th>\n",
              "      <th>relationship_with_head_Parent</th>\n",
              "      <th>relationship_with_head_Spouse</th>\n",
              "      <th>marital_status_Divorced/Seperated</th>\n",
              "      <th>marital_status_Dont know</th>\n",
              "      <th>marital_status_Married/Living together</th>\n",
              "      <th>marital_status_Single/Never Married</th>\n",
              "      <th>marital_status_Widowed</th>\n",
              "      <th>education_level_6</th>\n",
              "      <th>education_level_No formal education</th>\n",
              "      <th>education_level_Other/Dont know/RTA</th>\n",
              "      <th>education_level_Primary education</th>\n",
              "      <th>education_level_Secondary education</th>\n",
              "      <th>education_level_Tertiary education</th>\n",
              "      <th>education_level_Vocational/Specialised training</th>\n",
              "      <th>job_type_Dont Know/Refuse to answer</th>\n",
              "      <th>job_type_Farming and Fishing</th>\n",
              "      <th>job_type_Formally employed Government</th>\n",
              "      <th>job_type_Formally employed Private</th>\n",
              "      <th>job_type_Government Dependent</th>\n",
              "      <th>job_type_Informally employed</th>\n",
              "      <th>job_type_No Income</th>\n",
              "      <th>job_type_Other Income</th>\n",
              "      <th>job_type_Remittance Dependent</th>\n",
              "      <th>job_type_Self employed</th>\n",
              "    </tr>\n",
              "  </thead>\n",
              "  <tbody>\n",
              "    <tr>\n",
              "      <th>0</th>\n",
              "      <td>3.0</td>\n",
              "      <td>24.0</td>\n",
              "      <td>0</td>\n",
              "      <td>1</td>\n",
              "      <td>1</td>\n",
              "      <td>0</td>\n",
              "      <td>0</td>\n",
              "      <td>0</td>\n",
              "      <td>0</td>\n",
              "      <td>0</td>\n",
              "      <td>0</td>\n",
              "      <td>1</td>\n",
              "      <td>0</td>\n",
              "      <td>0</td>\n",
              "      <td>1</td>\n",
              "      <td>0</td>\n",
              "      <td>0</td>\n",
              "      <td>0</td>\n",
              "      <td>0</td>\n",
              "      <td>0</td>\n",
              "      <td>0</td>\n",
              "      <td>1</td>\n",
              "      <td>0</td>\n",
              "      <td>0</td>\n",
              "      <td>0</td>\n",
              "      <td>0</td>\n",
              "      <td>0</td>\n",
              "      <td>0</td>\n",
              "      <td>0</td>\n",
              "      <td>0</td>\n",
              "      <td>0</td>\n",
              "      <td>0</td>\n",
              "      <td>0</td>\n",
              "      <td>1</td>\n",
              "    </tr>\n",
              "    <tr>\n",
              "      <th>1</th>\n",
              "      <td>5.0</td>\n",
              "      <td>70.0</td>\n",
              "      <td>1</td>\n",
              "      <td>0</td>\n",
              "      <td>1</td>\n",
              "      <td>0</td>\n",
              "      <td>0</td>\n",
              "      <td>1</td>\n",
              "      <td>0</td>\n",
              "      <td>0</td>\n",
              "      <td>0</td>\n",
              "      <td>0</td>\n",
              "      <td>0</td>\n",
              "      <td>0</td>\n",
              "      <td>0</td>\n",
              "      <td>0</td>\n",
              "      <td>1</td>\n",
              "      <td>0</td>\n",
              "      <td>1</td>\n",
              "      <td>0</td>\n",
              "      <td>0</td>\n",
              "      <td>0</td>\n",
              "      <td>0</td>\n",
              "      <td>0</td>\n",
              "      <td>0</td>\n",
              "      <td>0</td>\n",
              "      <td>0</td>\n",
              "      <td>0</td>\n",
              "      <td>1</td>\n",
              "      <td>0</td>\n",
              "      <td>0</td>\n",
              "      <td>0</td>\n",
              "      <td>0</td>\n",
              "      <td>0</td>\n",
              "    </tr>\n",
              "    <tr>\n",
              "      <th>2</th>\n",
              "      <td>5.0</td>\n",
              "      <td>26.0</td>\n",
              "      <td>0</td>\n",
              "      <td>1</td>\n",
              "      <td>0</td>\n",
              "      <td>1</td>\n",
              "      <td>0</td>\n",
              "      <td>0</td>\n",
              "      <td>0</td>\n",
              "      <td>1</td>\n",
              "      <td>0</td>\n",
              "      <td>0</td>\n",
              "      <td>0</td>\n",
              "      <td>0</td>\n",
              "      <td>0</td>\n",
              "      <td>1</td>\n",
              "      <td>0</td>\n",
              "      <td>0</td>\n",
              "      <td>0</td>\n",
              "      <td>0</td>\n",
              "      <td>0</td>\n",
              "      <td>0</td>\n",
              "      <td>0</td>\n",
              "      <td>1</td>\n",
              "      <td>0</td>\n",
              "      <td>0</td>\n",
              "      <td>0</td>\n",
              "      <td>0</td>\n",
              "      <td>0</td>\n",
              "      <td>0</td>\n",
              "      <td>0</td>\n",
              "      <td>0</td>\n",
              "      <td>0</td>\n",
              "      <td>1</td>\n",
              "    </tr>\n",
              "    <tr>\n",
              "      <th>3</th>\n",
              "      <td>5.0</td>\n",
              "      <td>34.0</td>\n",
              "      <td>0</td>\n",
              "      <td>1</td>\n",
              "      <td>1</td>\n",
              "      <td>0</td>\n",
              "      <td>0</td>\n",
              "      <td>1</td>\n",
              "      <td>0</td>\n",
              "      <td>0</td>\n",
              "      <td>0</td>\n",
              "      <td>0</td>\n",
              "      <td>0</td>\n",
              "      <td>0</td>\n",
              "      <td>1</td>\n",
              "      <td>0</td>\n",
              "      <td>0</td>\n",
              "      <td>0</td>\n",
              "      <td>0</td>\n",
              "      <td>0</td>\n",
              "      <td>1</td>\n",
              "      <td>0</td>\n",
              "      <td>0</td>\n",
              "      <td>0</td>\n",
              "      <td>0</td>\n",
              "      <td>0</td>\n",
              "      <td>0</td>\n",
              "      <td>1</td>\n",
              "      <td>0</td>\n",
              "      <td>0</td>\n",
              "      <td>0</td>\n",
              "      <td>0</td>\n",
              "      <td>0</td>\n",
              "      <td>0</td>\n",
              "    </tr>\n",
              "    <tr>\n",
              "      <th>4</th>\n",
              "      <td>8.0</td>\n",
              "      <td>26.0</td>\n",
              "      <td>1</td>\n",
              "      <td>0</td>\n",
              "      <td>0</td>\n",
              "      <td>1</td>\n",
              "      <td>1</td>\n",
              "      <td>0</td>\n",
              "      <td>0</td>\n",
              "      <td>0</td>\n",
              "      <td>0</td>\n",
              "      <td>0</td>\n",
              "      <td>0</td>\n",
              "      <td>0</td>\n",
              "      <td>0</td>\n",
              "      <td>1</td>\n",
              "      <td>0</td>\n",
              "      <td>0</td>\n",
              "      <td>0</td>\n",
              "      <td>0</td>\n",
              "      <td>1</td>\n",
              "      <td>0</td>\n",
              "      <td>0</td>\n",
              "      <td>0</td>\n",
              "      <td>0</td>\n",
              "      <td>0</td>\n",
              "      <td>0</td>\n",
              "      <td>0</td>\n",
              "      <td>0</td>\n",
              "      <td>1</td>\n",
              "      <td>0</td>\n",
              "      <td>0</td>\n",
              "      <td>0</td>\n",
              "      <td>0</td>\n",
              "    </tr>\n",
              "  </tbody>\n",
              "</table>\n",
              "</div>"
            ],
            "text/plain": [
              "   household_size  ...  job_type_Self employed\n",
              "0             3.0  ...                       1\n",
              "1             5.0  ...                       0\n",
              "2             5.0  ...                       1\n",
              "3             5.0  ...                       0\n",
              "4             8.0  ...                       0\n",
              "\n",
              "[5 rows x 34 columns]"
            ]
          },
          "metadata": {
            "tags": []
          },
          "execution_count": 57
        }
      ]
    },
    {
      "cell_type": "code",
      "metadata": {
        "id": "x_AzkPYwiqkX",
        "colab_type": "code",
        "outputId": "6563b105-ae26-46f9-f6ad-22096c3633d0",
        "colab": {
          "base_uri": "https://localhost:8080/",
          "height": 34
        }
      },
      "source": [
        "X.shape"
      ],
      "execution_count": 58,
      "outputs": [
        {
          "output_type": "execute_result",
          "data": {
            "text/plain": [
              "(23524, 34)"
            ]
          },
          "metadata": {
            "tags": []
          },
          "execution_count": 58
        }
      ]
    },
    {
      "cell_type": "code",
      "metadata": {
        "id": "7eUGHpKu1B5I",
        "colab_type": "code",
        "colab": {}
      },
      "source": [
        "#the following code divides data into training and test sets\n",
        "#\n",
        "from sklearn.model_selection import train_test_split\n",
        "X_train, X_test, y_train, y_test = train_test_split(X, y, test_size=0.2, random_state=0)"
      ],
      "execution_count": 0,
      "outputs": []
    },
    {
      "cell_type": "code",
      "metadata": {
        "id": "cWxhf2NSbnXQ",
        "colab_type": "code",
        "colab": {}
      },
      "source": [
        "# We now need to perform feature scaling. We execute the following code to do so:\n",
        "# \n",
        "from sklearn.preprocessing import StandardScaler\n",
        "sc = StandardScaler()\n",
        "X_train = sc.fit_transform(X_train)\n",
        "X_test = sc.transform(X_test)"
      ],
      "execution_count": 0,
      "outputs": []
    },
    {
      "cell_type": "code",
      "metadata": {
        "id": "CU5_3XE-n_im",
        "colab_type": "code",
        "outputId": "230d7f6d-d0b6-41a0-cdb1-4c60aa721c41",
        "colab": {
          "base_uri": "https://localhost:8080/",
          "height": 1000
        }
      },
      "source": [
        "X.corr()"
      ],
      "execution_count": 61,
      "outputs": [
        {
          "output_type": "execute_result",
          "data": {
            "text/html": [
              "<div>\n",
              "<style scoped>\n",
              "    .dataframe tbody tr th:only-of-type {\n",
              "        vertical-align: middle;\n",
              "    }\n",
              "\n",
              "    .dataframe tbody tr th {\n",
              "        vertical-align: top;\n",
              "    }\n",
              "\n",
              "    .dataframe thead th {\n",
              "        text-align: right;\n",
              "    }\n",
              "</style>\n",
              "<table border=\"1\" class=\"dataframe\">\n",
              "  <thead>\n",
              "    <tr style=\"text-align: right;\">\n",
              "      <th></th>\n",
              "      <th>household_size</th>\n",
              "      <th>age_of_respondent</th>\n",
              "      <th>cellphone_access_No</th>\n",
              "      <th>cellphone_access_Yes</th>\n",
              "      <th>gender_of_respondent_Female</th>\n",
              "      <th>gender_of_respondent_Male</th>\n",
              "      <th>relationship_with_head_Child</th>\n",
              "      <th>relationship_with_head_Head of Household</th>\n",
              "      <th>relationship_with_head_Other non-relatives</th>\n",
              "      <th>relationship_with_head_Other relative</th>\n",
              "      <th>relationship_with_head_Parent</th>\n",
              "      <th>relationship_with_head_Spouse</th>\n",
              "      <th>marital_status_Divorced/Seperated</th>\n",
              "      <th>marital_status_Dont know</th>\n",
              "      <th>marital_status_Married/Living together</th>\n",
              "      <th>marital_status_Single/Never Married</th>\n",
              "      <th>marital_status_Widowed</th>\n",
              "      <th>education_level_6</th>\n",
              "      <th>education_level_No formal education</th>\n",
              "      <th>education_level_Other/Dont know/RTA</th>\n",
              "      <th>education_level_Primary education</th>\n",
              "      <th>education_level_Secondary education</th>\n",
              "      <th>education_level_Tertiary education</th>\n",
              "      <th>education_level_Vocational/Specialised training</th>\n",
              "      <th>job_type_Dont Know/Refuse to answer</th>\n",
              "      <th>job_type_Farming and Fishing</th>\n",
              "      <th>job_type_Formally employed Government</th>\n",
              "      <th>job_type_Formally employed Private</th>\n",
              "      <th>job_type_Government Dependent</th>\n",
              "      <th>job_type_Informally employed</th>\n",
              "      <th>job_type_No Income</th>\n",
              "      <th>job_type_Other Income</th>\n",
              "      <th>job_type_Remittance Dependent</th>\n",
              "      <th>job_type_Self employed</th>\n",
              "    </tr>\n",
              "  </thead>\n",
              "  <tbody>\n",
              "    <tr>\n",
              "      <th>household_size</th>\n",
              "      <td>1.000000</td>\n",
              "      <td>-0.119212</td>\n",
              "      <td>-0.098726</td>\n",
              "      <td>0.098726</td>\n",
              "      <td>-0.011329</td>\n",
              "      <td>0.011329</td>\n",
              "      <td>0.204270</td>\n",
              "      <td>-0.243698</td>\n",
              "      <td>0.021011</td>\n",
              "      <td>0.013798</td>\n",
              "      <td>0.042370</td>\n",
              "      <td>0.108263</td>\n",
              "      <td>-0.129416</td>\n",
              "      <td>-0.008536</td>\n",
              "      <td>0.345770</td>\n",
              "      <td>-0.182788</td>\n",
              "      <td>-0.153418</td>\n",
              "      <td>0.002008</td>\n",
              "      <td>-0.007311</td>\n",
              "      <td>0.004614</td>\n",
              "      <td>-0.024692</td>\n",
              "      <td>0.104180</td>\n",
              "      <td>-0.095932</td>\n",
              "      <td>-0.023203</td>\n",
              "      <td>0.024107</td>\n",
              "      <td>0.188149</td>\n",
              "      <td>0.002773</td>\n",
              "      <td>-0.071118</td>\n",
              "      <td>-0.045911</td>\n",
              "      <td>0.013800</td>\n",
              "      <td>-0.065799</td>\n",
              "      <td>0.062540</td>\n",
              "      <td>0.008988</td>\n",
              "      <td>-0.163918</td>\n",
              "    </tr>\n",
              "    <tr>\n",
              "      <th>age_of_respondent</th>\n",
              "      <td>-0.119212</td>\n",
              "      <td>1.000000</td>\n",
              "      <td>0.103758</td>\n",
              "      <td>-0.103758</td>\n",
              "      <td>-0.013123</td>\n",
              "      <td>0.013123</td>\n",
              "      <td>-0.302048</td>\n",
              "      <td>0.419421</td>\n",
              "      <td>-0.078538</td>\n",
              "      <td>-0.134724</td>\n",
              "      <td>-0.196217</td>\n",
              "      <td>-0.111259</td>\n",
              "      <td>-0.119497</td>\n",
              "      <td>0.005260</td>\n",
              "      <td>0.054198</td>\n",
              "      <td>-0.296593</td>\n",
              "      <td>0.461496</td>\n",
              "      <td>0.024000</td>\n",
              "      <td>0.359671</td>\n",
              "      <td>0.009449</td>\n",
              "      <td>-0.071641</td>\n",
              "      <td>-0.209862</td>\n",
              "      <td>-0.090700</td>\n",
              "      <td>-0.037003</td>\n",
              "      <td>-0.002777</td>\n",
              "      <td>0.153382</td>\n",
              "      <td>-0.005634</td>\n",
              "      <td>-0.061839</td>\n",
              "      <td>0.171570</td>\n",
              "      <td>-0.088909</td>\n",
              "      <td>-0.060762</td>\n",
              "      <td>-0.014441</td>\n",
              "      <td>-0.057750</td>\n",
              "      <td>0.000237</td>\n",
              "    </tr>\n",
              "    <tr>\n",
              "      <th>cellphone_access_No</th>\n",
              "      <td>-0.098726</td>\n",
              "      <td>0.103758</td>\n",
              "      <td>1.000000</td>\n",
              "      <td>-1.000000</td>\n",
              "      <td>0.102115</td>\n",
              "      <td>-0.102115</td>\n",
              "      <td>0.003786</td>\n",
              "      <td>-0.056033</td>\n",
              "      <td>-0.023863</td>\n",
              "      <td>0.030310</td>\n",
              "      <td>0.049116</td>\n",
              "      <td>0.030356</td>\n",
              "      <td>0.028764</td>\n",
              "      <td>-0.005599</td>\n",
              "      <td>-0.157912</td>\n",
              "      <td>0.065754</td>\n",
              "      <td>0.123893</td>\n",
              "      <td>0.011596</td>\n",
              "      <td>0.204348</td>\n",
              "      <td>-0.005599</td>\n",
              "      <td>0.009639</td>\n",
              "      <td>-0.119766</td>\n",
              "      <td>-0.099806</td>\n",
              "      <td>-0.099015</td>\n",
              "      <td>-0.001971</td>\n",
              "      <td>-0.111498</td>\n",
              "      <td>-0.071634</td>\n",
              "      <td>-0.105631</td>\n",
              "      <td>0.058474</td>\n",
              "      <td>0.008630</td>\n",
              "      <td>0.104005</td>\n",
              "      <td>0.006779</td>\n",
              "      <td>0.083016</td>\n",
              "      <td>0.055152</td>\n",
              "    </tr>\n",
              "    <tr>\n",
              "      <th>cellphone_access_Yes</th>\n",
              "      <td>0.098726</td>\n",
              "      <td>-0.103758</td>\n",
              "      <td>-1.000000</td>\n",
              "      <td>1.000000</td>\n",
              "      <td>-0.102115</td>\n",
              "      <td>0.102115</td>\n",
              "      <td>-0.003786</td>\n",
              "      <td>0.056033</td>\n",
              "      <td>0.023863</td>\n",
              "      <td>-0.030310</td>\n",
              "      <td>-0.049116</td>\n",
              "      <td>-0.030356</td>\n",
              "      <td>-0.028764</td>\n",
              "      <td>0.005599</td>\n",
              "      <td>0.157912</td>\n",
              "      <td>-0.065754</td>\n",
              "      <td>-0.123893</td>\n",
              "      <td>-0.011596</td>\n",
              "      <td>-0.204348</td>\n",
              "      <td>0.005599</td>\n",
              "      <td>-0.009639</td>\n",
              "      <td>0.119766</td>\n",
              "      <td>0.099806</td>\n",
              "      <td>0.099015</td>\n",
              "      <td>0.001971</td>\n",
              "      <td>0.111498</td>\n",
              "      <td>0.071634</td>\n",
              "      <td>0.105631</td>\n",
              "      <td>-0.058474</td>\n",
              "      <td>-0.008630</td>\n",
              "      <td>-0.104005</td>\n",
              "      <td>-0.006779</td>\n",
              "      <td>-0.083016</td>\n",
              "      <td>-0.055152</td>\n",
              "    </tr>\n",
              "    <tr>\n",
              "      <th>gender_of_respondent_Female</th>\n",
              "      <td>-0.011329</td>\n",
              "      <td>-0.013123</td>\n",
              "      <td>0.102115</td>\n",
              "      <td>-0.102115</td>\n",
              "      <td>1.000000</td>\n",
              "      <td>-1.000000</td>\n",
              "      <td>-0.042925</td>\n",
              "      <td>-0.413223</td>\n",
              "      <td>-0.001170</td>\n",
              "      <td>-0.012238</td>\n",
              "      <td>-0.010867</td>\n",
              "      <td>0.497688</td>\n",
              "      <td>-0.004484</td>\n",
              "      <td>-0.017464</td>\n",
              "      <td>-0.056086</td>\n",
              "      <td>-0.085768</td>\n",
              "      <td>0.219947</td>\n",
              "      <td>0.005245</td>\n",
              "      <td>0.114633</td>\n",
              "      <td>-0.003398</td>\n",
              "      <td>-0.019249</td>\n",
              "      <td>-0.058196</td>\n",
              "      <td>-0.041081</td>\n",
              "      <td>-0.024397</td>\n",
              "      <td>0.006616</td>\n",
              "      <td>0.001094</td>\n",
              "      <td>-0.028923</td>\n",
              "      <td>-0.061431</td>\n",
              "      <td>0.023854</td>\n",
              "      <td>-0.052741</td>\n",
              "      <td>0.073371</td>\n",
              "      <td>0.011221</td>\n",
              "      <td>0.120213</td>\n",
              "      <td>-0.035647</td>\n",
              "    </tr>\n",
              "    <tr>\n",
              "      <th>gender_of_respondent_Male</th>\n",
              "      <td>0.011329</td>\n",
              "      <td>0.013123</td>\n",
              "      <td>-0.102115</td>\n",
              "      <td>0.102115</td>\n",
              "      <td>-1.000000</td>\n",
              "      <td>1.000000</td>\n",
              "      <td>0.042925</td>\n",
              "      <td>0.413223</td>\n",
              "      <td>0.001170</td>\n",
              "      <td>0.012238</td>\n",
              "      <td>0.010867</td>\n",
              "      <td>-0.497688</td>\n",
              "      <td>0.004484</td>\n",
              "      <td>0.017464</td>\n",
              "      <td>0.056086</td>\n",
              "      <td>0.085768</td>\n",
              "      <td>-0.219947</td>\n",
              "      <td>-0.005245</td>\n",
              "      <td>-0.114633</td>\n",
              "      <td>0.003398</td>\n",
              "      <td>0.019249</td>\n",
              "      <td>0.058196</td>\n",
              "      <td>0.041081</td>\n",
              "      <td>0.024397</td>\n",
              "      <td>-0.006616</td>\n",
              "      <td>-0.001094</td>\n",
              "      <td>0.028923</td>\n",
              "      <td>0.061431</td>\n",
              "      <td>-0.023854</td>\n",
              "      <td>0.052741</td>\n",
              "      <td>-0.073371</td>\n",
              "      <td>-0.011221</td>\n",
              "      <td>-0.120213</td>\n",
              "      <td>0.035647</td>\n",
              "    </tr>\n",
              "    <tr>\n",
              "      <th>relationship_with_head_Child</th>\n",
              "      <td>0.204270</td>\n",
              "      <td>-0.302048</td>\n",
              "      <td>0.003786</td>\n",
              "      <td>-0.003786</td>\n",
              "      <td>-0.042925</td>\n",
              "      <td>0.042925</td>\n",
              "      <td>1.000000</td>\n",
              "      <td>-0.354463</td>\n",
              "      <td>-0.029194</td>\n",
              "      <td>-0.055310</td>\n",
              "      <td>-0.071177</td>\n",
              "      <td>-0.200296</td>\n",
              "      <td>0.008025</td>\n",
              "      <td>0.001905</td>\n",
              "      <td>-0.267905</td>\n",
              "      <td>0.334782</td>\n",
              "      <td>-0.085592</td>\n",
              "      <td>-0.010967</td>\n",
              "      <td>-0.110270</td>\n",
              "      <td>0.009777</td>\n",
              "      <td>-0.077299</td>\n",
              "      <td>0.210387</td>\n",
              "      <td>0.010384</td>\n",
              "      <td>-0.004866</td>\n",
              "      <td>0.000121</td>\n",
              "      <td>0.000758</td>\n",
              "      <td>-0.020162</td>\n",
              "      <td>-0.034339</td>\n",
              "      <td>-0.017664</td>\n",
              "      <td>0.028517</td>\n",
              "      <td>-0.017492</td>\n",
              "      <td>-0.003700</td>\n",
              "      <td>0.196901</td>\n",
              "      <td>-0.130721</td>\n",
              "    </tr>\n",
              "    <tr>\n",
              "      <th>relationship_with_head_Head of Household</th>\n",
              "      <td>-0.243698</td>\n",
              "      <td>0.419421</td>\n",
              "      <td>-0.056033</td>\n",
              "      <td>0.056033</td>\n",
              "      <td>-0.413223</td>\n",
              "      <td>0.413223</td>\n",
              "      <td>-0.354463</td>\n",
              "      <td>1.000000</td>\n",
              "      <td>-0.098864</td>\n",
              "      <td>-0.187302</td>\n",
              "      <td>-0.241034</td>\n",
              "      <td>-0.678283</td>\n",
              "      <td>0.011346</td>\n",
              "      <td>0.007574</td>\n",
              "      <td>-0.013517</td>\n",
              "      <td>-0.187301</td>\n",
              "      <td>0.288633</td>\n",
              "      <td>0.000683</td>\n",
              "      <td>0.123195</td>\n",
              "      <td>0.002944</td>\n",
              "      <td>-0.012332</td>\n",
              "      <td>-0.115736</td>\n",
              "      <td>-0.002224</td>\n",
              "      <td>0.013608</td>\n",
              "      <td>0.002648</td>\n",
              "      <td>0.025757</td>\n",
              "      <td>0.037505</td>\n",
              "      <td>0.057942</td>\n",
              "      <td>0.058844</td>\n",
              "      <td>0.016077</td>\n",
              "      <td>-0.110274</td>\n",
              "      <td>-0.012715</td>\n",
              "      <td>-0.152801</td>\n",
              "      <td>0.060639</td>\n",
              "    </tr>\n",
              "    <tr>\n",
              "      <th>relationship_with_head_Other non-relatives</th>\n",
              "      <td>0.021011</td>\n",
              "      <td>-0.078538</td>\n",
              "      <td>-0.023863</td>\n",
              "      <td>0.023863</td>\n",
              "      <td>-0.001170</td>\n",
              "      <td>0.001170</td>\n",
              "      <td>-0.029194</td>\n",
              "      <td>-0.098864</td>\n",
              "      <td>1.000000</td>\n",
              "      <td>-0.015427</td>\n",
              "      <td>-0.019852</td>\n",
              "      <td>-0.055865</td>\n",
              "      <td>0.047365</td>\n",
              "      <td>-0.001664</td>\n",
              "      <td>-0.071490</td>\n",
              "      <td>0.064839</td>\n",
              "      <td>-0.026548</td>\n",
              "      <td>-0.003059</td>\n",
              "      <td>-0.028234</td>\n",
              "      <td>-0.001664</td>\n",
              "      <td>0.015815</td>\n",
              "      <td>0.004847</td>\n",
              "      <td>0.003654</td>\n",
              "      <td>0.003961</td>\n",
              "      <td>-0.006622</td>\n",
              "      <td>-0.039308</td>\n",
              "      <td>-0.004203</td>\n",
              "      <td>0.083707</td>\n",
              "      <td>-0.009295</td>\n",
              "      <td>0.037805</td>\n",
              "      <td>0.005708</td>\n",
              "      <td>0.007436</td>\n",
              "      <td>-0.000592</td>\n",
              "      <td>-0.038482</td>\n",
              "    </tr>\n",
              "    <tr>\n",
              "      <th>relationship_with_head_Other relative</th>\n",
              "      <td>0.013798</td>\n",
              "      <td>-0.134724</td>\n",
              "      <td>0.030310</td>\n",
              "      <td>-0.030310</td>\n",
              "      <td>-0.012238</td>\n",
              "      <td>0.012238</td>\n",
              "      <td>-0.055310</td>\n",
              "      <td>-0.187302</td>\n",
              "      <td>-0.015427</td>\n",
              "      <td>1.000000</td>\n",
              "      <td>-0.037611</td>\n",
              "      <td>-0.105839</td>\n",
              "      <td>0.113023</td>\n",
              "      <td>0.010727</td>\n",
              "      <td>-0.112422</td>\n",
              "      <td>0.073347</td>\n",
              "      <td>-0.034295</td>\n",
              "      <td>0.001763</td>\n",
              "      <td>-0.051348</td>\n",
              "      <td>-0.003153</td>\n",
              "      <td>-0.039357</td>\n",
              "      <td>0.070816</td>\n",
              "      <td>0.030988</td>\n",
              "      <td>0.032696</td>\n",
              "      <td>-0.005533</td>\n",
              "      <td>-0.066360</td>\n",
              "      <td>-0.016074</td>\n",
              "      <td>0.023546</td>\n",
              "      <td>-0.005057</td>\n",
              "      <td>-0.004000</td>\n",
              "      <td>0.044800</td>\n",
              "      <td>0.022416</td>\n",
              "      <td>0.092887</td>\n",
              "      <td>-0.028894</td>\n",
              "    </tr>\n",
              "    <tr>\n",
              "      <th>relationship_with_head_Parent</th>\n",
              "      <td>0.042370</td>\n",
              "      <td>-0.196217</td>\n",
              "      <td>0.049116</td>\n",
              "      <td>-0.049116</td>\n",
              "      <td>-0.010867</td>\n",
              "      <td>0.010867</td>\n",
              "      <td>-0.071177</td>\n",
              "      <td>-0.241034</td>\n",
              "      <td>-0.019852</td>\n",
              "      <td>-0.037611</td>\n",
              "      <td>1.000000</td>\n",
              "      <td>-0.136201</td>\n",
              "      <td>0.257569</td>\n",
              "      <td>-0.004058</td>\n",
              "      <td>-0.158677</td>\n",
              "      <td>0.049226</td>\n",
              "      <td>-0.053838</td>\n",
              "      <td>-0.007458</td>\n",
              "      <td>-0.068993</td>\n",
              "      <td>-0.004058</td>\n",
              "      <td>-0.009398</td>\n",
              "      <td>0.057646</td>\n",
              "      <td>0.051199</td>\n",
              "      <td>-0.005658</td>\n",
              "      <td>0.003284</td>\n",
              "      <td>-0.069130</td>\n",
              "      <td>-0.018897</td>\n",
              "      <td>-0.007541</td>\n",
              "      <td>-0.008750</td>\n",
              "      <td>-0.036620</td>\n",
              "      <td>0.147220</td>\n",
              "      <td>0.017559</td>\n",
              "      <td>0.025841</td>\n",
              "      <td>0.031259</td>\n",
              "    </tr>\n",
              "    <tr>\n",
              "      <th>relationship_with_head_Spouse</th>\n",
              "      <td>0.108263</td>\n",
              "      <td>-0.111259</td>\n",
              "      <td>0.030356</td>\n",
              "      <td>-0.030356</td>\n",
              "      <td>0.497688</td>\n",
              "      <td>-0.497688</td>\n",
              "      <td>-0.200296</td>\n",
              "      <td>-0.678283</td>\n",
              "      <td>-0.055865</td>\n",
              "      <td>-0.105839</td>\n",
              "      <td>-0.136201</td>\n",
              "      <td>1.000000</td>\n",
              "      <td>-0.190059</td>\n",
              "      <td>-0.011419</td>\n",
              "      <td>0.320771</td>\n",
              "      <td>-0.073967</td>\n",
              "      <td>-0.221825</td>\n",
              "      <td>0.009871</td>\n",
              "      <td>-0.007848</td>\n",
              "      <td>-0.006267</td>\n",
              "      <td>0.080154</td>\n",
              "      <td>-0.063194</td>\n",
              "      <td>-0.040558</td>\n",
              "      <td>-0.022229</td>\n",
              "      <td>-0.001187</td>\n",
              "      <td>0.035751</td>\n",
              "      <td>-0.012865</td>\n",
              "      <td>-0.063936</td>\n",
              "      <td>-0.046069</td>\n",
              "      <td>-0.025453</td>\n",
              "      <td>0.047336</td>\n",
              "      <td>-0.001473</td>\n",
              "      <td>-0.005324</td>\n",
              "      <td>0.021842</td>\n",
              "    </tr>\n",
              "    <tr>\n",
              "      <th>marital_status_Divorced/Seperated</th>\n",
              "      <td>-0.129416</td>\n",
              "      <td>-0.119497</td>\n",
              "      <td>0.028764</td>\n",
              "      <td>-0.028764</td>\n",
              "      <td>-0.004484</td>\n",
              "      <td>0.004484</td>\n",
              "      <td>0.008025</td>\n",
              "      <td>0.011346</td>\n",
              "      <td>0.047365</td>\n",
              "      <td>0.113023</td>\n",
              "      <td>0.257569</td>\n",
              "      <td>-0.190059</td>\n",
              "      <td>1.000000</td>\n",
              "      <td>-0.005732</td>\n",
              "      <td>-0.285616</td>\n",
              "      <td>-0.222490</td>\n",
              "      <td>-0.111955</td>\n",
              "      <td>-0.001675</td>\n",
              "      <td>-0.032356</td>\n",
              "      <td>-0.005732</td>\n",
              "      <td>-0.018907</td>\n",
              "      <td>-0.002228</td>\n",
              "      <td>0.100044</td>\n",
              "      <td>0.008485</td>\n",
              "      <td>-0.010477</td>\n",
              "      <td>-0.082050</td>\n",
              "      <td>-0.021328</td>\n",
              "      <td>0.040638</td>\n",
              "      <td>-0.015828</td>\n",
              "      <td>0.034857</td>\n",
              "      <td>0.092913</td>\n",
              "      <td>-0.012991</td>\n",
              "      <td>-0.007907</td>\n",
              "      <td>0.014848</td>\n",
              "    </tr>\n",
              "    <tr>\n",
              "      <th>marital_status_Dont know</th>\n",
              "      <td>-0.008536</td>\n",
              "      <td>0.005260</td>\n",
              "      <td>-0.005599</td>\n",
              "      <td>0.005599</td>\n",
              "      <td>-0.017464</td>\n",
              "      <td>0.017464</td>\n",
              "      <td>0.001905</td>\n",
              "      <td>0.007574</td>\n",
              "      <td>-0.001664</td>\n",
              "      <td>0.010727</td>\n",
              "      <td>-0.004058</td>\n",
              "      <td>-0.011419</td>\n",
              "      <td>-0.005732</td>\n",
              "      <td>1.000000</td>\n",
              "      <td>-0.016951</td>\n",
              "      <td>-0.013204</td>\n",
              "      <td>-0.006644</td>\n",
              "      <td>-0.000625</td>\n",
              "      <td>-0.003119</td>\n",
              "      <td>-0.000340</td>\n",
              "      <td>0.007618</td>\n",
              "      <td>-0.002615</td>\n",
              "      <td>-0.004193</td>\n",
              "      <td>-0.003467</td>\n",
              "      <td>-0.001354</td>\n",
              "      <td>-0.004637</td>\n",
              "      <td>-0.002385</td>\n",
              "      <td>0.007143</td>\n",
              "      <td>-0.001900</td>\n",
              "      <td>0.005959</td>\n",
              "      <td>-0.003052</td>\n",
              "      <td>-0.004046</td>\n",
              "      <td>0.001055</td>\n",
              "      <td>-0.001014</td>\n",
              "    </tr>\n",
              "    <tr>\n",
              "      <th>marital_status_Married/Living together</th>\n",
              "      <td>0.345770</td>\n",
              "      <td>0.054198</td>\n",
              "      <td>-0.157912</td>\n",
              "      <td>0.157912</td>\n",
              "      <td>-0.056086</td>\n",
              "      <td>0.056086</td>\n",
              "      <td>-0.267905</td>\n",
              "      <td>-0.013517</td>\n",
              "      <td>-0.071490</td>\n",
              "      <td>-0.112422</td>\n",
              "      <td>-0.158677</td>\n",
              "      <td>0.320771</td>\n",
              "      <td>-0.285616</td>\n",
              "      <td>-0.016951</td>\n",
              "      <td>1.000000</td>\n",
              "      <td>-0.657917</td>\n",
              "      <td>-0.331057</td>\n",
              "      <td>0.009166</td>\n",
              "      <td>-0.008277</td>\n",
              "      <td>0.006187</td>\n",
              "      <td>0.038615</td>\n",
              "      <td>0.004620</td>\n",
              "      <td>-0.092088</td>\n",
              "      <td>0.009552</td>\n",
              "      <td>0.021401</td>\n",
              "      <td>0.213665</td>\n",
              "      <td>0.068956</td>\n",
              "      <td>-0.021872</td>\n",
              "      <td>-0.057000</td>\n",
              "      <td>0.034058</td>\n",
              "      <td>-0.076327</td>\n",
              "      <td>0.032817</td>\n",
              "      <td>-0.123419</td>\n",
              "      <td>-0.136498</td>\n",
              "    </tr>\n",
              "    <tr>\n",
              "      <th>marital_status_Single/Never Married</th>\n",
              "      <td>-0.182788</td>\n",
              "      <td>-0.296593</td>\n",
              "      <td>0.065754</td>\n",
              "      <td>-0.065754</td>\n",
              "      <td>-0.085768</td>\n",
              "      <td>0.085768</td>\n",
              "      <td>0.334782</td>\n",
              "      <td>-0.187301</td>\n",
              "      <td>0.064839</td>\n",
              "      <td>0.073347</td>\n",
              "      <td>0.049226</td>\n",
              "      <td>-0.073967</td>\n",
              "      <td>-0.222490</td>\n",
              "      <td>-0.013204</td>\n",
              "      <td>-0.657917</td>\n",
              "      <td>1.000000</td>\n",
              "      <td>-0.257888</td>\n",
              "      <td>-0.016310</td>\n",
              "      <td>-0.158810</td>\n",
              "      <td>0.001409</td>\n",
              "      <td>0.027126</td>\n",
              "      <td>0.077732</td>\n",
              "      <td>0.079065</td>\n",
              "      <td>0.014298</td>\n",
              "      <td>-0.019312</td>\n",
              "      <td>-0.228865</td>\n",
              "      <td>-0.037515</td>\n",
              "      <td>0.037978</td>\n",
              "      <td>-0.020878</td>\n",
              "      <td>-0.029152</td>\n",
              "      <td>0.027068</td>\n",
              "      <td>-0.032164</td>\n",
              "      <td>0.106721</td>\n",
              "      <td>0.176241</td>\n",
              "    </tr>\n",
              "    <tr>\n",
              "      <th>marital_status_Widowed</th>\n",
              "      <td>-0.153418</td>\n",
              "      <td>0.461496</td>\n",
              "      <td>0.123893</td>\n",
              "      <td>-0.123893</td>\n",
              "      <td>0.219947</td>\n",
              "      <td>-0.219947</td>\n",
              "      <td>-0.085592</td>\n",
              "      <td>0.288633</td>\n",
              "      <td>-0.026548</td>\n",
              "      <td>-0.034295</td>\n",
              "      <td>-0.053838</td>\n",
              "      <td>-0.221825</td>\n",
              "      <td>-0.111955</td>\n",
              "      <td>-0.006644</td>\n",
              "      <td>-0.331057</td>\n",
              "      <td>-0.257888</td>\n",
              "      <td>1.000000</td>\n",
              "      <td>0.011414</td>\n",
              "      <td>0.277615</td>\n",
              "      <td>-0.006644</td>\n",
              "      <td>-0.084239</td>\n",
              "      <td>-0.120476</td>\n",
              "      <td>-0.062157</td>\n",
              "      <td>-0.043492</td>\n",
              "      <td>0.004617</td>\n",
              "      <td>0.079072</td>\n",
              "      <td>-0.032964</td>\n",
              "      <td>-0.058733</td>\n",
              "      <td>0.134235</td>\n",
              "      <td>-0.041270</td>\n",
              "      <td>-0.003326</td>\n",
              "      <td>0.008249</td>\n",
              "      <td>0.041393</td>\n",
              "      <td>-0.061473</td>\n",
              "    </tr>\n",
              "    <tr>\n",
              "      <th>education_level_6</th>\n",
              "      <td>0.002008</td>\n",
              "      <td>0.024000</td>\n",
              "      <td>0.011596</td>\n",
              "      <td>-0.011596</td>\n",
              "      <td>0.005245</td>\n",
              "      <td>-0.005245</td>\n",
              "      <td>-0.010967</td>\n",
              "      <td>0.000683</td>\n",
              "      <td>-0.003059</td>\n",
              "      <td>0.001763</td>\n",
              "      <td>-0.007458</td>\n",
              "      <td>0.009871</td>\n",
              "      <td>-0.001675</td>\n",
              "      <td>-0.000625</td>\n",
              "      <td>0.009166</td>\n",
              "      <td>-0.016310</td>\n",
              "      <td>0.011414</td>\n",
              "      <td>1.000000</td>\n",
              "      <td>-0.016500</td>\n",
              "      <td>-0.000625</td>\n",
              "      <td>-0.037047</td>\n",
              "      <td>-0.015849</td>\n",
              "      <td>-0.007706</td>\n",
              "      <td>-0.006373</td>\n",
              "      <td>-0.002488</td>\n",
              "      <td>-0.018577</td>\n",
              "      <td>-0.004384</td>\n",
              "      <td>-0.001279</td>\n",
              "      <td>0.008825</td>\n",
              "      <td>0.025335</td>\n",
              "      <td>0.017775</td>\n",
              "      <td>-0.001437</td>\n",
              "      <td>-0.003639</td>\n",
              "      <td>-0.009600</td>\n",
              "    </tr>\n",
              "    <tr>\n",
              "      <th>education_level_No formal education</th>\n",
              "      <td>-0.007311</td>\n",
              "      <td>0.359671</td>\n",
              "      <td>0.204348</td>\n",
              "      <td>-0.204348</td>\n",
              "      <td>0.114633</td>\n",
              "      <td>-0.114633</td>\n",
              "      <td>-0.110270</td>\n",
              "      <td>0.123195</td>\n",
              "      <td>-0.028234</td>\n",
              "      <td>-0.051348</td>\n",
              "      <td>-0.068993</td>\n",
              "      <td>-0.007848</td>\n",
              "      <td>-0.032356</td>\n",
              "      <td>-0.003119</td>\n",
              "      <td>-0.008277</td>\n",
              "      <td>-0.158810</td>\n",
              "      <td>0.277615</td>\n",
              "      <td>-0.016500</td>\n",
              "      <td>1.000000</td>\n",
              "      <td>-0.008978</td>\n",
              "      <td>-0.531972</td>\n",
              "      <td>-0.227586</td>\n",
              "      <td>-0.110657</td>\n",
              "      <td>-0.091508</td>\n",
              "      <td>-0.009080</td>\n",
              "      <td>0.092356</td>\n",
              "      <td>-0.059556</td>\n",
              "      <td>-0.088251</td>\n",
              "      <td>0.088691</td>\n",
              "      <td>0.014676</td>\n",
              "      <td>-0.002751</td>\n",
              "      <td>-0.011806</td>\n",
              "      <td>0.003326</td>\n",
              "      <td>-0.057857</td>\n",
              "    </tr>\n",
              "    <tr>\n",
              "      <th>education_level_Other/Dont know/RTA</th>\n",
              "      <td>0.004614</td>\n",
              "      <td>0.009449</td>\n",
              "      <td>-0.005599</td>\n",
              "      <td>0.005599</td>\n",
              "      <td>-0.003398</td>\n",
              "      <td>0.003398</td>\n",
              "      <td>0.009777</td>\n",
              "      <td>0.002944</td>\n",
              "      <td>-0.001664</td>\n",
              "      <td>-0.003153</td>\n",
              "      <td>-0.004058</td>\n",
              "      <td>-0.006267</td>\n",
              "      <td>-0.005732</td>\n",
              "      <td>-0.000340</td>\n",
              "      <td>0.006187</td>\n",
              "      <td>0.001409</td>\n",
              "      <td>-0.006644</td>\n",
              "      <td>-0.000625</td>\n",
              "      <td>-0.008978</td>\n",
              "      <td>1.000000</td>\n",
              "      <td>-0.020158</td>\n",
              "      <td>-0.008624</td>\n",
              "      <td>-0.004193</td>\n",
              "      <td>-0.003467</td>\n",
              "      <td>-0.001354</td>\n",
              "      <td>-0.010108</td>\n",
              "      <td>0.033864</td>\n",
              "      <td>0.007143</td>\n",
              "      <td>-0.001900</td>\n",
              "      <td>-0.004876</td>\n",
              "      <td>-0.003052</td>\n",
              "      <td>0.017986</td>\n",
              "      <td>-0.006394</td>\n",
              "      <td>-0.001014</td>\n",
              "    </tr>\n",
              "    <tr>\n",
              "      <th>education_level_Primary education</th>\n",
              "      <td>-0.024692</td>\n",
              "      <td>-0.071641</td>\n",
              "      <td>0.009639</td>\n",
              "      <td>-0.009639</td>\n",
              "      <td>-0.019249</td>\n",
              "      <td>0.019249</td>\n",
              "      <td>-0.077299</td>\n",
              "      <td>-0.012332</td>\n",
              "      <td>0.015815</td>\n",
              "      <td>-0.039357</td>\n",
              "      <td>-0.009398</td>\n",
              "      <td>0.080154</td>\n",
              "      <td>-0.018907</td>\n",
              "      <td>0.007618</td>\n",
              "      <td>0.038615</td>\n",
              "      <td>0.027126</td>\n",
              "      <td>-0.084239</td>\n",
              "      <td>-0.037047</td>\n",
              "      <td>-0.531972</td>\n",
              "      <td>-0.020158</td>\n",
              "      <td>1.000000</td>\n",
              "      <td>-0.510985</td>\n",
              "      <td>-0.248451</td>\n",
              "      <td>-0.205456</td>\n",
              "      <td>0.007506</td>\n",
              "      <td>0.009487</td>\n",
              "      <td>-0.113161</td>\n",
              "      <td>-0.101959</td>\n",
              "      <td>-0.035540</td>\n",
              "      <td>0.072011</td>\n",
              "      <td>-0.014983</td>\n",
              "      <td>-0.029298</td>\n",
              "      <td>-0.115503</td>\n",
              "      <td>0.108051</td>\n",
              "    </tr>\n",
              "    <tr>\n",
              "      <th>education_level_Secondary education</th>\n",
              "      <td>0.104180</td>\n",
              "      <td>-0.209862</td>\n",
              "      <td>-0.119766</td>\n",
              "      <td>0.119766</td>\n",
              "      <td>-0.058196</td>\n",
              "      <td>0.058196</td>\n",
              "      <td>0.210387</td>\n",
              "      <td>-0.115736</td>\n",
              "      <td>0.004847</td>\n",
              "      <td>0.070816</td>\n",
              "      <td>0.057646</td>\n",
              "      <td>-0.063194</td>\n",
              "      <td>-0.002228</td>\n",
              "      <td>-0.002615</td>\n",
              "      <td>0.004620</td>\n",
              "      <td>0.077732</td>\n",
              "      <td>-0.120476</td>\n",
              "      <td>-0.015849</td>\n",
              "      <td>-0.227586</td>\n",
              "      <td>-0.008624</td>\n",
              "      <td>-0.510985</td>\n",
              "      <td>1.000000</td>\n",
              "      <td>-0.106291</td>\n",
              "      <td>-0.087898</td>\n",
              "      <td>0.011228</td>\n",
              "      <td>-0.024878</td>\n",
              "      <td>0.052762</td>\n",
              "      <td>0.040546</td>\n",
              "      <td>-0.038381</td>\n",
              "      <td>-0.055523</td>\n",
              "      <td>0.019619</td>\n",
              "      <td>0.048310</td>\n",
              "      <td>0.125376</td>\n",
              "      <td>-0.067158</td>\n",
              "    </tr>\n",
              "    <tr>\n",
              "      <th>education_level_Tertiary education</th>\n",
              "      <td>-0.095932</td>\n",
              "      <td>-0.090700</td>\n",
              "      <td>-0.099806</td>\n",
              "      <td>0.099806</td>\n",
              "      <td>-0.041081</td>\n",
              "      <td>0.041081</td>\n",
              "      <td>0.010384</td>\n",
              "      <td>-0.002224</td>\n",
              "      <td>0.003654</td>\n",
              "      <td>0.030988</td>\n",
              "      <td>0.051199</td>\n",
              "      <td>-0.040558</td>\n",
              "      <td>0.100044</td>\n",
              "      <td>-0.004193</td>\n",
              "      <td>-0.092088</td>\n",
              "      <td>0.079065</td>\n",
              "      <td>-0.062157</td>\n",
              "      <td>-0.007706</td>\n",
              "      <td>-0.110657</td>\n",
              "      <td>-0.004193</td>\n",
              "      <td>-0.248451</td>\n",
              "      <td>-0.106291</td>\n",
              "      <td>1.000000</td>\n",
              "      <td>-0.042738</td>\n",
              "      <td>-0.011294</td>\n",
              "      <td>-0.099851</td>\n",
              "      <td>0.157665</td>\n",
              "      <td>0.163577</td>\n",
              "      <td>-0.007983</td>\n",
              "      <td>-0.045543</td>\n",
              "      <td>0.019765</td>\n",
              "      <td>-0.005706</td>\n",
              "      <td>0.031751</td>\n",
              "      <td>-0.005885</td>\n",
              "    </tr>\n",
              "    <tr>\n",
              "      <th>education_level_Vocational/Specialised training</th>\n",
              "      <td>-0.023203</td>\n",
              "      <td>-0.037003</td>\n",
              "      <td>-0.099015</td>\n",
              "      <td>0.099015</td>\n",
              "      <td>-0.024397</td>\n",
              "      <td>0.024397</td>\n",
              "      <td>-0.004866</td>\n",
              "      <td>0.013608</td>\n",
              "      <td>0.003961</td>\n",
              "      <td>0.032696</td>\n",
              "      <td>-0.005658</td>\n",
              "      <td>-0.022229</td>\n",
              "      <td>0.008485</td>\n",
              "      <td>-0.003467</td>\n",
              "      <td>0.009552</td>\n",
              "      <td>0.014298</td>\n",
              "      <td>-0.043492</td>\n",
              "      <td>-0.006373</td>\n",
              "      <td>-0.091508</td>\n",
              "      <td>-0.003467</td>\n",
              "      <td>-0.205456</td>\n",
              "      <td>-0.087898</td>\n",
              "      <td>-0.042738</td>\n",
              "      <td>1.000000</td>\n",
              "      <td>-0.010588</td>\n",
              "      <td>-0.050250</td>\n",
              "      <td>0.137649</td>\n",
              "      <td>0.190019</td>\n",
              "      <td>-0.005585</td>\n",
              "      <td>-0.062009</td>\n",
              "      <td>-0.020935</td>\n",
              "      <td>0.009099</td>\n",
              "      <td>0.008202</td>\n",
              "      <td>-0.020169</td>\n",
              "    </tr>\n",
              "    <tr>\n",
              "      <th>job_type_Dont Know/Refuse to answer</th>\n",
              "      <td>0.024107</td>\n",
              "      <td>-0.002777</td>\n",
              "      <td>-0.001971</td>\n",
              "      <td>0.001971</td>\n",
              "      <td>0.006616</td>\n",
              "      <td>-0.006616</td>\n",
              "      <td>0.000121</td>\n",
              "      <td>0.002648</td>\n",
              "      <td>-0.006622</td>\n",
              "      <td>-0.005533</td>\n",
              "      <td>0.003284</td>\n",
              "      <td>-0.001187</td>\n",
              "      <td>-0.010477</td>\n",
              "      <td>-0.001354</td>\n",
              "      <td>0.021401</td>\n",
              "      <td>-0.019312</td>\n",
              "      <td>0.004617</td>\n",
              "      <td>-0.002488</td>\n",
              "      <td>-0.009080</td>\n",
              "      <td>-0.001354</td>\n",
              "      <td>0.007506</td>\n",
              "      <td>0.011228</td>\n",
              "      <td>-0.011294</td>\n",
              "      <td>-0.010588</td>\n",
              "      <td>1.000000</td>\n",
              "      <td>-0.040215</td>\n",
              "      <td>-0.009491</td>\n",
              "      <td>-0.015901</td>\n",
              "      <td>-0.007559</td>\n",
              "      <td>-0.040955</td>\n",
              "      <td>-0.012143</td>\n",
              "      <td>-0.016097</td>\n",
              "      <td>-0.025441</td>\n",
              "      <td>-0.045142</td>\n",
              "    </tr>\n",
              "    <tr>\n",
              "      <th>job_type_Farming and Fishing</th>\n",
              "      <td>0.188149</td>\n",
              "      <td>0.153382</td>\n",
              "      <td>-0.111498</td>\n",
              "      <td>0.111498</td>\n",
              "      <td>0.001094</td>\n",
              "      <td>-0.001094</td>\n",
              "      <td>0.000758</td>\n",
              "      <td>0.025757</td>\n",
              "      <td>-0.039308</td>\n",
              "      <td>-0.066360</td>\n",
              "      <td>-0.069130</td>\n",
              "      <td>0.035751</td>\n",
              "      <td>-0.082050</td>\n",
              "      <td>-0.004637</td>\n",
              "      <td>0.213665</td>\n",
              "      <td>-0.228865</td>\n",
              "      <td>0.079072</td>\n",
              "      <td>-0.018577</td>\n",
              "      <td>0.092356</td>\n",
              "      <td>-0.010108</td>\n",
              "      <td>0.009487</td>\n",
              "      <td>-0.024878</td>\n",
              "      <td>-0.099851</td>\n",
              "      <td>-0.050250</td>\n",
              "      <td>-0.040215</td>\n",
              "      <td>1.000000</td>\n",
              "      <td>-0.070875</td>\n",
              "      <td>-0.118747</td>\n",
              "      <td>-0.056451</td>\n",
              "      <td>-0.305846</td>\n",
              "      <td>-0.090684</td>\n",
              "      <td>-0.120213</td>\n",
              "      <td>-0.189987</td>\n",
              "      <td>-0.337110</td>\n",
              "    </tr>\n",
              "    <tr>\n",
              "      <th>job_type_Formally employed Government</th>\n",
              "      <td>0.002773</td>\n",
              "      <td>-0.005634</td>\n",
              "      <td>-0.071634</td>\n",
              "      <td>0.071634</td>\n",
              "      <td>-0.028923</td>\n",
              "      <td>0.028923</td>\n",
              "      <td>-0.020162</td>\n",
              "      <td>0.037505</td>\n",
              "      <td>-0.004203</td>\n",
              "      <td>-0.016074</td>\n",
              "      <td>-0.018897</td>\n",
              "      <td>-0.012865</td>\n",
              "      <td>-0.021328</td>\n",
              "      <td>-0.002385</td>\n",
              "      <td>0.068956</td>\n",
              "      <td>-0.037515</td>\n",
              "      <td>-0.032964</td>\n",
              "      <td>-0.004384</td>\n",
              "      <td>-0.059556</td>\n",
              "      <td>0.033864</td>\n",
              "      <td>-0.113161</td>\n",
              "      <td>0.052762</td>\n",
              "      <td>0.157665</td>\n",
              "      <td>0.137649</td>\n",
              "      <td>-0.009491</td>\n",
              "      <td>-0.070875</td>\n",
              "      <td>1.000000</td>\n",
              "      <td>-0.028024</td>\n",
              "      <td>-0.013323</td>\n",
              "      <td>-0.072180</td>\n",
              "      <td>-0.021402</td>\n",
              "      <td>-0.028370</td>\n",
              "      <td>-0.044837</td>\n",
              "      <td>-0.079558</td>\n",
              "    </tr>\n",
              "    <tr>\n",
              "      <th>job_type_Formally employed Private</th>\n",
              "      <td>-0.071118</td>\n",
              "      <td>-0.061839</td>\n",
              "      <td>-0.105631</td>\n",
              "      <td>0.105631</td>\n",
              "      <td>-0.061431</td>\n",
              "      <td>0.061431</td>\n",
              "      <td>-0.034339</td>\n",
              "      <td>0.057942</td>\n",
              "      <td>0.083707</td>\n",
              "      <td>0.023546</td>\n",
              "      <td>-0.007541</td>\n",
              "      <td>-0.063936</td>\n",
              "      <td>0.040638</td>\n",
              "      <td>0.007143</td>\n",
              "      <td>-0.021872</td>\n",
              "      <td>0.037978</td>\n",
              "      <td>-0.058733</td>\n",
              "      <td>-0.001279</td>\n",
              "      <td>-0.088251</td>\n",
              "      <td>0.007143</td>\n",
              "      <td>-0.101959</td>\n",
              "      <td>0.040546</td>\n",
              "      <td>0.163577</td>\n",
              "      <td>0.190019</td>\n",
              "      <td>-0.015901</td>\n",
              "      <td>-0.118747</td>\n",
              "      <td>-0.028024</td>\n",
              "      <td>1.000000</td>\n",
              "      <td>-0.022321</td>\n",
              "      <td>-0.120934</td>\n",
              "      <td>-0.035857</td>\n",
              "      <td>-0.047533</td>\n",
              "      <td>-0.075122</td>\n",
              "      <td>-0.133296</td>\n",
              "    </tr>\n",
              "    <tr>\n",
              "      <th>job_type_Government Dependent</th>\n",
              "      <td>-0.045911</td>\n",
              "      <td>0.171570</td>\n",
              "      <td>0.058474</td>\n",
              "      <td>-0.058474</td>\n",
              "      <td>0.023854</td>\n",
              "      <td>-0.023854</td>\n",
              "      <td>-0.017664</td>\n",
              "      <td>0.058844</td>\n",
              "      <td>-0.009295</td>\n",
              "      <td>-0.005057</td>\n",
              "      <td>-0.008750</td>\n",
              "      <td>-0.046069</td>\n",
              "      <td>-0.015828</td>\n",
              "      <td>-0.001900</td>\n",
              "      <td>-0.057000</td>\n",
              "      <td>-0.020878</td>\n",
              "      <td>0.134235</td>\n",
              "      <td>0.008825</td>\n",
              "      <td>0.088691</td>\n",
              "      <td>-0.001900</td>\n",
              "      <td>-0.035540</td>\n",
              "      <td>-0.038381</td>\n",
              "      <td>-0.007983</td>\n",
              "      <td>-0.005585</td>\n",
              "      <td>-0.007559</td>\n",
              "      <td>-0.056451</td>\n",
              "      <td>-0.013323</td>\n",
              "      <td>-0.022321</td>\n",
              "      <td>1.000000</td>\n",
              "      <td>-0.057491</td>\n",
              "      <td>-0.017046</td>\n",
              "      <td>-0.022597</td>\n",
              "      <td>-0.035712</td>\n",
              "      <td>-0.063368</td>\n",
              "    </tr>\n",
              "    <tr>\n",
              "      <th>job_type_Informally employed</th>\n",
              "      <td>0.013800</td>\n",
              "      <td>-0.088909</td>\n",
              "      <td>0.008630</td>\n",
              "      <td>-0.008630</td>\n",
              "      <td>-0.052741</td>\n",
              "      <td>0.052741</td>\n",
              "      <td>0.028517</td>\n",
              "      <td>0.016077</td>\n",
              "      <td>0.037805</td>\n",
              "      <td>-0.004000</td>\n",
              "      <td>-0.036620</td>\n",
              "      <td>-0.025453</td>\n",
              "      <td>0.034857</td>\n",
              "      <td>0.005959</td>\n",
              "      <td>0.034058</td>\n",
              "      <td>-0.029152</td>\n",
              "      <td>-0.041270</td>\n",
              "      <td>0.025335</td>\n",
              "      <td>0.014676</td>\n",
              "      <td>-0.004876</td>\n",
              "      <td>0.072011</td>\n",
              "      <td>-0.055523</td>\n",
              "      <td>-0.045543</td>\n",
              "      <td>-0.062009</td>\n",
              "      <td>-0.040955</td>\n",
              "      <td>-0.305846</td>\n",
              "      <td>-0.072180</td>\n",
              "      <td>-0.120934</td>\n",
              "      <td>-0.057491</td>\n",
              "      <td>1.000000</td>\n",
              "      <td>-0.092355</td>\n",
              "      <td>-0.122427</td>\n",
              "      <td>-0.193486</td>\n",
              "      <td>-0.343319</td>\n",
              "    </tr>\n",
              "    <tr>\n",
              "      <th>job_type_No Income</th>\n",
              "      <td>-0.065799</td>\n",
              "      <td>-0.060762</td>\n",
              "      <td>0.104005</td>\n",
              "      <td>-0.104005</td>\n",
              "      <td>0.073371</td>\n",
              "      <td>-0.073371</td>\n",
              "      <td>-0.017492</td>\n",
              "      <td>-0.110274</td>\n",
              "      <td>0.005708</td>\n",
              "      <td>0.044800</td>\n",
              "      <td>0.147220</td>\n",
              "      <td>0.047336</td>\n",
              "      <td>0.092913</td>\n",
              "      <td>-0.003052</td>\n",
              "      <td>-0.076327</td>\n",
              "      <td>0.027068</td>\n",
              "      <td>-0.003326</td>\n",
              "      <td>0.017775</td>\n",
              "      <td>-0.002751</td>\n",
              "      <td>-0.003052</td>\n",
              "      <td>-0.014983</td>\n",
              "      <td>0.019619</td>\n",
              "      <td>0.019765</td>\n",
              "      <td>-0.020935</td>\n",
              "      <td>-0.012143</td>\n",
              "      <td>-0.090684</td>\n",
              "      <td>-0.021402</td>\n",
              "      <td>-0.035857</td>\n",
              "      <td>-0.017046</td>\n",
              "      <td>-0.092355</td>\n",
              "      <td>1.000000</td>\n",
              "      <td>-0.036300</td>\n",
              "      <td>-0.057369</td>\n",
              "      <td>-0.101795</td>\n",
              "    </tr>\n",
              "    <tr>\n",
              "      <th>job_type_Other Income</th>\n",
              "      <td>0.062540</td>\n",
              "      <td>-0.014441</td>\n",
              "      <td>0.006779</td>\n",
              "      <td>-0.006779</td>\n",
              "      <td>0.011221</td>\n",
              "      <td>-0.011221</td>\n",
              "      <td>-0.003700</td>\n",
              "      <td>-0.012715</td>\n",
              "      <td>0.007436</td>\n",
              "      <td>0.022416</td>\n",
              "      <td>0.017559</td>\n",
              "      <td>-0.001473</td>\n",
              "      <td>-0.012991</td>\n",
              "      <td>-0.004046</td>\n",
              "      <td>0.032817</td>\n",
              "      <td>-0.032164</td>\n",
              "      <td>0.008249</td>\n",
              "      <td>-0.001437</td>\n",
              "      <td>-0.011806</td>\n",
              "      <td>0.017986</td>\n",
              "      <td>-0.029298</td>\n",
              "      <td>0.048310</td>\n",
              "      <td>-0.005706</td>\n",
              "      <td>0.009099</td>\n",
              "      <td>-0.016097</td>\n",
              "      <td>-0.120213</td>\n",
              "      <td>-0.028370</td>\n",
              "      <td>-0.047533</td>\n",
              "      <td>-0.022597</td>\n",
              "      <td>-0.122427</td>\n",
              "      <td>-0.036300</td>\n",
              "      <td>1.000000</td>\n",
              "      <td>-0.076050</td>\n",
              "      <td>-0.134941</td>\n",
              "    </tr>\n",
              "    <tr>\n",
              "      <th>job_type_Remittance Dependent</th>\n",
              "      <td>0.008988</td>\n",
              "      <td>-0.057750</td>\n",
              "      <td>0.083016</td>\n",
              "      <td>-0.083016</td>\n",
              "      <td>0.120213</td>\n",
              "      <td>-0.120213</td>\n",
              "      <td>0.196901</td>\n",
              "      <td>-0.152801</td>\n",
              "      <td>-0.000592</td>\n",
              "      <td>0.092887</td>\n",
              "      <td>0.025841</td>\n",
              "      <td>-0.005324</td>\n",
              "      <td>-0.007907</td>\n",
              "      <td>0.001055</td>\n",
              "      <td>-0.123419</td>\n",
              "      <td>0.106721</td>\n",
              "      <td>0.041393</td>\n",
              "      <td>-0.003639</td>\n",
              "      <td>0.003326</td>\n",
              "      <td>-0.006394</td>\n",
              "      <td>-0.115503</td>\n",
              "      <td>0.125376</td>\n",
              "      <td>0.031751</td>\n",
              "      <td>0.008202</td>\n",
              "      <td>-0.025441</td>\n",
              "      <td>-0.189987</td>\n",
              "      <td>-0.044837</td>\n",
              "      <td>-0.075122</td>\n",
              "      <td>-0.035712</td>\n",
              "      <td>-0.193486</td>\n",
              "      <td>-0.057369</td>\n",
              "      <td>-0.076050</td>\n",
              "      <td>1.000000</td>\n",
              "      <td>-0.213264</td>\n",
              "    </tr>\n",
              "    <tr>\n",
              "      <th>job_type_Self employed</th>\n",
              "      <td>-0.163918</td>\n",
              "      <td>0.000237</td>\n",
              "      <td>0.055152</td>\n",
              "      <td>-0.055152</td>\n",
              "      <td>-0.035647</td>\n",
              "      <td>0.035647</td>\n",
              "      <td>-0.130721</td>\n",
              "      <td>0.060639</td>\n",
              "      <td>-0.038482</td>\n",
              "      <td>-0.028894</td>\n",
              "      <td>0.031259</td>\n",
              "      <td>0.021842</td>\n",
              "      <td>0.014848</td>\n",
              "      <td>-0.001014</td>\n",
              "      <td>-0.136498</td>\n",
              "      <td>0.176241</td>\n",
              "      <td>-0.061473</td>\n",
              "      <td>-0.009600</td>\n",
              "      <td>-0.057857</td>\n",
              "      <td>-0.001014</td>\n",
              "      <td>0.108051</td>\n",
              "      <td>-0.067158</td>\n",
              "      <td>-0.005885</td>\n",
              "      <td>-0.020169</td>\n",
              "      <td>-0.045142</td>\n",
              "      <td>-0.337110</td>\n",
              "      <td>-0.079558</td>\n",
              "      <td>-0.133296</td>\n",
              "      <td>-0.063368</td>\n",
              "      <td>-0.343319</td>\n",
              "      <td>-0.101795</td>\n",
              "      <td>-0.134941</td>\n",
              "      <td>-0.213264</td>\n",
              "      <td>1.000000</td>\n",
              "    </tr>\n",
              "  </tbody>\n",
              "</table>\n",
              "</div>"
            ],
            "text/plain": [
              "                                                 household_size  ...  job_type_Self employed\n",
              "household_size                                         1.000000  ...               -0.163918\n",
              "age_of_respondent                                     -0.119212  ...                0.000237\n",
              "cellphone_access_No                                   -0.098726  ...                0.055152\n",
              "cellphone_access_Yes                                   0.098726  ...               -0.055152\n",
              "gender_of_respondent_Female                           -0.011329  ...               -0.035647\n",
              "gender_of_respondent_Male                              0.011329  ...                0.035647\n",
              "relationship_with_head_Child                           0.204270  ...               -0.130721\n",
              "relationship_with_head_Head of Household              -0.243698  ...                0.060639\n",
              "relationship_with_head_Other non-relatives             0.021011  ...               -0.038482\n",
              "relationship_with_head_Other relative                  0.013798  ...               -0.028894\n",
              "relationship_with_head_Parent                          0.042370  ...                0.031259\n",
              "relationship_with_head_Spouse                          0.108263  ...                0.021842\n",
              "marital_status_Divorced/Seperated                     -0.129416  ...                0.014848\n",
              "marital_status_Dont know                              -0.008536  ...               -0.001014\n",
              "marital_status_Married/Living together                 0.345770  ...               -0.136498\n",
              "marital_status_Single/Never Married                   -0.182788  ...                0.176241\n",
              "marital_status_Widowed                                -0.153418  ...               -0.061473\n",
              "education_level_6                                      0.002008  ...               -0.009600\n",
              "education_level_No formal education                   -0.007311  ...               -0.057857\n",
              "education_level_Other/Dont know/RTA                    0.004614  ...               -0.001014\n",
              "education_level_Primary education                     -0.024692  ...                0.108051\n",
              "education_level_Secondary education                    0.104180  ...               -0.067158\n",
              "education_level_Tertiary education                    -0.095932  ...               -0.005885\n",
              "education_level_Vocational/Specialised training       -0.023203  ...               -0.020169\n",
              "job_type_Dont Know/Refuse to answer                    0.024107  ...               -0.045142\n",
              "job_type_Farming and Fishing                           0.188149  ...               -0.337110\n",
              "job_type_Formally employed Government                  0.002773  ...               -0.079558\n",
              "job_type_Formally employed Private                    -0.071118  ...               -0.133296\n",
              "job_type_Government Dependent                         -0.045911  ...               -0.063368\n",
              "job_type_Informally employed                           0.013800  ...               -0.343319\n",
              "job_type_No Income                                    -0.065799  ...               -0.101795\n",
              "job_type_Other Income                                  0.062540  ...               -0.134941\n",
              "job_type_Remittance Dependent                          0.008988  ...               -0.213264\n",
              "job_type_Self employed                                -0.163918  ...                1.000000\n",
              "\n",
              "[34 rows x 34 columns]"
            ]
          },
          "metadata": {
            "tags": []
          },
          "execution_count": 61
        }
      ]
    },
    {
      "cell_type": "code",
      "metadata": {
        "id": "AHxvHUoloC8i",
        "colab_type": "code",
        "outputId": "72b95a3d-5ffe-45b0-f4d6-3f04f3cfc887",
        "colab": {
          "base_uri": "https://localhost:8080/",
          "height": 493
        }
      },
      "source": [
        "sns.heatmap(X.corr())"
      ],
      "execution_count": 62,
      "outputs": [
        {
          "output_type": "execute_result",
          "data": {
            "text/plain": [
              "<matplotlib.axes._subplots.AxesSubplot at 0x7fa9204e5d68>"
            ]
          },
          "metadata": {
            "tags": []
          },
          "execution_count": 62
        },
        {
          "output_type": "display_data",
          "data": {
            "image/png": "[encoded data removed]",
            "text/plain": [
              "<Figure size 432x288 with 2 Axes>"
            ]
          },
          "metadata": {
            "tags": []
          }
        }
      ]
    },
    {
      "cell_type": "code",
      "metadata": {
        "id": "C0RMADsZoJtm",
        "colab_type": "code",
        "colab": {}
      },
      "source": [
        "#We then create and train the model by fitting the linear regression model on the training data.\n",
        "lm = LinearRegression()\n",
        "results = lm.fit(X_train,y_train)"
      ],
      "execution_count": 0,
      "outputs": []
    },
    {
      "cell_type": "code",
      "metadata": {
        "id": "I4UQ20ypofS2",
        "colab_type": "code",
        "colab": {}
      },
      "source": [
        "#Grabbing predictions off the test set and see how well it did\n",
        "predictions = lm.predict(X_test)"
      ],
      "execution_count": 0,
      "outputs": []
    },
    {
      "cell_type": "code",
      "metadata": {
        "id": "yOP9mQnFo29g",
        "colab_type": "code",
        "outputId": "af975974-d392-483a-ffbc-d81dbecb99ec",
        "colab": {
          "base_uri": "https://localhost:8080/",
          "height": 1000
        }
      },
      "source": [
        "\n",
        "X2 = sm.add_constant(X.values)  \n",
        "model = sm.OLS(y, X2).fit()  \n",
        "print(model.summary())"
      ],
      "execution_count": 65,
      "outputs": [
        {
          "output_type": "stream",
          "text": [
            "                            OLS Regression Results                            \n",
            "==============================================================================\n",
            "Dep. Variable:                      y   R-squared:                       0.241\n",
            "Model:                            OLS   Adj. R-squared:                  0.240\n",
            "Method:                 Least Squares   F-statistic:                     266.6\n",
            "Date:                Fri, 16 Aug 2019   Prob (F-statistic):               0.00\n",
            "Time:                        11:15:20   Log-Likelihood:                -13243.\n",
            "No. Observations:               23524   AIC:                         2.654e+04\n",
            "Df Residuals:                   23495   BIC:                         2.678e+04\n",
            "Df Model:                          28                                         \n",
            "Covariance Type:            nonrobust                                         \n",
            "==============================================================================\n",
            "                 coef    std err          t      P>|t|      [0.025      0.975]\n",
            "------------------------------------------------------------------------------\n",
            "const          0.2255      0.016     14.316      0.000       0.195       0.256\n",
            "x1            -0.0326      0.001    -22.724      0.000      -0.035      -0.030\n",
            "x2             0.0011      0.000      4.688      0.000       0.001       0.001\n",
            "x3             0.1378      0.009     15.790      0.000       0.121       0.155\n",
            "x4             0.0876      0.008     10.398      0.000       0.071       0.104\n",
            "x5             0.1154      0.009     13.525      0.000       0.099       0.132\n",
            "x6             0.1101      0.009     12.403      0.000       0.093       0.127\n",
            "x7            -0.1100      0.011    -10.274      0.000      -0.131      -0.089\n",
            "x8             0.0308      0.009      3.580      0.000       0.014       0.048\n",
            "x9             0.1406      0.027      5.275      0.000       0.088       0.193\n",
            "x10            0.0136      0.015      0.892      0.372      -0.016       0.043\n",
            "x11            0.1152      0.013      8.876      0.000       0.090       0.141\n",
            "x12            0.0353      0.010      3.665      0.000       0.016       0.054\n",
            "x13           -0.0251      0.029     -0.864      0.387      -0.082       0.032\n",
            "x14            0.2236      0.123      1.823      0.068      -0.017       0.464\n",
            "x15           -0.0506      0.028     -1.779      0.075      -0.106       0.005\n",
            "x16            0.1376      0.028      4.865      0.000       0.082       0.193\n",
            "x17           -0.0601      0.029     -2.051      0.040      -0.118      -0.003\n",
            "x18            0.0070      0.074      0.095      0.924      -0.138       0.152\n",
            "x19           -0.0691      0.024     -2.844      0.004      -0.117      -0.021\n",
            "x20            0.1573      0.131      1.204      0.229      -0.099       0.413\n",
            "x21           -0.0288      0.024     -1.215      0.224      -0.075       0.018\n",
            "x22            0.0570      0.024      2.361      0.018       0.010       0.104\n",
            "x23            0.0425      0.026      1.643      0.100      -0.008       0.093\n",
            "x24            0.0596      0.027      2.223      0.026       0.007       0.112\n",
            "x25           -0.0972      0.035     -2.809      0.005      -0.165      -0.029\n",
            "x26           -0.2266      0.008    -27.567      0.000      -0.243      -0.210\n",
            "x27            0.1656      0.021      7.921      0.000       0.125       0.207\n",
            "x28            0.0868      0.014      6.378      0.000       0.060       0.113\n",
            "x29           -0.0306      0.026     -1.195      0.232      -0.081       0.020\n",
            "x30           -0.0375      0.008     -4.718      0.000      -0.053      -0.022\n",
            "x31            0.0589      0.017      3.521      0.000       0.026       0.092\n",
            "x32            0.0560      0.013      4.286      0.000       0.030       0.082\n",
            "x33            0.0639      0.010      6.482      0.000       0.045       0.083\n",
            "x34            0.1861      0.008     23.836      0.000       0.171       0.201\n",
            "==============================================================================\n",
            "Omnibus:                     4281.115   Durbin-Watson:                   1.909\n",
            "Prob(Omnibus):                  0.000   Jarque-Bera (JB):             1074.025\n",
            "Skew:                           0.223   Prob(JB):                    6.00e-234\n",
            "Kurtosis:                       2.053   Cond. No.                     1.76e+16\n",
            "==============================================================================\n",
            "\n",
            "Warnings:\n",
            "[1] Standard Errors assume that the covariance matrix of the errors is correctly specified.\n",
            "[2] The smallest eigenvalue is 1.35e-25. This might indicate that there are\n",
            "strong multicollinearity problems or that the design matrix is singular.\n"
          ],
          "name": "stdout"
        }
      ]
    },
    {
      "cell_type": "code",
      "metadata": {
        "id": "xaA0QHxI182w",
        "colab_type": "code",
        "colab": {}
      },
      "source": [
        "#this model is not appropriate for modelling this kind of data. having assumed that there exists a linear relationship the relationship is too weak and absent in most variables \n",
        "#therefore yields a very poor model looking at the rsquared and adjusted -squared "
      ],
      "execution_count": 0,
      "outputs": []
    },
    {
      "cell_type": "markdown",
      "metadata": {
        "id": "BxE1lynYnKps",
        "colab_type": "text"
      },
      "source": [
        "**Linear** **Discriminant** **Analysis**"
      ]
    },
    {
      "cell_type": "code",
      "metadata": {
        "id": "SqoirUU7cR6I",
        "colab_type": "code",
        "colab": {
          "base_uri": "https://localhost:8080/",
          "height": 51
        },
        "outputId": "604026c4-3cc0-4f97-8d5e-459402a03d7f"
      },
      "source": [
        "from sklearn.discriminant_analysis import LinearDiscriminantAnalysis as LDA\n",
        "lda = LDA(n_components=1)\n",
        "X_train = lda.fit_transform(X_train, y_train)\n",
        "X_test = lda.transform(X_test)"
      ],
      "execution_count": 67,
      "outputs": [
        {
          "output_type": "stream",
          "text": [
            "/usr/local/lib/python3.6/dist-packages/sklearn/discriminant_analysis.py:388: UserWarning: Variables are collinear.\n",
            "  warnings.warn(\"Variables are collinear.\")\n"
          ],
          "name": "stderr"
        }
      ]
    },
    {
      "cell_type": "code",
      "metadata": {
        "id": "vNmqlOGEca6p",
        "colab_type": "code",
        "outputId": "d696bdb7-1961-4e69-cfe2-9c748b06a09c",
        "colab": {
          "base_uri": "https://localhost:8080/",
          "height": 71
        }
      },
      "source": [
        "# Training and Making Predictions\n",
        "# We will use the random forest classifier to evaluate the performance of a PCA-reduced algorithms as shown\n",
        "# \n",
        "\n",
        "from sklearn.ensemble import RandomForestClassifier\n",
        "\n",
        "classifier = RandomForestClassifier(max_depth=2, random_state=0)\n",
        "classifier.fit(X_train, y_train)\n",
        "y_pred = classifier.predict(X_test)"
      ],
      "execution_count": 68,
      "outputs": [
        {
          "output_type": "stream",
          "text": [
            "/usr/local/lib/python3.6/dist-packages/sklearn/ensemble/forest.py:245: FutureWarning: The default value of n_estimators will change from 10 in version 0.20 to 100 in 0.22.\n",
            "  \"10 in version 0.20 to 100 in 0.22.\", FutureWarning)\n"
          ],
          "name": "stderr"
        }
      ]
    },
    {
      "cell_type": "code",
      "metadata": {
        "id": "fvRHuYEEcmbA",
        "colab_type": "code",
        "outputId": "c0fc9562-581d-4578-cf4a-c140fe74d131",
        "colab": {
          "base_uri": "https://localhost:8080/",
          "height": 68
        }
      },
      "source": [
        "# Evaluating the Performance\n",
        "# As always, the last step is to evaluate performance of the algorithm \n",
        "# with the help of a confusion matrix and find the accuracy of the prediction.\n",
        "# \n",
        "\n",
        "from sklearn.metrics import confusion_matrix\n",
        "from sklearn.metrics import accuracy_score\n",
        "\n",
        "cm = confusion_matrix(y_test, y_pred)\n",
        "print(cm)\n",
        "print('Accuracy' + str(accuracy_score(y_test, y_pred)))"
      ],
      "execution_count": 69,
      "outputs": [
        {
          "output_type": "stream",
          "text": [
            "[[2232  644]\n",
            " [ 639 1190]]\n",
            "Accuracy0.7273113708820403\n"
          ],
          "name": "stdout"
        }
      ]
    },
    {
      "cell_type": "code",
      "metadata": {
        "id": "g8-C_Se3dC5U",
        "colab_type": "code",
        "colab": {}
      },
      "source": [
        "#we can also try pca\n",
        "from sklearn.decomposition import PCA\n",
        "\n",
        "pca = PCA()\n",
        "X_train = pca.fit_transform(X_train)\n",
        "X_test = pca.transform(X_test)"
      ],
      "execution_count": 0,
      "outputs": []
    },
    {
      "cell_type": "code",
      "metadata": {
        "id": "hbP4a9AWdPFb",
        "colab_type": "code",
        "colab": {
          "base_uri": "https://localhost:8080/",
          "height": 357
        },
        "outputId": "438854e4-c4aa-47db-dd6f-b3263bfc16ee"
      },
      "source": [
        "# Using 1 Principal Component\n",
        "# Let's first try to use 1 principal component to train our algorithm. To do so, execute the following code:\n",
        "# \n",
        "from sklearn.decomposition import PCA\n",
        "\n",
        "pca = PCA(n_components=23)\n",
        "X_train = pca.fit_transform(X_train)\n",
        "X_test = pca.transform(X_test)"
      ],
      "execution_count": 71,
      "outputs": [
        {
          "output_type": "error",
          "ename": "ValueError",
          "evalue": "ignored",
          "traceback": [
            "\u001b[0;31m---------------------------------------------------------------------------\u001b[0m",
            "\u001b[0;31mValueError\u001b[0m                                Traceback (most recent call last)",
            "\u001b[0;32m<ipython-input-71-ae96890b8134>\u001b[0m in \u001b[0;36m<module>\u001b[0;34m()\u001b[0m\n\u001b[1;32m      2\u001b[0m \u001b[0;34m\u001b[0m\u001b[0m\n\u001b[1;32m      3\u001b[0m \u001b[0mpca\u001b[0m \u001b[0;34m=\u001b[0m \u001b[0mPCA\u001b[0m\u001b[0;34m(\u001b[0m\u001b[0mn_components\u001b[0m\u001b[0;34m=\u001b[0m\u001b[0;36m23\u001b[0m\u001b[0;34m)\u001b[0m\u001b[0;34m\u001b[0m\u001b[0;34m\u001b[0m\u001b[0m\n\u001b[0;32m----> 4\u001b[0;31m \u001b[0mX_train\u001b[0m \u001b[0;34m=\u001b[0m \u001b[0mpca\u001b[0m\u001b[0;34m.\u001b[0m\u001b[0mfit_transform\u001b[0m\u001b[0;34m(\u001b[0m\u001b[0mX_train\u001b[0m\u001b[0;34m)\u001b[0m\u001b[0;34m\u001b[0m\u001b[0;34m\u001b[0m\u001b[0m\n\u001b[0m\u001b[1;32m      5\u001b[0m \u001b[0mX_test\u001b[0m \u001b[0;34m=\u001b[0m \u001b[0mpca\u001b[0m\u001b[0;34m.\u001b[0m\u001b[0mtransform\u001b[0m\u001b[0;34m(\u001b[0m\u001b[0mX_test\u001b[0m\u001b[0;34m)\u001b[0m\u001b[0;34m\u001b[0m\u001b[0;34m\u001b[0m\u001b[0m\n",
            "\u001b[0;32m/usr/local/lib/python3.6/dist-packages/sklearn/decomposition/pca.py\u001b[0m in \u001b[0;36mfit_transform\u001b[0;34m(self, X, y)\u001b[0m\n\u001b[1;32m    358\u001b[0m \u001b[0;34m\u001b[0m\u001b[0m\n\u001b[1;32m    359\u001b[0m         \"\"\"\n\u001b[0;32m--> 360\u001b[0;31m         \u001b[0mU\u001b[0m\u001b[0;34m,\u001b[0m \u001b[0mS\u001b[0m\u001b[0;34m,\u001b[0m \u001b[0mV\u001b[0m \u001b[0;34m=\u001b[0m \u001b[0mself\u001b[0m\u001b[0;34m.\u001b[0m\u001b[0m_fit\u001b[0m\u001b[0;34m(\u001b[0m\u001b[0mX\u001b[0m\u001b[0;34m)\u001b[0m\u001b[0;34m\u001b[0m\u001b[0;34m\u001b[0m\u001b[0m\n\u001b[0m\u001b[1;32m    361\u001b[0m         \u001b[0mU\u001b[0m \u001b[0;34m=\u001b[0m \u001b[0mU\u001b[0m\u001b[0;34m[\u001b[0m\u001b[0;34m:\u001b[0m\u001b[0;34m,\u001b[0m \u001b[0;34m:\u001b[0m\u001b[0mself\u001b[0m\u001b[0;34m.\u001b[0m\u001b[0mn_components_\u001b[0m\u001b[0;34m]\u001b[0m\u001b[0;34m\u001b[0m\u001b[0;34m\u001b[0m\u001b[0m\n\u001b[1;32m    362\u001b[0m \u001b[0;34m\u001b[0m\u001b[0m\n",
            "\u001b[0;32m/usr/local/lib/python3.6/dist-packages/sklearn/decomposition/pca.py\u001b[0m in \u001b[0;36m_fit\u001b[0;34m(self, X)\u001b[0m\n\u001b[1;32m    405\u001b[0m         \u001b[0;31m# Call different fits for either full or truncated SVD\u001b[0m\u001b[0;34m\u001b[0m\u001b[0;34m\u001b[0m\u001b[0;34m\u001b[0m\u001b[0m\n\u001b[1;32m    406\u001b[0m         \u001b[0;32mif\u001b[0m \u001b[0mself\u001b[0m\u001b[0;34m.\u001b[0m\u001b[0m_fit_svd_solver\u001b[0m \u001b[0;34m==\u001b[0m \u001b[0;34m'full'\u001b[0m\u001b[0;34m:\u001b[0m\u001b[0;34m\u001b[0m\u001b[0;34m\u001b[0m\u001b[0m\n\u001b[0;32m--> 407\u001b[0;31m             \u001b[0;32mreturn\u001b[0m \u001b[0mself\u001b[0m\u001b[0;34m.\u001b[0m\u001b[0m_fit_full\u001b[0m\u001b[0;34m(\u001b[0m\u001b[0mX\u001b[0m\u001b[0;34m,\u001b[0m \u001b[0mn_components\u001b[0m\u001b[0;34m)\u001b[0m\u001b[0;34m\u001b[0m\u001b[0;34m\u001b[0m\u001b[0m\n\u001b[0m\u001b[1;32m    408\u001b[0m         \u001b[0;32melif\u001b[0m \u001b[0mself\u001b[0m\u001b[0;34m.\u001b[0m\u001b[0m_fit_svd_solver\u001b[0m \u001b[0;32min\u001b[0m \u001b[0;34m[\u001b[0m\u001b[0;34m'arpack'\u001b[0m\u001b[0;34m,\u001b[0m \u001b[0;34m'randomized'\u001b[0m\u001b[0;34m]\u001b[0m\u001b[0;34m:\u001b[0m\u001b[0;34m\u001b[0m\u001b[0;34m\u001b[0m\u001b[0m\n\u001b[1;32m    409\u001b[0m             \u001b[0;32mreturn\u001b[0m \u001b[0mself\u001b[0m\u001b[0;34m.\u001b[0m\u001b[0m_fit_truncated\u001b[0m\u001b[0;34m(\u001b[0m\u001b[0mX\u001b[0m\u001b[0;34m,\u001b[0m \u001b[0mn_components\u001b[0m\u001b[0;34m,\u001b[0m \u001b[0mself\u001b[0m\u001b[0;34m.\u001b[0m\u001b[0m_fit_svd_solver\u001b[0m\u001b[0;34m)\u001b[0m\u001b[0;34m\u001b[0m\u001b[0;34m\u001b[0m\u001b[0m\n",
            "\u001b[0;32m/usr/local/lib/python3.6/dist-packages/sklearn/decomposition/pca.py\u001b[0m in \u001b[0;36m_fit_full\u001b[0;34m(self, X, n_components)\u001b[0m\n\u001b[1;32m    424\u001b[0m                              \u001b[0;34m\"min(n_samples, n_features)=%r with \"\u001b[0m\u001b[0;34m\u001b[0m\u001b[0;34m\u001b[0m\u001b[0m\n\u001b[1;32m    425\u001b[0m                              \u001b[0;34m\"svd_solver='full'\"\u001b[0m\u001b[0;34m\u001b[0m\u001b[0;34m\u001b[0m\u001b[0m\n\u001b[0;32m--> 426\u001b[0;31m                              % (n_components, min(n_samples, n_features)))\n\u001b[0m\u001b[1;32m    427\u001b[0m         \u001b[0;32melif\u001b[0m \u001b[0mn_components\u001b[0m \u001b[0;34m>=\u001b[0m \u001b[0;36m1\u001b[0m\u001b[0;34m:\u001b[0m\u001b[0;34m\u001b[0m\u001b[0;34m\u001b[0m\u001b[0m\n\u001b[1;32m    428\u001b[0m             \u001b[0;32mif\u001b[0m \u001b[0;32mnot\u001b[0m \u001b[0misinstance\u001b[0m\u001b[0;34m(\u001b[0m\u001b[0mn_components\u001b[0m\u001b[0;34m,\u001b[0m \u001b[0;34m(\u001b[0m\u001b[0mnumbers\u001b[0m\u001b[0;34m.\u001b[0m\u001b[0mIntegral\u001b[0m\u001b[0;34m,\u001b[0m \u001b[0mnp\u001b[0m\u001b[0;34m.\u001b[0m\u001b[0minteger\u001b[0m\u001b[0;34m)\u001b[0m\u001b[0;34m)\u001b[0m\u001b[0;34m:\u001b[0m\u001b[0;34m\u001b[0m\u001b[0;34m\u001b[0m\u001b[0m\n",
            "\u001b[0;31mValueError\u001b[0m: n_components=23 must be between 0 and min(n_samples, n_features)=1 with svd_solver='full'"
          ]
        }
      ]
    },
    {
      "cell_type": "code",
      "metadata": {
        "id": "8HSrb_9Sdfxz",
        "colab_type": "code",
        "colab": {}
      },
      "source": [
        "#Training and Making Predictions\n",
        "# In this case we'll use random forest classification for making the predictions.\n",
        "# \n",
        "from sklearn.ensemble import RandomForestClassifier\n",
        "\n",
        "classifier = RandomForestClassifier(max_depth=2, random_state=0)\n",
        "classifier.fit(X_train, y_train)\n",
        "\n",
        "# Predicting the Test set results\n",
        "y_pred = classifier.predict(X_test)"
      ],
      "execution_count": 0,
      "outputs": []
    },
    {
      "cell_type": "code",
      "metadata": {
        "id": "alPiVph2drZo",
        "colab_type": "code",
        "colab": {}
      },
      "source": [
        "#Performance Evaluation\n",
        "# \n",
        "from sklearn.metrics import confusion_matrix\n",
        "from sklearn.metrics import accuracy_score\n",
        "\n",
        "cm = confusion_matrix(y_test, y_pred)\n",
        "print(cm)\n",
        "print(accuracy_score(y_test, y_pred))\n"
      ],
      "execution_count": 0,
      "outputs": []
    },
    {
      "cell_type": "code",
      "metadata": {
        "id": "NR0SsvSBdfts",
        "colab_type": "code",
        "colab": {}
      },
      "source": [
        "#from the above methods we attained an accuracy of 88%\n",
        "#our data was sufficient.\n",
        "#the data was relevant for our prediction"
      ],
      "execution_count": 0,
      "outputs": []
    },
    {
      "cell_type": "code",
      "metadata": {
        "id": "Z5jq2B63dfrX",
        "colab_type": "code",
        "colab": {}
      },
      "source": [
        ""
      ],
      "execution_count": 0,
      "outputs": []
    }
  ]
}